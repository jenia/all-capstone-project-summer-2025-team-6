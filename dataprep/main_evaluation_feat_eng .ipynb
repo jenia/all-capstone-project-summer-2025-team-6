{
 "cells": [
  {
   "cell_type": "code",
   "execution_count": null,
   "id": "bba173cd",
   "metadata": {},
   "outputs": [],
   "source": [
    "\n",
    "import pandas as pd\n",
    "import geopandas as gpd\n",
    "from shapely.geometry import Point\n",
    "from pathlib import Path\n",
    "import matplotlib.pyplot as plt\n",
    "import seaborn as sns\n",
    "import itertools\n",
    "from sklearn.preprocessing import MinMaxScaler"
   ]
  },
  {
   "cell_type": "code",
   "execution_count": null,
   "id": "c29fdcfb",
   "metadata": {},
   "outputs": [
    {
     "name": "stdout",
     "output_type": "stream",
     "text": [
      "[eval exists?] True \t➜ C:\\Users\\mirei\\OneDrive\\Desktop\\all-capstone-project-summer-2025-team-6-main\\datasets\\cleaned\\eval_cleaned_feat_eng.csv\n",
      "[addr exists?] True \t➜ C:\\Users\\mirei\\OneDrive\\Desktop\\all-capstone-project-summer-2025-team-6-main\\datasets\\cleaned\\adresses.csv\n",
      "[inc exists?]  True \t➜ C:\\Users\\mirei\\OneDrive\\Desktop\\all-capstone-project-summer-2025-team-6-main\\datasets\\cleaned\\interventions_cleaned_with_has_fire.csv\n"
     ]
    }
   ],
   "source": [
    "\n",
    "# -------------------------------\n",
    "# 📁 Load Data\n",
    "# -------------------------------\n",
    "ROOT = Path.cwd().parents[1]\n",
    "\n",
    "EVAL_PATH = ROOT /  \"datasets\" / \"cleaned\" / \"eval_cleaned_feat_eng.csv\"\n",
    "ADDR_PATH = ROOT / \"datasets\" / \"cleaned\" / \"adresses.csv\"\n",
    "INC_PATH  = ROOT / \"datasets\" / \"cleaned\" / \"interventions_cleaned_with_has_fire.csv\"\n",
    "\n",
    "print(\"[eval exists?]\", EVAL_PATH.exists(), \"\\t➜\", EVAL_PATH)\n",
    "print(\"[addr exists?]\", ADDR_PATH.exists(), \"\\t➜\", ADDR_PATH)\n",
    "print(\"[inc exists?] \", INC_PATH.exists(),  \"\\t➜\", INC_PATH)\n"
   ]
  },
  {
   "cell_type": "code",
   "execution_count": null,
   "id": "517c7368",
   "metadata": {},
   "outputs": [],
   "source": [
    "\n",
    "# Load CSVs\n",
    "if not EVAL_PATH.exists():\n",
    "    raise FileNotFoundError(f\"❌ EVAL file not found at {EVAL_PATH}\")\n"
   ]
  },
  {
   "cell_type": "code",
   "execution_count": 6,
   "id": "d3be5774",
   "metadata": {},
   "outputs": [],
   "source": [
    "\n",
    "# -------------------------------\n",
    "# 🧹 Preprocessing\n",
    "# -------------------------------\n",
    "eval_df = pd.read_csv(EVAL_PATH, dtype=str)\n",
    "addr_df = pd.read_csv(ADDR_PATH, dtype=str)\n",
    "inc_df  = pd.read_csv(INC_PATH)"
   ]
  },
  {
   "cell_type": "code",
   "execution_count": 7,
   "id": "32f6c9fb",
   "metadata": {},
   "outputs": [],
   "source": [
    "\n",
    "# Clean evaluation\n",
    "eval_df[\"CIVIQUE_DEBUT\"] = eval_df[\"CIVIQUE_DEBUT\"].str.strip().astype(int)\n",
    "eval_df[\"NOM_RUE_CLEAN\"] = eval_df[\"NOM_RUE\"].str.extract(r\"^(.*?)(?:\\s+\\(.*)?$\")[0].str.lower().str.strip()\n",
    "original_eval_df = eval_df.copy()\n"
   ]
  },
  {
   "cell_type": "code",
   "execution_count": 8,
   "id": "e78c3948",
   "metadata": {},
   "outputs": [],
   "source": [
    "\n",
    "# Clean addresses\n",
    "addr_df[\"ADDR_DE\"] = addr_df[\"ADDR_DE\"].astype(int)\n",
    "addr_df[\"NOM_RUE_CLEAN\"] = (\n",
    "    addr_df[\"GENERIQUE\"].str.lower().str.strip() + \" \" +\n",
    "    addr_df[\"SPECIFIQUE\"].str.lower().str.strip()\n",
    ")"
   ]
  },
  {
   "cell_type": "code",
   "execution_count": 9,
   "id": "d7b318ad",
   "metadata": {},
   "outputs": [],
   "source": [
    "# Merge to get coordinates\n",
    "eval_with_coords = pd.merge(eval_df, addr_df,\n",
    "                            left_on=[\"CIVIQUE_DEBUT\", \"NOM_RUE_CLEAN\"],\n",
    "                            right_on=[\"ADDR_DE\", \"NOM_RUE_CLEAN\"],\n",
    "                            how=\"left\")\n",
    "eval_with_coords = eval_with_coords.dropna(subset=[\"LONGITUDE\", \"LATITUDE\"])\n"
   ]
  },
  {
   "cell_type": "code",
   "execution_count": 10,
   "id": "ce025fe1",
   "metadata": {},
   "outputs": [],
   "source": [
    "# Convert to GeoDataFrame\n",
    "eval_gdf = gpd.GeoDataFrame(\n",
    "    eval_with_coords,\n",
    "    geometry=gpd.points_from_xy(eval_with_coords[\"LONGITUDE\"].astype(float),\n",
    "                                 eval_with_coords[\"LATITUDE\"].astype(float)),\n",
    "    crs=\"EPSG:4326\"\n",
    ")"
   ]
  },
  {
   "cell_type": "code",
   "execution_count": 11,
   "id": "15368ba3",
   "metadata": {},
   "outputs": [],
   "source": [
    "\n",
    "# Clean & filter fire incidents\n",
    "inc_df = inc_df[inc_df[\"DESCRIPTION_GROUPE\"].str.contains(\"INCENDIE\", case=False, na=False)]\n",
    "inc_df[\"CREATION_DATE_TIME\"] = pd.to_datetime(inc_df[\"CREATION_DATE_TIME\"], errors='coerce')\n",
    "incident_gdf = gpd.GeoDataFrame(\n",
    "    inc_df,\n",
    "    geometry=gpd.points_from_xy(inc_df[\"LONGITUDE\"], inc_df[\"LATITUDE\"]),\n",
    "    crs=\"EPSG:4326\"\n",
    ")"
   ]
  },
  {
   "cell_type": "code",
   "execution_count": 12,
   "id": "fc78ca1f",
   "metadata": {},
   "outputs": [],
   "source": [
    "# Project to meters for spatial join\n",
    "eval_gdf = eval_gdf.to_crs(epsg=32188)\n",
    "incident_gdf = incident_gdf.to_crs(epsg=32188)\n",
    "incident_gdf[\"buffer\"] = incident_gdf.geometry.buffer(100)\n",
    "incident_buffer_gdf = incident_gdf.set_geometry(\"buffer\")"
   ]
  },
  {
   "cell_type": "code",
   "execution_count": 13,
   "id": "8d6d72b0",
   "metadata": {},
   "outputs": [],
   "source": [
    "# Spatial join to assign fires to properties\n",
    "joined = gpd.sjoin(eval_gdf, incident_buffer_gdf, predicate='within', how='inner')\n",
    "joined = joined.rename(columns={\"CREATION_DATE_TIME\": \"fire_date\"})\n",
    "joined[\"fire\"] = True\n"
   ]
  },
  {
   "cell_type": "code",
   "execution_count": 14,
   "id": "bddb03b9",
   "metadata": {},
   "outputs": [],
   "source": [
    "\n",
    "# Drop irrelevant columns\n",
    "drop_cols = [\n",
    "    \"CIVIQUE_DEBUT\", \"CIVIQUE_FIN\", \"NOM_RUE\", \"LETTRE_DEBUT\", \"LETTRE_FIN\",\n",
    "    \"MATRICULE83\", \"NOM_RUE_CLEAN\", \"ADDR_DE\", \"X\", \"Y\", \"geometry\",\n",
    "    \"geometry_right\", \"index_right\", \"DESCRIPTION_GROUPE\", \"INCIDENT_TYPE_DESC\",\n",
    "    \"DIVISION\", \"NOM_VILLE\", \"NOM_ARROND\"\n",
    "]\n",
    "joined.drop(columns=drop_cols, inplace=True, errors=\"ignore\")\n"
   ]
  },
  {
   "cell_type": "code",
   "execution_count": 15,
   "id": "09259b0d",
   "metadata": {},
   "outputs": [],
   "source": [
    "# Extract relevant fire information\n",
    "fire_records = joined[[\"ID_UEV\", \"fire_date\", \"NOMBRE_UNITES\", \"CASERNE\"]].copy()\n",
    "fire_records[\"fire\"] = True\n"
   ]
  },
  {
   "cell_type": "code",
   "execution_count": 16,
   "id": "2d5b9716",
   "metadata": {},
   "outputs": [],
   "source": [
    "# Merge fire info back into original evaluation\n",
    "data = pd.merge(original_eval_df, fire_records, on=\"ID_UEV\", how=\"left\")\n",
    "data[\"fire\"] = data[\"fire\"].fillna(False)\n",
    "data[\"fire_date\"] = pd.to_datetime(data[\"fire_date\"], errors=\"coerce\")\n"
   ]
  },
  {
   "cell_type": "code",
   "execution_count": 17,
   "id": "9ce76db7",
   "metadata": {},
   "outputs": [],
   "source": [
    "# Reattach coordinates\n",
    "addr_coords = addr_df[[\"ADDR_DE\", \"NOM_RUE_CLEAN\", \"LONGITUDE\", \"LATITUDE\"]]\n",
    "data = pd.merge(data,\n",
    "                addr_coords,\n",
    "                left_on=[\"CIVIQUE_DEBUT\", \"NOM_RUE_CLEAN\"],\n",
    "                right_on=[\"ADDR_DE\", \"NOM_RUE_CLEAN\"],\n",
    "                how=\"left\")"
   ]
  },
  {
   "cell_type": "code",
   "execution_count": 18,
   "id": "190a74b7",
   "metadata": {},
   "outputs": [],
   "source": [
    "# --------------------------------------\n",
    "# ⏳ Time-Related Feature Engineering\n",
    "# --------------------------------------\n",
    "data[\"fire_month\"] = data[\"fire_date\"].dt.month\n",
    "data[\"fire_year\"] = data[\"fire_date\"].dt.year"
   ]
  },
  {
   "cell_type": "code",
   "execution_count": 19,
   "id": "ef8a184c",
   "metadata": {},
   "outputs": [],
   "source": [
    "def get_season(month):\n",
    "    if pd.isnull(month): return None\n",
    "    if month in [12, 1, 2]: return \"Winter\"\n",
    "    if month in [3, 4, 5]: return \"Spring\"\n",
    "    if month in [6, 7, 8]: return \"Summer\"\n",
    "    return \"Fall\""
   ]
  },
  {
   "cell_type": "code",
   "execution_count": 20,
   "id": "70f417da",
   "metadata": {},
   "outputs": [],
   "source": [
    "data[\"fire_season\"] = data[\"fire_month\"].apply(get_season)\n",
    "data[\"year_month\"] = data[\"fire_date\"].dt.to_period(\"M\").astype(str)\n"
   ]
  },
  {
   "cell_type": "code",
   "execution_count": 21,
   "id": "cc008c23",
   "metadata": {},
   "outputs": [],
   "source": [
    "# Save enriched dataset\n",
    "#data.to_csv(\"evaluation_fire_coordinates_date_feat_eng.csv\", index=False)\n"
   ]
  },
  {
   "cell_type": "code",
   "execution_count": 22,
   "id": "1c9cf5d6",
   "metadata": {},
   "outputs": [],
   "source": [
    "# --------------------------------------\n",
    "# 📊 FIRE_COUNT_LAST_YEAR_ZONE + RATE\n",
    "# --------------------------------------\n",
    "data[\"NO_ARROND_ILE_CUM\"] = data[\"NO_ARROND_ILE_CUM\"].astype(str)\n",
    "fires_2024 = data[(data[\"fire\"] == True) & (data[\"fire_date\"].dt.year == 2024)].copy()\n",
    "fire_count = fires_2024.groupby(\"NO_ARROND_ILE_CUM\").size().reset_index(name=\"FIRE_COUNT_LAST_YEAR_ZONE\")\n",
    "building_count = data.groupby(\"NO_ARROND_ILE_CUM\").size().reset_index(name=\"BUILDING_COUNT\")\n"
   ]
  },
  {
   "cell_type": "code",
   "execution_count": 23,
   "id": "e01333ef",
   "metadata": {},
   "outputs": [],
   "source": [
    "# Merge zone stats\n",
    "data = data.merge(fire_count, on=\"NO_ARROND_ILE_CUM\", how=\"left\")\n",
    "data = data.merge(building_count, on=\"NO_ARROND_ILE_CUM\", how=\"left\")\n",
    "data[\"FIRE_COUNT_LAST_YEAR_ZONE\"] = data[\"FIRE_COUNT_LAST_YEAR_ZONE\"].fillna(0)\n",
    "data[\"FIRE_RATE_ZONE\"] = (data[\"FIRE_COUNT_LAST_YEAR_ZONE\"] / data[\"BUILDING_COUNT\"]).fillna(0)\n"
   ]
  },
  {
   "cell_type": "code",
   "execution_count": 24,
   "id": "3e667b2e",
   "metadata": {},
   "outputs": [],
   "source": [
    "# Normalize\n",
    "scaler = MinMaxScaler()\n",
    "data[[\"FIRE_COUNT_LAST_YEAR_ZONE_NORM\", \"FIRE_RATE_ZONE_NORM\"]] = scaler.fit_transform(\n",
    "    data[[\"FIRE_COUNT_LAST_YEAR_ZONE\", \"FIRE_RATE_ZONE\"]]\n",
    ")"
   ]
  },
  {
   "cell_type": "code",
   "execution_count": 25,
   "id": "96d5b0f4",
   "metadata": {},
   "outputs": [
    {
     "name": "stdout",
     "output_type": "stream",
     "text": [
      "✅  file saved: eval_fire_coordinates_date_feat_eng_1.csv\n"
     ]
    }
   ],
   "source": [
    "# Save version\n",
    "data.to_csv(\"eval_fire_coordinates_date_feat_eng_1.csv\", index=False)\n",
    "print(\"✅  file saved: eval_fire_coordinates_date_feat_eng_1.csv\")\n"
   ]
  },
  {
   "cell_type": "code",
   "execution_count": 26,
   "id": "43dd126c",
   "metadata": {},
   "outputs": [
    {
     "data": {
      "text/html": [
       "<div>\n",
       "<style scoped>\n",
       "    .dataframe tbody tr th:only-of-type {\n",
       "        vertical-align: middle;\n",
       "    }\n",
       "\n",
       "    .dataframe tbody tr th {\n",
       "        vertical-align: top;\n",
       "    }\n",
       "\n",
       "    .dataframe thead th {\n",
       "        text-align: right;\n",
       "    }\n",
       "</style>\n",
       "<table border=\"1\" class=\"dataframe\">\n",
       "  <thead>\n",
       "    <tr style=\"text-align: right;\">\n",
       "      <th></th>\n",
       "      <th>ID_UEV</th>\n",
       "      <th>CIVIQUE_DEBUT</th>\n",
       "      <th>CIVIQUE_FIN</th>\n",
       "      <th>NOM_RUE</th>\n",
       "      <th>SUITE_DEBUT</th>\n",
       "      <th>MUNICIPALITE</th>\n",
       "      <th>ETAGE_HORS_SOL</th>\n",
       "      <th>NOMBRE_LOGEMENT</th>\n",
       "      <th>ANNEE_CONSTRUCTION</th>\n",
       "      <th>CODE_UTILISATION</th>\n",
       "      <th>...</th>\n",
       "      <th>LATITUDE</th>\n",
       "      <th>fire_month</th>\n",
       "      <th>fire_year</th>\n",
       "      <th>fire_season</th>\n",
       "      <th>year_month</th>\n",
       "      <th>FIRE_COUNT_LAST_YEAR_ZONE</th>\n",
       "      <th>BUILDING_COUNT</th>\n",
       "      <th>FIRE_RATE_ZONE</th>\n",
       "      <th>FIRE_COUNT_LAST_YEAR_ZONE_NORM</th>\n",
       "      <th>FIRE_RATE_ZONE_NORM</th>\n",
       "    </tr>\n",
       "  </thead>\n",
       "  <tbody>\n",
       "    <tr>\n",
       "      <th>0</th>\n",
       "      <td>1038405</td>\n",
       "      <td>3577</td>\n",
       "      <td>3577</td>\n",
       "      <td>avenue Atwater  (MTL+WMT)</td>\n",
       "      <td>NaN</td>\n",
       "      <td>50</td>\n",
       "      <td>1.0</td>\n",
       "      <td>1.0</td>\n",
       "      <td>1983.0</td>\n",
       "      <td>1921</td>\n",
       "      <td>...</td>\n",
       "      <td>45.493711</td>\n",
       "      <td>NaN</td>\n",
       "      <td>NaN</td>\n",
       "      <td>None</td>\n",
       "      <td>NaT</td>\n",
       "      <td>9307</td>\n",
       "      <td>85689</td>\n",
       "      <td>0.108614</td>\n",
       "      <td>1.000000</td>\n",
       "      <td>0.846896</td>\n",
       "    </tr>\n",
       "    <tr>\n",
       "      <th>1</th>\n",
       "      <td>5213144</td>\n",
       "      <td>5211</td>\n",
       "      <td>5211</td>\n",
       "      <td>rue du Sureau  (PFD)</td>\n",
       "      <td>105</td>\n",
       "      <td>50</td>\n",
       "      <td>1.0</td>\n",
       "      <td>1.0</td>\n",
       "      <td>2012.0</td>\n",
       "      <td>1000</td>\n",
       "      <td>...</td>\n",
       "      <td>NaN</td>\n",
       "      <td>NaN</td>\n",
       "      <td>NaN</td>\n",
       "      <td>None</td>\n",
       "      <td>NaT</td>\n",
       "      <td>701</td>\n",
       "      <td>22003</td>\n",
       "      <td>0.031859</td>\n",
       "      <td>0.057806</td>\n",
       "      <td>0.143310</td>\n",
       "    </tr>\n",
       "    <tr>\n",
       "      <th>2</th>\n",
       "      <td>1036349</td>\n",
       "      <td>3550</td>\n",
       "      <td>3550</td>\n",
       "      <td>rue de la Montagne  (MTL)</td>\n",
       "      <td>109</td>\n",
       "      <td>50</td>\n",
       "      <td>3.0</td>\n",
       "      <td>1.0</td>\n",
       "      <td>1983.0</td>\n",
       "      <td>1000</td>\n",
       "      <td>...</td>\n",
       "      <td>NaN</td>\n",
       "      <td>NaN</td>\n",
       "      <td>NaN</td>\n",
       "      <td>None</td>\n",
       "      <td>NaT</td>\n",
       "      <td>9307</td>\n",
       "      <td>85689</td>\n",
       "      <td>0.108614</td>\n",
       "      <td>1.000000</td>\n",
       "      <td>0.846896</td>\n",
       "    </tr>\n",
       "    <tr>\n",
       "      <th>3</th>\n",
       "      <td>5189527</td>\n",
       "      <td>1200</td>\n",
       "      <td>1200</td>\n",
       "      <td>rue Saint-Alexandre  (MTL)</td>\n",
       "      <td>511</td>\n",
       "      <td>50</td>\n",
       "      <td>1.0</td>\n",
       "      <td>1.0</td>\n",
       "      <td>1963.0</td>\n",
       "      <td>1000</td>\n",
       "      <td>...</td>\n",
       "      <td>NaN</td>\n",
       "      <td>NaN</td>\n",
       "      <td>NaN</td>\n",
       "      <td>None</td>\n",
       "      <td>NaT</td>\n",
       "      <td>9307</td>\n",
       "      <td>85689</td>\n",
       "      <td>0.108614</td>\n",
       "      <td>1.000000</td>\n",
       "      <td>0.846896</td>\n",
       "    </tr>\n",
       "    <tr>\n",
       "      <th>4</th>\n",
       "      <td>1037334</td>\n",
       "      <td>1254</td>\n",
       "      <td>1254</td>\n",
       "      <td>rue Saint-Marc  (MTL)</td>\n",
       "      <td>61</td>\n",
       "      <td>50</td>\n",
       "      <td>1.0</td>\n",
       "      <td>1.0</td>\n",
       "      <td>1914.0</td>\n",
       "      <td>1000</td>\n",
       "      <td>...</td>\n",
       "      <td>45.492286</td>\n",
       "      <td>1.0</td>\n",
       "      <td>2023.0</td>\n",
       "      <td>Winter</td>\n",
       "      <td>2023-01</td>\n",
       "      <td>9307</td>\n",
       "      <td>85689</td>\n",
       "      <td>0.108614</td>\n",
       "      <td>1.000000</td>\n",
       "      <td>0.846896</td>\n",
       "    </tr>\n",
       "  </tbody>\n",
       "</table>\n",
       "<p>5 rows × 40 columns</p>\n",
       "</div>"
      ],
      "text/plain": [
       "    ID_UEV  CIVIQUE_DEBUT CIVIQUE_FIN                     NOM_RUE SUITE_DEBUT  \\\n",
       "0  1038405           3577        3577   avenue Atwater  (MTL+WMT)         NaN   \n",
       "1  5213144           5211        5211        rue du Sureau  (PFD)         105   \n",
       "2  1036349           3550        3550   rue de la Montagne  (MTL)         109   \n",
       "3  5189527           1200        1200  rue Saint-Alexandre  (MTL)         511   \n",
       "4  1037334           1254        1254       rue Saint-Marc  (MTL)          61   \n",
       "\n",
       "  MUNICIPALITE ETAGE_HORS_SOL NOMBRE_LOGEMENT ANNEE_CONSTRUCTION  \\\n",
       "0           50            1.0             1.0             1983.0   \n",
       "1           50            1.0             1.0             2012.0   \n",
       "2           50            3.0             1.0             1983.0   \n",
       "3           50            1.0             1.0             1963.0   \n",
       "4           50            1.0             1.0             1914.0   \n",
       "\n",
       "  CODE_UTILISATION  ...   LATITUDE fire_month fire_year fire_season  \\\n",
       "0             1921  ...  45.493711        NaN       NaN        None   \n",
       "1             1000  ...        NaN        NaN       NaN        None   \n",
       "2             1000  ...        NaN        NaN       NaN        None   \n",
       "3             1000  ...        NaN        NaN       NaN        None   \n",
       "4             1000  ...  45.492286        1.0    2023.0      Winter   \n",
       "\n",
       "  year_month FIRE_COUNT_LAST_YEAR_ZONE BUILDING_COUNT FIRE_RATE_ZONE  \\\n",
       "0        NaT                      9307          85689       0.108614   \n",
       "1        NaT                       701          22003       0.031859   \n",
       "2        NaT                      9307          85689       0.108614   \n",
       "3        NaT                      9307          85689       0.108614   \n",
       "4    2023-01                      9307          85689       0.108614   \n",
       "\n",
       "  FIRE_COUNT_LAST_YEAR_ZONE_NORM FIRE_RATE_ZONE_NORM  \n",
       "0                       1.000000            0.846896  \n",
       "1                       0.057806            0.143310  \n",
       "2                       1.000000            0.846896  \n",
       "3                       1.000000            0.846896  \n",
       "4                       1.000000            0.846896  \n",
       "\n",
       "[5 rows x 40 columns]"
      ]
     },
     "execution_count": 26,
     "metadata": {},
     "output_type": "execute_result"
    }
   ],
   "source": [
    "data.head()"
   ]
  },
  {
   "cell_type": "code",
   "execution_count": 27,
   "id": "0fc04c6d",
   "metadata": {},
   "outputs": [
    {
     "name": "stdout",
     "output_type": "stream",
     "text": [
      "⚠️ Rows with missing coordinates: 201901\n",
      "\n",
      "✅ Final Features Summary:\n",
      "Total rows           : 663783\n",
      "Rows with fire       : 294767\n",
      "Rows without fire    : 369016\n",
      "Rows with fire date  : 294767\n",
      "Rows with 'had_fire' : 294767\n",
      "Columns available    : 41\n",
      "\n",
      "🧾 Feature columns:\n",
      " ['ADDR_DE', 'AGE_BATIMENT', 'ANNEE_CONSTRUCTION', 'BUILDING_COUNT', 'CASERNE', 'CATEGORIE_UEF', 'CIVIQUE_DEBUT', 'CIVIQUE_FIN', 'CODE_UTILISATION', 'DENSITE_LOGEMENT', 'ETAGE_HORS_SOL', 'FIRE_COUNT_LAST_YEAR_ZONE', 'FIRE_COUNT_LAST_YEAR_ZONE_NORM', 'FIRE_FREQUENCY_ZONE', 'FIRE_RATE_ZONE', 'FIRE_RATE_ZONE_NORM', 'HAS_MULTIPLE_LOGEMENTS', 'ID_UEV', 'LATITUDE', 'LETTRE_DEBUT', 'LETTRE_FIN', 'LIBELLE_UTILISATION', 'LONGITUDE', 'MATRICULE83', 'MUNICIPALITE', 'NOMBRE_LOGEMENT', 'NOMBRE_UNITES', 'NOM_RUE', 'NOM_RUE_CLEAN', 'NO_ARROND_ILE_CUM', 'RATIO_SURFACE', 'SUITE_DEBUT', 'SUPERFICIE_BATIMENT', 'SUPERFICIE_TERRAIN', 'fire', 'fire_date', 'fire_month', 'fire_season', 'fire_year', 'had_fire', 'year_month']\n"
     ]
    }
   ],
   "source": [
    "# 🔍 OPTIONAL CLEANUP & VALIDATION ------------------------------\n",
    "\n",
    "# 1.  missing coordinates (optional — depends on modeling strategy)\n",
    "num_missing_coords = data[[\"LATITUDE\", \"LONGITUDE\"]].isna().any(axis=1).sum()\n",
    "print(f\"⚠️ Rows with missing coordinates: {num_missing_coords}\")\n",
    "# Uncomment below if you want to drop them:\n",
    "# data = data.dropna(subset=[\"LATITUDE\", \"LONGITUDE\"])\n",
    "\n",
    "# 2. Binary indicator for fire occurrence\n",
    "data[\"had_fire\"] = data[\"fire_date\"].notna().astype(int)\n",
    "\n",
    "# 3. Final sanity checks\n",
    "print(\"\\n✅ Final Features Summary:\")\n",
    "print(f\"Total rows           : {len(data)}\")\n",
    "print(f\"Rows with fire       : {data['fire'].sum()}\")\n",
    "print(f\"Rows without fire    : {(~data['fire']).sum()}\")\n",
    "print(f\"Rows with fire date  : {data['fire_date'].notna().sum()}\")\n",
    "print(f\"Rows with 'had_fire' : {data['had_fire'].sum()}\")\n",
    "print(f\"Columns available    : {len(data.columns)}\")\n",
    "print(\"\\n🧾 Feature columns:\\n\", sorted(data.columns.tolist()))\n"
   ]
  },
  {
   "cell_type": "markdown",
   "id": "015c0003",
   "metadata": {},
   "source": [
    "✅ Your Current Dataset Snapshot\n",
    "Total records: 663,783\n",
    "\n",
    "Rows with valid coordinates: ≈ 461,882\n",
    "\n",
    "Fire cases (binary): 294,767 (fire and had_fire both indicate this)\n",
    "\n",
    "Missing coordinates: 201,901 rows (⚠️ optional to drop depending on modeling use case)\n",
    "\n",
    "Total features: 41"
   ]
  },
  {
   "cell_type": "code",
   "execution_count": null,
   "id": "76d26078",
   "metadata": {},
   "outputs": [],
   "source": []
  },
  {
   "cell_type": "markdown",
   "id": "40a53abc",
   "metadata": {},
   "source": [
    "🧠 Engineered Features Present\n",
    "You've already added:\n",
    "\n",
    "Building-related: AGE_BATIMENT, DENSITE_LOGEMENT, RATIO_SURFACE, HAS_MULTIPLE_LOGEMENTS\n",
    "\n",
    "Fire statistics: FIRE_COUNT_LAST_YEAR_ZONE, FIRE_RATE_ZONE, and their normalized versions\n",
    "\n",
    "Time features: fire_month, fire_year, fire_season, year_month, had_fire\n",
    "\n",
    "Spatial context: NO_ARROND_ILE_CUM, FIRE_FREQUENCY_ZONE, LATITUDE, LONGITUDE"
   ]
  },
  {
   "cell_type": "markdown",
   "id": "8faa9e15",
   "metadata": {},
   "source": [
    "Mark missing coordinates\n",
    "\n",
    "Analyze if fire occurrence is associated with missingness\n",
    "\n",
    "Summarize useful group comparisons\n",
    "\n",
    "Optionally keep a flag for modeling"
   ]
  },
  {
   "cell_type": "code",
   "execution_count": 28,
   "id": "21889e7b",
   "metadata": {},
   "outputs": [],
   "source": [
    "\n",
    "# 1️⃣ Mark rows with missing coordinates\n",
    "data[\"missing_coords\"] = data[[\"LATITUDE\", \"LONGITUDE\"]].isna().any(axis=1)\n"
   ]
  },
  {
   "cell_type": "code",
   "execution_count": 29,
   "id": "f3903c5f",
   "metadata": {},
   "outputs": [
    {
     "name": "stdout",
     "output_type": "stream",
     "text": [
      "🔥 Fire distribution by coordinate presence:\n",
      "fire               False     True \n",
      "missing_coords                    \n",
      "False           0.361813  0.638187\n",
      "True            1.000000  0.000000\n"
     ]
    }
   ],
   "source": [
    "# 2️⃣ Compare fire rates for rows with vs without coordinates\n",
    "fire_by_coords = data.groupby(\"missing_coords\")[\"fire\"].value_counts(normalize=True).unstack().fillna(0)\n",
    "print(\"🔥 Fire distribution by coordinate presence:\")\n",
    "print(fire_by_coords)"
   ]
  },
  {
   "cell_type": "markdown",
   "id": "de22657c",
   "metadata": {},
   "source": [
    "Null fire dates for non-fire buildings.\n",
    "→ Solved by generating a full panel (every building × month)."
   ]
  },
  {
   "cell_type": "markdown",
   "id": "4eac6852",
   "metadata": {},
   "source": [
    "🔁 Why We Get Null fire_date\n",
    "When you merge fire incident data (with fire_date) onto your building dataset, only the buildings that had a matching fire incident get a fire_date.\n",
    "\n",
    "So:\n",
    "\n",
    "Buildings with a fire → fire_date = valid date\n",
    "\n",
    "Buildings without a fire → fire_date = NaT (null)\n",
    "\n",
    "✅ How to Handle This Properly for Time-Series Modeling\n",
    "The best practice is to build a complete panel dataset:\n",
    "\n",
    "ID_UEV\tyear_month\tfire\n",
    "123456\t2023-01\t0\n",
    "123456\t2023-02\t0\n",
    "123456\t2023-03\t1\n",
    "123456\t2023-04\t0\n",
    "...\t...\t...\n",
    "\n",
    "This way:\n",
    "\n",
    "Every building appears once per month, even if no fire occurred.\n",
    "\n",
    "fire = 1 where a fire occurred.\n",
    "\n",
    "fire = 0 where it didn’t.\n",
    "\n",
    "fire_date only exists where fire = 1.\n",
    "\n",
    "🧱 Why This Solves the fire_date = NaT Issue\n",
    "It’s not a bug, it’s an expected outcome.\n",
    "\n",
    "You’re no longer trying to “impute” or “guess” fire dates.\n",
    "\n",
    "The fire column is the true label for your classifier.\n",
    "\n",
    "fire_date becomes optional metadata, not a required feature.\n",
    "\n",
    "\n",
    "\n"
   ]
  },
  {
   "cell_type": "markdown",
   "id": "8482797b",
   "metadata": {},
   "source": [
    "# Features selection"
   ]
  },
  {
   "cell_type": "markdown",
   "id": "e4374e6a",
   "metadata": {},
   "source": [
    "✅ Core Structural Features (building characteristics)\n",
    "| Feature                                     | Keep?          | Reason                                                     |\n",
    "| ------------------------------------------- | -------------- | ---------------------------------------------------------- |\n",
    "| `ID_UEV`                                    | ✔️ (reference) | Unique identifier – not a feature, but useful for tracking |\n",
    "| `CIVIQUE_DEBUT`, `CIVIQUE_FIN`              | ❌              | Redundant with coordinates and `ADDR_DE`                   |\n",
    "| `NOM_RUE`, `NOM_RUE_CLEAN`, `ADDR_DE`       | ❌              | Redundant; if coordinates used                             |\n",
    "| `SUITE_DEBUT`                               | ❌              | Often sparse and not predictive                            |\n",
    "| `MUNICIPALITE`                              | ✔️             | Categorical location info                                  |\n",
    "| `ETAGE_HORS_SOL`                            | ✔️             | Structural height – numeric                                |\n",
    "| `NOMBRE_LOGEMENT`                           | ✔️             | Residential density                                        |\n",
    "| `ANNEE_CONSTRUCTION`, `AGE_BATIMENT`        | ✔️             | Use `AGE_BATIMENT` – drop raw year in model                |\n",
    "| `CODE_UTILISATION`, `CATEGORIE_UEF`         | ✔️             | Building usage (categorical)                               |\n",
    "| `SUPERFICIE_TERRAIN`, `SUPERFICIE_BATIMENT` | ✔️             | Important physical dimensions                              |\n",
    "| `RATIO_SURFACE`, `DENSITE_LOGEMENT`         | ✔️             | Engineered structural density                              |\n",
    "| `HAS_MULTIPLE_LOGEMENTS`                    | ✔️             | Boolean – keep                                             |\n",
    "| `MATRICULE83`                               | ❌              | Internal ID – drop                                         |\n",
    "🧭 Spatial Features\n",
    "\n",
    "| Feature                 | Keep? | Reason                                     |\n",
    "| ----------------------- | ----- | ------------------------------------------ |\n",
    "| `NO_ARROND_ILE_CUM`     | ✔️    | Use as location index if aggregating       |\n",
    "| `LONGITUDE`, `LATITUDE` | ✔️    | Needed for spatial models                  |\n",
    "| `missing_coords`        | ✔️    | May be used to flag imputed/missing values |\n",
    "| `FIRE_FREQUENCY_ZONE`   | ✔️    | Feature engineering – keep                 |\n",
    "\n",
    "🔥 Target & Fire Incident Features\n",
    "| Feature         | Keep? | Reason                                                      |\n",
    "| --------------- | ----- | ----------------------------------------------------------- |\n",
    "| `fire`          | ✔️    | Primary binary target                                       |\n",
    "| `fire_date`     | ✔️    | Needed for panel & temporal features                        |\n",
    "| `had_fire`      | ✔️    | Useful for binary summary features                          |\n",
    "| `NOMBRE_UNITES` | ✔️    | Fire response intensity – could correlate with severity     |\n",
    "| `CASERNE`       | ❌     | Operational info, likely redundant and possibly a data leak |\n",
    "🕒 Time Features (from fire_date) \n",
    "| Feature                                  | Keep? | Reason                          |\n",
    "| ---------------------------------------- | ----- | ------------------------------- |\n",
    "| `fire_month`, `fire_year`, `fire_season` | ✔️    | Categorical time-based features |\n",
    "| `year_month`                             | ✔️    | Needed for panel data alignment |\n",
    "🔁 Zone-Level Aggregates\n",
    "| Feature                                                 | Keep? | Reason                                |\n",
    "| ------------------------------------------------------- | ----- | ------------------------------------- |\n",
    "| `FIRE_COUNT_LAST_YEAR_ZONE`                             | ✔️    | Engineered from past data             |\n",
    "| `BUILDING_COUNT`                                        | ✔️    | Needed for calculating rates          |\n",
    "| `FIRE_RATE_ZONE`                                        | ✔️    | Strong predictor                      |\n",
    "| `FIRE_COUNT_LAST_YEAR_ZONE_NORM`, `FIRE_RATE_ZONE_NORM` | ✔️    | Normalized versions – may help models |\n",
    "  \n",
    "  \n",
    "  Keep these columns:\n",
    "[\n",
    " 'ID_UEV', 'MUNICIPALITE', 'ETAGE_HORS_SOL', 'NOMBRE_LOGEMENT',\n",
    " 'AGE_BATIMENT', 'CODE_UTILISATION', 'CATEGORIE_UEF',\n",
    " 'SUPERFICIE_TERRAIN', 'SUPERFICIE_BATIMENT',\n",
    " 'RATIO_SURFACE', 'DENSITE_LOGEMENT', 'HAS_MULTIPLE_LOGEMENTS',\n",
    " 'NO_ARROND_ILE_CUM', 'LONGITUDE', 'LATITUDE',\n",
    " 'FIRE_FREQUENCY_ZONE', 'fire', 'fire_date', 'had_fire',\n",
    " 'fire_month', 'fire_year', 'fire_season', 'year_month',\n",
    " 'FIRE_COUNT_LAST_YEAR_ZONE', 'BUILDING_COUNT',\n",
    " 'FIRE_RATE_ZONE', 'FIRE_COUNT_LAST_YEAR_ZONE_NORM', 'FIRE_RATE_ZONE_NORM',\n",
    " 'missing_coords'\n",
    "]\n",
    "\n",
    "\n",
    "\n"
   ]
  },
  {
   "cell_type": "code",
   "execution_count": 30,
   "id": "06eb685d",
   "metadata": {},
   "outputs": [
    {
     "name": "stdout",
     "output_type": "stream",
     "text": [
      "<class 'pandas.core.frame.DataFrame'>\n",
      "RangeIndex: 663783 entries, 0 to 663782\n",
      "Data columns (total 42 columns):\n",
      " #   Column                          Non-Null Count   Dtype         \n",
      "---  ------                          --------------   -----         \n",
      " 0   ID_UEV                          663783 non-null  object        \n",
      " 1   CIVIQUE_DEBUT                   663783 non-null  int32         \n",
      " 2   CIVIQUE_FIN                     663783 non-null  object        \n",
      " 3   NOM_RUE                         663783 non-null  object        \n",
      " 4   SUITE_DEBUT                     199585 non-null  object        \n",
      " 5   MUNICIPALITE                    663783 non-null  object        \n",
      " 6   ETAGE_HORS_SOL                  663783 non-null  object        \n",
      " 7   NOMBRE_LOGEMENT                 663783 non-null  object        \n",
      " 8   ANNEE_CONSTRUCTION              663783 non-null  object        \n",
      " 9   CODE_UTILISATION                663783 non-null  object        \n",
      " 10  LETTRE_DEBUT                    4603 non-null    object        \n",
      " 11  LETTRE_FIN                      8788 non-null    object        \n",
      " 12  LIBELLE_UTILISATION             663783 non-null  object        \n",
      " 13  CATEGORIE_UEF                   663783 non-null  object        \n",
      " 14  MATRICULE83                     663783 non-null  object        \n",
      " 15  SUPERFICIE_TERRAIN              663783 non-null  object        \n",
      " 16  SUPERFICIE_BATIMENT             663783 non-null  object        \n",
      " 17  NO_ARROND_ILE_CUM               663783 non-null  object        \n",
      " 18  AGE_BATIMENT                    663783 non-null  object        \n",
      " 19  RATIO_SURFACE                   662769 non-null  object        \n",
      " 20  DENSITE_LOGEMENT                663113 non-null  object        \n",
      " 21  HAS_MULTIPLE_LOGEMENTS          663783 non-null  object        \n",
      " 22  FIRE_FREQUENCY_ZONE             663783 non-null  object        \n",
      " 23  NOM_RUE_CLEAN                   663783 non-null  object        \n",
      " 24  fire_date                       294767 non-null  datetime64[ns]\n",
      " 25  NOMBRE_UNITES                   294767 non-null  float64       \n",
      " 26  CASERNE                         294767 non-null  float64       \n",
      " 27  fire                            663783 non-null  bool          \n",
      " 28  ADDR_DE                         461882 non-null  float64       \n",
      " 29  LONGITUDE                       461882 non-null  object        \n",
      " 30  LATITUDE                        461882 non-null  object        \n",
      " 31  fire_month                      294767 non-null  float64       \n",
      " 32  fire_year                       294767 non-null  float64       \n",
      " 33  fire_season                     294767 non-null  object        \n",
      " 34  year_month                      663783 non-null  object        \n",
      " 35  FIRE_COUNT_LAST_YEAR_ZONE       663783 non-null  int64         \n",
      " 36  BUILDING_COUNT                  663783 non-null  int64         \n",
      " 37  FIRE_RATE_ZONE                  663783 non-null  float64       \n",
      " 38  FIRE_COUNT_LAST_YEAR_ZONE_NORM  663783 non-null  float64       \n",
      " 39  FIRE_RATE_ZONE_NORM             663783 non-null  float64       \n",
      " 40  had_fire                        663783 non-null  int32         \n",
      " 41  missing_coords                  663783 non-null  bool          \n",
      "dtypes: bool(2), datetime64[ns](1), float64(8), int32(2), int64(2), object(27)\n",
      "memory usage: 198.8+ MB\n"
     ]
    }
   ],
   "source": [
    "data.info()"
   ]
  },
  {
   "cell_type": "code",
   "execution_count": 31,
   "id": "cbd5b3e2",
   "metadata": {},
   "outputs": [
    {
     "data": {
      "text/plain": [
       "['ID_UEV',\n",
       " 'CIVIQUE_DEBUT',\n",
       " 'CIVIQUE_FIN',\n",
       " 'NOM_RUE',\n",
       " 'SUITE_DEBUT',\n",
       " 'MUNICIPALITE',\n",
       " 'ETAGE_HORS_SOL',\n",
       " 'NOMBRE_LOGEMENT',\n",
       " 'ANNEE_CONSTRUCTION',\n",
       " 'CODE_UTILISATION',\n",
       " 'LETTRE_DEBUT',\n",
       " 'LETTRE_FIN',\n",
       " 'LIBELLE_UTILISATION',\n",
       " 'CATEGORIE_UEF',\n",
       " 'MATRICULE83',\n",
       " 'SUPERFICIE_TERRAIN',\n",
       " 'SUPERFICIE_BATIMENT',\n",
       " 'NO_ARROND_ILE_CUM',\n",
       " 'AGE_BATIMENT',\n",
       " 'RATIO_SURFACE',\n",
       " 'DENSITE_LOGEMENT',\n",
       " 'HAS_MULTIPLE_LOGEMENTS',\n",
       " 'FIRE_FREQUENCY_ZONE',\n",
       " 'NOM_RUE_CLEAN',\n",
       " 'fire_date',\n",
       " 'NOMBRE_UNITES',\n",
       " 'CASERNE',\n",
       " 'fire',\n",
       " 'ADDR_DE',\n",
       " 'LONGITUDE',\n",
       " 'LATITUDE',\n",
       " 'fire_month',\n",
       " 'fire_year',\n",
       " 'fire_season',\n",
       " 'year_month',\n",
       " 'FIRE_COUNT_LAST_YEAR_ZONE',\n",
       " 'BUILDING_COUNT',\n",
       " 'FIRE_RATE_ZONE',\n",
       " 'FIRE_COUNT_LAST_YEAR_ZONE_NORM',\n",
       " 'FIRE_RATE_ZONE_NORM',\n",
       " 'had_fire',\n",
       " 'missing_coords']"
      ]
     },
     "execution_count": 31,
     "metadata": {},
     "output_type": "execute_result"
    }
   ],
   "source": [
    "data.columns.tolist()\n"
   ]
  },
  {
   "cell_type": "code",
   "execution_count": 32,
   "id": "5f80c571",
   "metadata": {},
   "outputs": [],
   "source": [
    "columns_to_drop = [\n",
    "    # 🔁 Redundant address information\n",
    "    \"CIVIQUE_DEBUT\", \"CIVIQUE_FIN\", \"NOM_RUE\", \"NOM_RUE_CLEAN\", \"ADDR_DE\",\n",
    "    \n",
    "    # 🆔 Internal or irrelevant identifiers\n",
    "    \"MATRICULE83\", \"LETTRE_DEBUT\", \"LETTRE_FIN\",\n",
    "    \n",
    "    # 🏢 Administrative or metadata\n",
    "    \"SUITE_DEBUT\", \"CASERNE\",\n",
    "    \n",
    "    # 🗺️ Coordinates that are missing (if not used)\n",
    "    # Keep LATITUDE/LONGITUDE unless you plan to use NO_ARROND_ILE_CUM only\n",
    "\n",
    "    # 🔄 Features replaced by engineered versions\n",
    "    \"ANNEE_CONSTRUCTION\",  # Keep AGE_BATIMENT instead\n",
    "]\n",
    "\n"
   ]
  },
  {
   "cell_type": "code",
   "execution_count": 33,
   "id": "8d4d309f",
   "metadata": {},
   "outputs": [],
   "source": [
    "\n",
    "# Drop columns\n",
    "cleaned_data = data.drop(columns=columns_to_drop, errors='ignore')"
   ]
  },
  {
   "cell_type": "code",
   "execution_count": null,
   "id": "edfde6cf",
   "metadata": {},
   "outputs": [
    {
     "name": "stdout",
     "output_type": "stream",
     "text": [
      "✅ File saved to: C:\\Users\\mirei\\OneDrive\\Desktop\\all-capstone-project-summer-2025-team-6-main\\datasets\\cleaned\\evaluation_fire_coordinates_date_feat_eng_2.csv\n"
     ]
    }
   ],
   "source": [
    "from pathlib import Path\n",
    "\n",
    "# 🔧 Reuse ROOT definition from earlier\n",
    "ROOT = Path.cwd().parents[1]\n",
    "\n",
    "# 📁 Define the output path relative to project structure\n",
    "OUTPUT_PATH = ROOT / \"datasets\" / \"cleaned\" / \"evaluation_fire_coordinates_date_feat_eng_2.csv\"\n",
    "\n",
    "# ✅ Create the output directory if it doesn't exist\n",
    "OUTPUT_PATH.parent.mkdir(parents=True, exist_ok=True)\n",
    "\n",
    "# 💾 Save the cleaned DataFrame\n",
    "cleaned_data.to_csv(OUTPUT_PATH, index=False)\n",
    "\n",
    "print(f\"✅ File saved to: {OUTPUT_PATH}\")\n"
   ]
  },
  {
   "cell_type": "code",
   "execution_count": null,
   "id": "4b6c1ba4",
   "metadata": {},
   "outputs": [],
   "source": []
  },
  {
   "cell_type": "code",
   "execution_count": null,
   "id": "197c7f7b",
   "metadata": {},
   "outputs": [],
   "source": []
  }
 ],
 "metadata": {
  "kernelspec": {
   "display_name": "Python 3 (ipykernel)",
   "language": "python",
   "name": "python3"
  },
  "language_info": {
   "codemirror_mode": {
    "name": "ipython",
    "version": 3
   },
   "file_extension": ".py",
   "mimetype": "text/x-python",
   "name": "python",
   "nbconvert_exporter": "python",
   "pygments_lexer": "ipython3",
   "version": "3.11.7"
  }
 },
 "nbformat": 4,
 "nbformat_minor": 5
}
