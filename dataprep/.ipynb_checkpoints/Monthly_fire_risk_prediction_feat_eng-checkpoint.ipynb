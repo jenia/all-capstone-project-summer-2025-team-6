{
 "cells": [
  {
   "cell_type": "code",
   "execution_count": 1,
   "id": "bbfa666e",
   "metadata": {},
   "outputs": [],
   "source": [
    "import os\n",
    "import pandas as pd\n",
    "import geopandas as gpd\n",
    "from shapely.geometry import Point\n",
    "from xgboost import XGBClassifier\n",
    "from sklearn.metrics import classification_report"
   ]
  },
  {
   "cell_type": "code",
   "execution_count": 3,
   "id": "dbb9a0d6",
   "metadata": {},
   "outputs": [
    {
     "name": "stdout",
     "output_type": "stream",
     "text": [
      "[input exists?] True ➜ C:\\Users\\mirei\\OneDrive\\Desktop\\all-capstone-project-summer-2025-team-6-main\\datasets\\cleaned\\evaluation_fire_coordinates_date_feat_eng_2.csv\n",
      "[output dir exists?] True ➜ C:\\Users\\mirei\\OneDrive\\Desktop\\all-capstone-project-summer-2025-team-6-main\\datamodel\n"
     ]
    }
   ],
   "source": [
    "from pathlib import Path\n",
    "import os\n",
    "\n",
    "# 🔧 Project root directory (2 levels up from current script)\n",
    "ROOT = Path.cwd().parents[0]\n",
    "\n",
    "# 🔹 Define input/output paths using ROOT\n",
    "INPUT_CSV = ROOT / \"datasets\" / \"cleaned\" / \"building_month_fire_panel_feat_eng.csv\"\n",
    "#OUTPUT_PANEL = ROOT / \"datasets\" / \"cleaned\" / \"building_month_fire_panel_feat_eng.csv\"\n",
    "\n",
    "# 🔍 Optional: check existence\n",
    "print(\"[input exists?]\", INPUT_CSV.exists(), \"➜\", INPUT_CSV)\n",
    "#print(\"[output dir exists?]\", OUTPUT_PANEL.parent.exists(), \"➜\", OUTPUT_PANEL.parent)\n"
   ]
  },
  {
   "cell_type": "code",
   "execution_count": 4,
   "id": "b680082b",
   "metadata": {},
   "outputs": [
    {
     "data": {
      "text/html": [
       "<div>\n",
       "<style scoped>\n",
       "    .dataframe tbody tr th:only-of-type {\n",
       "        vertical-align: middle;\n",
       "    }\n",
       "\n",
       "    .dataframe tbody tr th {\n",
       "        vertical-align: top;\n",
       "    }\n",
       "\n",
       "    .dataframe thead th {\n",
       "        text-align: right;\n",
       "    }\n",
       "</style>\n",
       "<table border=\"1\" class=\"dataframe\">\n",
       "  <thead>\n",
       "    <tr style=\"text-align: right;\">\n",
       "      <th></th>\n",
       "      <th>ID_UEV</th>\n",
       "      <th>MUNICIPALITE</th>\n",
       "      <th>ETAGE_HORS_SOL</th>\n",
       "      <th>NOMBRE_LOGEMENT</th>\n",
       "      <th>CODE_UTILISATION</th>\n",
       "      <th>LIBELLE_UTILISATION</th>\n",
       "      <th>CATEGORIE_UEF</th>\n",
       "      <th>SUPERFICIE_TERRAIN</th>\n",
       "      <th>SUPERFICIE_BATIMENT</th>\n",
       "      <th>NO_ARROND_ILE_CUM</th>\n",
       "      <th>...</th>\n",
       "      <th>fire_year</th>\n",
       "      <th>fire_season</th>\n",
       "      <th>year_month</th>\n",
       "      <th>FIRE_COUNT_LAST_YEAR_ZONE</th>\n",
       "      <th>BUILDING_COUNT</th>\n",
       "      <th>FIRE_RATE_ZONE</th>\n",
       "      <th>FIRE_COUNT_LAST_YEAR_ZONE_NORM</th>\n",
       "      <th>FIRE_RATE_ZONE_NORM</th>\n",
       "      <th>had_fire</th>\n",
       "      <th>missing_coords</th>\n",
       "    </tr>\n",
       "  </thead>\n",
       "  <tbody>\n",
       "    <tr>\n",
       "      <th>0</th>\n",
       "      <td>1038405</td>\n",
       "      <td>50</td>\n",
       "      <td>1.0</td>\n",
       "      <td>1.0</td>\n",
       "      <td>1921</td>\n",
       "      <td>Stationnement intérieur (condo)</td>\n",
       "      <td>Condominium</td>\n",
       "      <td>2</td>\n",
       "      <td>16.0</td>\n",
       "      <td>REM19</td>\n",
       "      <td>...</td>\n",
       "      <td>NaN</td>\n",
       "      <td>NaN</td>\n",
       "      <td>NaT</td>\n",
       "      <td>9307</td>\n",
       "      <td>85689</td>\n",
       "      <td>0.108614</td>\n",
       "      <td>1.000000</td>\n",
       "      <td>0.846896</td>\n",
       "      <td>0</td>\n",
       "      <td>False</td>\n",
       "    </tr>\n",
       "    <tr>\n",
       "      <th>1</th>\n",
       "      <td>5213144</td>\n",
       "      <td>50</td>\n",
       "      <td>1.0</td>\n",
       "      <td>1.0</td>\n",
       "      <td>1000</td>\n",
       "      <td>Logement</td>\n",
       "      <td>Condominium</td>\n",
       "      <td>69</td>\n",
       "      <td>68.0</td>\n",
       "      <td>REM31</td>\n",
       "      <td>...</td>\n",
       "      <td>NaN</td>\n",
       "      <td>NaN</td>\n",
       "      <td>NaT</td>\n",
       "      <td>701</td>\n",
       "      <td>22003</td>\n",
       "      <td>0.031859</td>\n",
       "      <td>0.057806</td>\n",
       "      <td>0.143310</td>\n",
       "      <td>0</td>\n",
       "      <td>True</td>\n",
       "    </tr>\n",
       "    <tr>\n",
       "      <th>2</th>\n",
       "      <td>1036349</td>\n",
       "      <td>50</td>\n",
       "      <td>3.0</td>\n",
       "      <td>1.0</td>\n",
       "      <td>1000</td>\n",
       "      <td>Logement</td>\n",
       "      <td>Condominium</td>\n",
       "      <td>133</td>\n",
       "      <td>127.0</td>\n",
       "      <td>REM19</td>\n",
       "      <td>...</td>\n",
       "      <td>NaN</td>\n",
       "      <td>NaN</td>\n",
       "      <td>NaT</td>\n",
       "      <td>9307</td>\n",
       "      <td>85689</td>\n",
       "      <td>0.108614</td>\n",
       "      <td>1.000000</td>\n",
       "      <td>0.846896</td>\n",
       "      <td>0</td>\n",
       "      <td>True</td>\n",
       "    </tr>\n",
       "    <tr>\n",
       "      <th>3</th>\n",
       "      <td>5189527</td>\n",
       "      <td>50</td>\n",
       "      <td>1.0</td>\n",
       "      <td>1.0</td>\n",
       "      <td>1000</td>\n",
       "      <td>Logement</td>\n",
       "      <td>Condominium</td>\n",
       "      <td>16</td>\n",
       "      <td>62.0</td>\n",
       "      <td>REM19</td>\n",
       "      <td>...</td>\n",
       "      <td>NaN</td>\n",
       "      <td>NaN</td>\n",
       "      <td>NaT</td>\n",
       "      <td>9307</td>\n",
       "      <td>85689</td>\n",
       "      <td>0.108614</td>\n",
       "      <td>1.000000</td>\n",
       "      <td>0.846896</td>\n",
       "      <td>0</td>\n",
       "      <td>True</td>\n",
       "    </tr>\n",
       "    <tr>\n",
       "      <th>4</th>\n",
       "      <td>1037334</td>\n",
       "      <td>50</td>\n",
       "      <td>1.0</td>\n",
       "      <td>1.0</td>\n",
       "      <td>1000</td>\n",
       "      <td>Logement</td>\n",
       "      <td>Condominium</td>\n",
       "      <td>16</td>\n",
       "      <td>82.0</td>\n",
       "      <td>REM19</td>\n",
       "      <td>...</td>\n",
       "      <td>2023.0</td>\n",
       "      <td>Winter</td>\n",
       "      <td>2023-01</td>\n",
       "      <td>9307</td>\n",
       "      <td>85689</td>\n",
       "      <td>0.108614</td>\n",
       "      <td>1.000000</td>\n",
       "      <td>0.846896</td>\n",
       "      <td>1</td>\n",
       "      <td>False</td>\n",
       "    </tr>\n",
       "  </tbody>\n",
       "</table>\n",
       "<p>5 rows × 31 columns</p>\n",
       "</div>"
      ],
      "text/plain": [
       "    ID_UEV  MUNICIPALITE  ETAGE_HORS_SOL  NOMBRE_LOGEMENT  CODE_UTILISATION  \\\n",
       "0  1038405            50             1.0              1.0              1921   \n",
       "1  5213144            50             1.0              1.0              1000   \n",
       "2  1036349            50             3.0              1.0              1000   \n",
       "3  5189527            50             1.0              1.0              1000   \n",
       "4  1037334            50             1.0              1.0              1000   \n",
       "\n",
       "               LIBELLE_UTILISATION CATEGORIE_UEF  SUPERFICIE_TERRAIN  \\\n",
       "0  Stationnement intérieur (condo)   Condominium                   2   \n",
       "1                         Logement   Condominium                  69   \n",
       "2                         Logement   Condominium                 133   \n",
       "3                         Logement   Condominium                  16   \n",
       "4                         Logement   Condominium                  16   \n",
       "\n",
       "   SUPERFICIE_BATIMENT NO_ARROND_ILE_CUM  ...  fire_year  fire_season  \\\n",
       "0                 16.0             REM19  ...        NaN          NaN   \n",
       "1                 68.0             REM31  ...        NaN          NaN   \n",
       "2                127.0             REM19  ...        NaN          NaN   \n",
       "3                 62.0             REM19  ...        NaN          NaN   \n",
       "4                 82.0             REM19  ...     2023.0       Winter   \n",
       "\n",
       "   year_month  FIRE_COUNT_LAST_YEAR_ZONE  BUILDING_COUNT FIRE_RATE_ZONE  \\\n",
       "0         NaT                       9307           85689       0.108614   \n",
       "1         NaT                        701           22003       0.031859   \n",
       "2         NaT                       9307           85689       0.108614   \n",
       "3         NaT                       9307           85689       0.108614   \n",
       "4     2023-01                       9307           85689       0.108614   \n",
       "\n",
       "   FIRE_COUNT_LAST_YEAR_ZONE_NORM  FIRE_RATE_ZONE_NORM  had_fire  \\\n",
       "0                        1.000000             0.846896         0   \n",
       "1                        0.057806             0.143310         0   \n",
       "2                        1.000000             0.846896         0   \n",
       "3                        1.000000             0.846896         0   \n",
       "4                        1.000000             0.846896         1   \n",
       "\n",
       "   missing_coords  \n",
       "0           False  \n",
       "1            True  \n",
       "2            True  \n",
       "3            True  \n",
       "4           False  \n",
       "\n",
       "[5 rows x 31 columns]"
      ]
     },
     "execution_count": 4,
     "metadata": {},
     "output_type": "execute_result"
    }
   ],
   "source": [
    "# 🔸 Load and clean fire dataset\n",
    "df = pd.read_csv(INPUT_CSV)\n",
    "df.head()"
   ]
  },
  {
   "cell_type": "code",
   "execution_count": 5,
   "id": "a9ad526e",
   "metadata": {},
   "outputs": [
    {
     "name": "stdout",
     "output_type": "stream",
     "text": [
      "🧮 Shape: 663,783 rows × 31 columns\n"
     ]
    }
   ],
   "source": [
    "print(f\"🧮 Shape: {df.shape[0]:,} rows × {df.shape[1]:,} columns\")\n"
   ]
  },
  {
   "cell_type": "code",
   "execution_count": null,
   "id": "612282ae",
   "metadata": {},
   "outputs": [],
   "source": []
  },
  {
   "cell_type": "code",
   "execution_count": 6,
   "id": "2652a829",
   "metadata": {},
   "outputs": [],
   "source": [
    "df[\"fire_date\"] = pd.to_datetime(df[\"fire_date\"], errors=\"coerce\")\n",
    "df[\"month\"] = df[\"fire_date\"].dt.to_period(\"M\")\n",
    "df = df.dropna(subset=[\"LONGITUDE\", \"LATITUDE\", \"ID_UEV\"])\n",
    "df[\"geometry\"] = df.apply(lambda row: Point(row[\"LONGITUDE\"], row[\"LATITUDE\"]), axis=1)\n",
    "gdf = gpd.GeoDataFrame(df, geometry=\"geometry\", crs=\"EPSG:4326\").to_crs(\"EPSG:32188\")"
   ]
  },
  {
   "cell_type": "markdown",
   "id": "decd9240",
   "metadata": {},
   "source": [
    "✅ Recommendation: Build a sparse panel (only active building-month pairs) Instead of using from_product, use real building × month pairs from the dataset:\n",
    "\n",
    "✅ Efficient replacement for dense panel"
   ]
  },
  {
   "cell_type": "code",
   "execution_count": 7,
   "id": "6c706435",
   "metadata": {},
   "outputs": [],
   "source": [
    "unique_buildings = gdf[[\"ID_UEV\", \"LATITUDE\", \"LONGITUDE\"]].drop_duplicates()\n",
    "\n",
    "# 🔹 Use only real building-months\n",
    "panel = gdf[[\"ID_UEV\", \"month\"]].drop_duplicates()\n",
    "\n",
    "# 🔹 Add back LAT/LON for geolocation\n",
    "panel = panel.merge(unique_buildings, on=\"ID_UEV\", how=\"left\")\n",
    "\n",
    "# 🔹 Label fire presence\n",
    "fires = gdf[gdf[\"fire\"] == True][[\"ID_UEV\", \"month\"]].drop_duplicates()\n",
    "fires[\"HAS_FIRE_THIS_MONTH\"] = 1\n",
    "\n",
    "panel = panel.merge(fires, on=[\"ID_UEV\", \"month\"], how=\"left\")\n",
    "panel[\"HAS_FIRE_THIS_MONTH\"] = panel[\"HAS_FIRE_THIS_MONTH\"].fillna(0).astype(int)\n",
    "\n",
    "# 🔹 Add time features\n",
    "panel[\"month_num\"] = panel[\"month\"].dt.month\n",
    "panel[\"year\"] = panel[\"month\"].dt.year\n"
   ]
  },
  {
   "cell_type": "code",
   "execution_count": 8,
   "id": "8687c15f",
   "metadata": {},
   "outputs": [
    {
     "data": {
      "text/plain": [
       "(456761, 7)"
      ]
     },
     "execution_count": 8,
     "metadata": {},
     "output_type": "execute_result"
    }
   ],
   "source": [
    "panel.shape"
   ]
  },
  {
   "cell_type": "code",
   "execution_count": 9,
   "id": "a65b0b7d",
   "metadata": {},
   "outputs": [],
   "source": [
    "#Extract full static features from gdf\n",
    "# Define static columns to retain in the panel (no time-dependency)\n",
    "static_cols = [\n",
    "    \"ID_UEV\", \"LATITUDE\", \"LONGITUDE\", \"MUNICIPALITE\", \"ETAGE_HORS_SOL\",\n",
    "    \"NOMBRE_LOGEMENT\", \"AGE_BATIMENT\", \"CODE_UTILISATION\", \"CATEGORIE_UEF\",\n",
    "    \"SUPERFICIE_TERRAIN\", \"SUPERFICIE_BATIMENT\", \"NO_ARROND_ILE_CUM\", \"RATIO_SURFACE\",\n",
    "    \"DENSITE_LOGEMENT\", \"HAS_MULTIPLE_LOGEMENTS\", \"FIRE_FREQUENCY_ZONE\",\n",
    "    \"FIRE_RATE_ZONE\", \"FIRE_COUNT_LAST_YEAR_ZONE\", \"BUILDING_COUNT\",\n",
    "    \"FIRE_RATE_ZONE_NORM\", \"FIRE_COUNT_LAST_YEAR_ZONE_NORM\"\n",
    "]\n",
    "\n",
    "# Drop duplicates so each building has one row of static info\n",
    "static_features = gdf[static_cols].drop_duplicates(subset=[\"ID_UEV\"])\n"
   ]
  },
  {
   "cell_type": "code",
   "execution_count": null,
   "id": "14e1fa91",
   "metadata": {},
   "outputs": [],
   "source": []
  },
  {
   "cell_type": "code",
   "execution_count": null,
   "id": "dd20bd40",
   "metadata": {},
   "outputs": [],
   "source": []
  },
  {
   "cell_type": "markdown",
   "id": "939a4bc1",
   "metadata": {},
   "source": [
    "✅ Recommended Adjustments\n",
    "1. Filter static_features[\"ID_UEV\"] to only valid buildings\n",
    "If static_features was created from a larger dataset, it may contain IDs not in your final cleaned gdf. Filter it first:"
   ]
  },
  {
   "cell_type": "code",
   "execution_count": 10,
   "id": "1b89e5ea",
   "metadata": {},
   "outputs": [],
   "source": [
    "valid_ids = gdf[\"ID_UEV\"].unique()\n",
    "static_features = static_features[static_features[\"ID_UEV\"].isin(valid_ids)]\n"
   ]
  },
  {
   "cell_type": "code",
   "execution_count": 11,
   "id": "f30a7000",
   "metadata": {},
   "outputs": [],
   "source": [
    "#Create panel and merge with static_features\n",
    "# Build the panel with only valid building IDs\n",
    "all_months = pd.period_range(start=gdf[\"month\"].min(), end=gdf[\"month\"].max(), freq=\"M\")\n",
    "panel = pd.MultiIndex.from_product(\n",
    "    [static_features[\"ID_UEV\"].unique(), all_months],\n",
    "    names=[\"ID_UEV\", \"month\"]\n",
    ").to_frame(index=False)\n",
    "\n"
   ]
  },
  {
   "cell_type": "code",
   "execution_count": 12,
   "id": "9fcb11dd",
   "metadata": {},
   "outputs": [],
   "source": [
    "# Merge cleanly with static features\n",
    "panel = panel.merge(static_features, on=\"ID_UEV\", how=\"left\")\n"
   ]
  },
  {
   "cell_type": "code",
   "execution_count": null,
   "id": "170107d2",
   "metadata": {},
   "outputs": [],
   "source": []
  },
  {
   "cell_type": "code",
   "execution_count": null,
   "id": "088b530b",
   "metadata": {},
   "outputs": [],
   "source": []
  },
  {
   "cell_type": "code",
   "execution_count": null,
   "id": "572bb205",
   "metadata": {},
   "outputs": [],
   "source": []
  },
  {
   "cell_type": "code",
   "execution_count": 13,
   "id": "3b84701f",
   "metadata": {},
   "outputs": [],
   "source": [
    "# 🔸 Construct panel: building × month\n",
    "#unique_buildings = gdf[[\"ID_UEV\", \"LATITUDE\", \"LONGITUDE\"]].drop_duplicates()\n",
    "#all_months = pd.period_range(start=gdf[\"month\"].min(), end=gdf[\"month\"].max(), freq=\"M\")\n",
    "#panel = pd.MultiIndex.from_product([unique_buildings[\"ID_UEV\"], all_months],\n",
    "#                                   names=[\"ID_UEV\", \"month\"]).to_frame(index=False)\n",
    "#panel = panel.merge(unique_buildings, on=\"ID_UEV\", how=\"left\")\n"
   ]
  },
  {
   "cell_type": "code",
   "execution_count": 14,
   "id": "1b5055b1",
   "metadata": {},
   "outputs": [],
   "source": [
    "# 🔸 1. Label fire presence\n",
    "fires = gdf[gdf[\"fire\"] == True][[\"ID_UEV\", \"month\"]].drop_duplicates()\n",
    "fires[\"HAS_FIRE_THIS_MONTH\"] = 1\n",
    "panel = panel.merge(fires, on=[\"ID_UEV\", \"month\"], how=\"left\")\n",
    "panel[\"HAS_FIRE_THIS_MONTH\"] = panel[\"HAS_FIRE_THIS_MONTH\"].fillna(0).astype(int)\n",
    "\n",
    "# 🔸 2. Create lag features\n",
    "panel = panel.sort_values(by=[\"ID_UEV\", \"month\"])\n",
    "panel[\"fire_last_1m\"] = panel.groupby(\"ID_UEV\")[\"HAS_FIRE_THIS_MONTH\"].shift(1).fillna(0)\n",
    "panel[\"fire_last_2m\"] = panel.groupby(\"ID_UEV\")[\"HAS_FIRE_THIS_MONTH\"].shift(2).fillna(0)\n",
    "panel[\"fire_last_3m\"] = panel.groupby(\"ID_UEV\")[\"HAS_FIRE_THIS_MONTH\"].shift(3).fillna(0)\n",
    "\n"
   ]
  },
  {
   "cell_type": "markdown",
   "id": "c7c798d6",
   "metadata": {},
   "source": [
    "✅ What We’ll Add\n",
    "fire_cumcount: Total number of past fires up to (but not including) this month.\n",
    "\n",
    "fire_rolling_3m: Number of fires in the last 3 full months.\n",
    "\n",
    "fire_rolling_6m: Number of fires in the last 6 full months.\n",
    "\n",
    "(Optional) fire_rolling_12m: Fires in the last year."
   ]
  },
  {
   "cell_type": "code",
   "execution_count": 15,
   "id": "96302fd8",
   "metadata": {},
   "outputs": [],
   "source": [
    "# ✅ Sort panel by ID_UEV and month (ascending)\n",
    "panel = panel.sort_values(by=[\"ID_UEV\", \"month\"]).reset_index(drop=True)\n"
   ]
  },
  {
   "cell_type": "code",
   "execution_count": 16,
   "id": "af714a3c",
   "metadata": {},
   "outputs": [],
   "source": [
    "# 🔄 Sort before group-based ops\n",
    "panel = panel.sort_values(by=[\"ID_UEV\", \"month\"])\n",
    "\n",
    "panel[\"fire_cumcount\"] = (\n",
    "    panel.groupby(\"ID_UEV\")[\"HAS_FIRE_THIS_MONTH\"]\n",
    "    .transform(lambda x: x.shift().cumsum())\n",
    "    .fillna(0)\n",
    ")\n",
    "\n",
    "\n",
    "# 🔄 Rolling fire count: 3 months\n",
    "panel[\"fire_rolling_3m\"] = (\n",
    "    panel.groupby(\"ID_UEV\")[\"HAS_FIRE_THIS_MONTH\"]\n",
    "    .transform(lambda x: x.shift().rolling(window=3, min_periods=1).sum())\n",
    "    .fillna(0)\n",
    ")\n",
    "\n",
    "# 🔄 Rolling fire count: 6 months\n",
    "panel[\"fire_rolling_6m\"] = (\n",
    "    panel.groupby(\"ID_UEV\")[\"HAS_FIRE_THIS_MONTH\"]\n",
    "    .transform(lambda x: x.shift().rolling(window=6, min_periods=1).sum())\n",
    "    .fillna(0)\n",
    ")\n",
    "\n",
    "# Optional: Rolling 12 months\n",
    "panel[\"fire_rolling_12m\"] = (\n",
    "    panel.groupby(\"ID_UEV\")[\"HAS_FIRE_THIS_MONTH\"]\n",
    "    .transform(lambda x: x.shift().rolling(window=12, min_periods=1).sum())\n",
    "    .fillna(0)\n",
    ")\n"
   ]
  },
  {
   "cell_type": "markdown",
   "id": "2d6758af",
   "metadata": {},
   "source": [
    "🚀 Recommended Next Steps\n",
    "Add more temporal signals:\n",
    "\n",
    "has_fire_last_month (binary from shift(1))\n",
    "\n",
    "has_fire_2_months_ago, etc.\n",
    "\n",
    "months_since_last_fire"
   ]
  },
  {
   "cell_type": "code",
   "execution_count": 17,
   "id": "1dcc0199",
   "metadata": {},
   "outputs": [],
   "source": [
    "panel[\"has_fire_last_month\"] = panel.groupby(\"ID_UEV\")[\"HAS_FIRE_THIS_MONTH\"].transform(lambda x: x.shift(1).fillna(0))\n",
    "panel[\"months_since_last_fire\"] = (\n",
    "    panel.groupby(\"ID_UEV\")[\"HAS_FIRE_THIS_MONTH\"]\n",
    "    .transform(lambda x: x.shift().apply(lambda val: 0 if val == 1 else None).ffill(limit=None).cumsum())\n",
    "    .fillna(999)  # or a max cap for \"never had fire\"\n",
    ")\n"
   ]
  },
  {
   "cell_type": "code",
   "execution_count": 18,
   "id": "5cb7ae10",
   "metadata": {},
   "outputs": [],
   "source": [
    "# 🔸 Add time-based features\n",
    "panel[\"month_num\"] = panel[\"month\"].dt.month\n",
    "panel[\"year\"] = panel[\"month\"].dt.year"
   ]
  },
  {
   "cell_type": "code",
   "execution_count": 19,
   "id": "394311ff",
   "metadata": {},
   "outputs": [
    {
     "data": {
      "text/plain": [
       "(20175155, 34)"
      ]
     },
     "execution_count": 19,
     "metadata": {},
     "output_type": "execute_result"
    }
   ],
   "source": [
    "panel.shape"
   ]
  },
  {
   "cell_type": "code",
   "execution_count": null,
   "id": "bb4f5808",
   "metadata": {},
   "outputs": [],
   "source": []
  },
  {
   "cell_type": "code",
   "execution_count": null,
   "id": "961d50db",
   "metadata": {},
   "outputs": [],
   "source": []
  },
  {
   "cell_type": "code",
   "execution_count": 20,
   "id": "c4eae987",
   "metadata": {},
   "outputs": [],
   "source": [
    "# 💾 Save panel\n",
    "panel.to_csv(OUTPUT_PANEL, index=False)"
   ]
  },
  {
   "cell_type": "code",
   "execution_count": null,
   "id": "896d2798",
   "metadata": {},
   "outputs": [],
   "source": []
  },
  {
   "cell_type": "code",
   "execution_count": null,
   "id": "9436ba64",
   "metadata": {},
   "outputs": [],
   "source": []
  },
  {
   "cell_type": "code",
   "execution_count": null,
   "id": "7d7c0009",
   "metadata": {},
   "outputs": [],
   "source": []
  },
  {
   "cell_type": "code",
   "execution_count": null,
   "id": "4c341318",
   "metadata": {},
   "outputs": [],
   "source": []
  },
  {
   "cell_type": "code",
   "execution_count": 21,
   "id": "769513ae",
   "metadata": {},
   "outputs": [],
   "source": [
    "# 🔸 Load panel for modeling\n",
    "df = pd.read_csv(OUTPUT_PANEL)\n",
    "df[\"month\"] = pd.to_datetime(df[\"month\"])\n",
    "df = df.sort_values([\"ID_UEV\", \"month\"])\n",
    "df[\"year\"] = df[\"month\"].dt.year"
   ]
  },
  {
   "cell_type": "code",
   "execution_count": 22,
   "id": "05c0cf19",
   "metadata": {},
   "outputs": [],
   "source": [
    "\n",
    "# 🔸 Add lag features\n",
    "for lag in range(1, 4):\n",
    "    df[f\"fire_last_{lag}m\"] = (\n",
    "        df.groupby(\"ID_UEV\")[\"HAS_FIRE_THIS_MONTH\"]\n",
    "        .shift(lag)\n",
    "        .fillna(0)\n",
    "        .astype(int)\n",
    "    )"
   ]
  },
  {
   "cell_type": "code",
   "execution_count": 23,
   "id": "092123d9",
   "metadata": {},
   "outputs": [],
   "source": [
    "\n",
    "\n",
    "features = [\n",
    "    \"MUNICIPALITE\", \"ETAGE_HORS_SOL\", \"NOMBRE_LOGEMENT\", \"AGE_BATIMENT\",\n",
    "    \"CODE_UTILISATION\", \"CATEGORIE_UEF\", \"SUPERFICIE_TERRAIN\", \"SUPERFICIE_BATIMENT\",\n",
    "    \"NO_ARROND_ILE_CUM\", \"RATIO_SURFACE\", \"DENSITE_LOGEMENT\", \"HAS_MULTIPLE_LOGEMENTS\",\n",
    "    \"FIRE_FREQUENCY_ZONE\", \"FIRE_RATE_ZONE\", \"FIRE_COUNT_LAST_YEAR_ZONE\", \"BUILDING_COUNT\",\n",
    "    \"FIRE_RATE_ZONE_NORM\", \"FIRE_COUNT_LAST_YEAR_ZONE_NORM\", \n",
    "    \"fire_last_1m\", \"fire_last_2m\", \"fire_last_3m\",\"fire_cumcount\",\"fire_rolling_3m\",\"fire_rolling_6m\",\"fire_rolling_12m\",\n",
    "    \"month_num\", \"year\"  #,\"season\"\n",
    "]\n",
    "target = \"HAS_FIRE_THIS_MONTH\"\n"
   ]
  },
  {
   "cell_type": "code",
   "execution_count": 24,
   "id": "fb458b6e",
   "metadata": {},
   "outputs": [],
   "source": [
    "from sklearn.preprocessing import LabelEncoder\n",
    "\n",
    "for col in [\"CATEGORIE_UEF\", \"NO_ARROND_ILE_CUM\"]:\n",
    "    le = LabelEncoder()\n",
    "    df[col] = le.fit_transform(df[col].astype(str))\n"
   ]
  },
  {
   "cell_type": "code",
   "execution_count": 25,
   "id": "dccfbbd7",
   "metadata": {},
   "outputs": [],
   "source": [
    "# First: convert in the full df\n",
    "df[\"CATEGORIE_UEF\"] = df[\"CATEGORIE_UEF\"].astype(\"category\")\n",
    "df[\"NO_ARROND_ILE_CUM\"] = df[\"NO_ARROND_ILE_CUM\"].astype(\"category\")\n",
    "\n",
    "# Now re-split\n",
    "train_df = df[df[\"year\"] <= 2023]\n",
    "test_df = df[df[\"year\"] == 2024]\n",
    "\n",
    "X_train = train_df[features]\n",
    "y_train = train_df[target]\n",
    "X_test = test_df[features]\n",
    "y_test = test_df[target]\n"
   ]
  },
  {
   "cell_type": "code",
   "execution_count": null,
   "id": "a7fdd2e0",
   "metadata": {},
   "outputs": [],
   "source": []
  },
  {
   "cell_type": "code",
   "execution_count": 26,
   "id": "a4db2885",
   "metadata": {},
   "outputs": [
    {
     "name": "stdout",
     "output_type": "stream",
     "text": [
      "['ID_UEV', 'month', 'LATITUDE', 'LONGITUDE', 'MUNICIPALITE', 'ETAGE_HORS_SOL', 'NOMBRE_LOGEMENT', 'AGE_BATIMENT', 'CODE_UTILISATION', 'CATEGORIE_UEF', 'SUPERFICIE_TERRAIN', 'SUPERFICIE_BATIMENT', 'NO_ARROND_ILE_CUM', 'RATIO_SURFACE', 'DENSITE_LOGEMENT', 'HAS_MULTIPLE_LOGEMENTS', 'FIRE_FREQUENCY_ZONE', 'FIRE_RATE_ZONE', 'FIRE_COUNT_LAST_YEAR_ZONE', 'BUILDING_COUNT', 'FIRE_RATE_ZONE_NORM', 'FIRE_COUNT_LAST_YEAR_ZONE_NORM', 'HAS_FIRE_THIS_MONTH', 'fire_last_1m', 'fire_last_2m', 'fire_last_3m', 'fire_cumcount', 'fire_rolling_3m', 'fire_rolling_6m', 'fire_rolling_12m', 'has_fire_last_month', 'months_since_last_fire', 'month_num', 'year']\n"
     ]
    }
   ],
   "source": [
    "print(train_df.columns.tolist())\n"
   ]
  },
  {
   "cell_type": "code",
   "execution_count": 27,
   "id": "e722191c",
   "metadata": {},
   "outputs": [],
   "source": [
    "# ⚖️ Class imbalance\n",
    "scale_pos_weight = (len(y_train) - y_train.sum()) / y_train.sum()"
   ]
  },
  {
   "cell_type": "code",
   "execution_count": 28,
   "id": "fa203c64",
   "metadata": {},
   "outputs": [
    {
     "name": "stderr",
     "output_type": "stream",
     "text": [
      "C:\\Users\\mirei\\AppData\\Roaming\\Python\\Python311\\site-packages\\xgboost\\core.py:158: UserWarning: [19:13:15] WARNING: C:\\buildkite-agent\\builds\\buildkite-windows-cpu-autoscaling-group-i-06abd128ca6c1688d-1\\xgboost\\xgboost-ci-windows\\src\\learner.cc:740: \n",
      "Parameters: { \"use_label_encoder\" } are not used.\n",
      "\n",
      "  warnings.warn(smsg, UserWarning)\n"
     ]
    },
    {
     "data": {
      "text/html": [
       "<style>#sk-container-id-1 {color: black;background-color: white;}#sk-container-id-1 pre{padding: 0;}#sk-container-id-1 div.sk-toggleable {background-color: white;}#sk-container-id-1 label.sk-toggleable__label {cursor: pointer;display: block;width: 100%;margin-bottom: 0;padding: 0.3em;box-sizing: border-box;text-align: center;}#sk-container-id-1 label.sk-toggleable__label-arrow:before {content: \"▸\";float: left;margin-right: 0.25em;color: #696969;}#sk-container-id-1 label.sk-toggleable__label-arrow:hover:before {color: black;}#sk-container-id-1 div.sk-estimator:hover label.sk-toggleable__label-arrow:before {color: black;}#sk-container-id-1 div.sk-toggleable__content {max-height: 0;max-width: 0;overflow: hidden;text-align: left;background-color: #f0f8ff;}#sk-container-id-1 div.sk-toggleable__content pre {margin: 0.2em;color: black;border-radius: 0.25em;background-color: #f0f8ff;}#sk-container-id-1 input.sk-toggleable__control:checked~div.sk-toggleable__content {max-height: 200px;max-width: 100%;overflow: auto;}#sk-container-id-1 input.sk-toggleable__control:checked~label.sk-toggleable__label-arrow:before {content: \"▾\";}#sk-container-id-1 div.sk-estimator input.sk-toggleable__control:checked~label.sk-toggleable__label {background-color: #d4ebff;}#sk-container-id-1 div.sk-label input.sk-toggleable__control:checked~label.sk-toggleable__label {background-color: #d4ebff;}#sk-container-id-1 input.sk-hidden--visually {border: 0;clip: rect(1px 1px 1px 1px);clip: rect(1px, 1px, 1px, 1px);height: 1px;margin: -1px;overflow: hidden;padding: 0;position: absolute;width: 1px;}#sk-container-id-1 div.sk-estimator {font-family: monospace;background-color: #f0f8ff;border: 1px dotted black;border-radius: 0.25em;box-sizing: border-box;margin-bottom: 0.5em;}#sk-container-id-1 div.sk-estimator:hover {background-color: #d4ebff;}#sk-container-id-1 div.sk-parallel-item::after {content: \"\";width: 100%;border-bottom: 1px solid gray;flex-grow: 1;}#sk-container-id-1 div.sk-label:hover label.sk-toggleable__label {background-color: #d4ebff;}#sk-container-id-1 div.sk-serial::before {content: \"\";position: absolute;border-left: 1px solid gray;box-sizing: border-box;top: 0;bottom: 0;left: 50%;z-index: 0;}#sk-container-id-1 div.sk-serial {display: flex;flex-direction: column;align-items: center;background-color: white;padding-right: 0.2em;padding-left: 0.2em;position: relative;}#sk-container-id-1 div.sk-item {position: relative;z-index: 1;}#sk-container-id-1 div.sk-parallel {display: flex;align-items: stretch;justify-content: center;background-color: white;position: relative;}#sk-container-id-1 div.sk-item::before, #sk-container-id-1 div.sk-parallel-item::before {content: \"\";position: absolute;border-left: 1px solid gray;box-sizing: border-box;top: 0;bottom: 0;left: 50%;z-index: -1;}#sk-container-id-1 div.sk-parallel-item {display: flex;flex-direction: column;z-index: 1;position: relative;background-color: white;}#sk-container-id-1 div.sk-parallel-item:first-child::after {align-self: flex-end;width: 50%;}#sk-container-id-1 div.sk-parallel-item:last-child::after {align-self: flex-start;width: 50%;}#sk-container-id-1 div.sk-parallel-item:only-child::after {width: 0;}#sk-container-id-1 div.sk-dashed-wrapped {border: 1px dashed gray;margin: 0 0.4em 0.5em 0.4em;box-sizing: border-box;padding-bottom: 0.4em;background-color: white;}#sk-container-id-1 div.sk-label label {font-family: monospace;font-weight: bold;display: inline-block;line-height: 1.2em;}#sk-container-id-1 div.sk-label-container {text-align: center;}#sk-container-id-1 div.sk-container {/* jupyter's `normalize.less` sets `[hidden] { display: none; }` but bootstrap.min.css set `[hidden] { display: none !important; }` so we also need the `!important` here to be able to override the default hidden behavior on the sphinx rendered scikit-learn.org. See: https://github.com/scikit-learn/scikit-learn/issues/21755 */display: inline-block !important;position: relative;}#sk-container-id-1 div.sk-text-repr-fallback {display: none;}</style><div id=\"sk-container-id-1\" class=\"sk-top-container\"><div class=\"sk-text-repr-fallback\"><pre>XGBClassifier(base_score=None, booster=None, callbacks=None,\n",
       "              colsample_bylevel=None, colsample_bynode=None,\n",
       "              colsample_bytree=None, device=None, early_stopping_rounds=None,\n",
       "              enable_categorical=True, eval_metric=&#x27;logloss&#x27;,\n",
       "              feature_types=None, gamma=None, grow_policy=None,\n",
       "              importance_type=None, interaction_constraints=None,\n",
       "              learning_rate=0.1, max_bin=None, max_cat_threshold=None,\n",
       "              max_cat_to_onehot=None, max_delta_step=None, max_depth=5,\n",
       "              max_leaves=None, min_child_weight=None, missing=nan,\n",
       "              monotone_constraints=None, multi_strategy=None, n_estimators=100,\n",
       "              n_jobs=None, num_parallel_tree=None, random_state=42, ...)</pre><b>In a Jupyter environment, please rerun this cell to show the HTML representation or trust the notebook. <br />On GitHub, the HTML representation is unable to render, please try loading this page with nbviewer.org.</b></div><div class=\"sk-container\" hidden><div class=\"sk-item\"><div class=\"sk-estimator sk-toggleable\"><input class=\"sk-toggleable__control sk-hidden--visually\" id=\"sk-estimator-id-1\" type=\"checkbox\" checked><label for=\"sk-estimator-id-1\" class=\"sk-toggleable__label sk-toggleable__label-arrow\">XGBClassifier</label><div class=\"sk-toggleable__content\"><pre>XGBClassifier(base_score=None, booster=None, callbacks=None,\n",
       "              colsample_bylevel=None, colsample_bynode=None,\n",
       "              colsample_bytree=None, device=None, early_stopping_rounds=None,\n",
       "              enable_categorical=True, eval_metric=&#x27;logloss&#x27;,\n",
       "              feature_types=None, gamma=None, grow_policy=None,\n",
       "              importance_type=None, interaction_constraints=None,\n",
       "              learning_rate=0.1, max_bin=None, max_cat_threshold=None,\n",
       "              max_cat_to_onehot=None, max_delta_step=None, max_depth=5,\n",
       "              max_leaves=None, min_child_weight=None, missing=nan,\n",
       "              monotone_constraints=None, multi_strategy=None, n_estimators=100,\n",
       "              n_jobs=None, num_parallel_tree=None, random_state=42, ...)</pre></div></div></div></div></div>"
      ],
      "text/plain": [
       "XGBClassifier(base_score=None, booster=None, callbacks=None,\n",
       "              colsample_bylevel=None, colsample_bynode=None,\n",
       "              colsample_bytree=None, device=None, early_stopping_rounds=None,\n",
       "              enable_categorical=True, eval_metric='logloss',\n",
       "              feature_types=None, gamma=None, grow_policy=None,\n",
       "              importance_type=None, interaction_constraints=None,\n",
       "              learning_rate=0.1, max_bin=None, max_cat_threshold=None,\n",
       "              max_cat_to_onehot=None, max_delta_step=None, max_depth=5,\n",
       "              max_leaves=None, min_child_weight=None, missing=nan,\n",
       "              monotone_constraints=None, multi_strategy=None, n_estimators=100,\n",
       "              n_jobs=None, num_parallel_tree=None, random_state=42, ...)"
      ]
     },
     "execution_count": 28,
     "metadata": {},
     "output_type": "execute_result"
    }
   ],
   "source": [
    "from xgboost import XGBClassifier\n",
    "\n",
    "model = XGBClassifier(\n",
    "    enable_categorical=True,\n",
    "    scale_pos_weight=scale_pos_weight,\n",
    "    use_label_encoder=False,\n",
    "    eval_metric=\"logloss\",\n",
    "    n_estimators=100,\n",
    "    max_depth=5,\n",
    "    learning_rate=0.1,\n",
    "    random_state=42\n",
    ")\n",
    "\n",
    "model.fit(X_train, y_train)\n"
   ]
  },
  {
   "cell_type": "code",
   "execution_count": 29,
   "id": "4548ca8c",
   "metadata": {},
   "outputs": [
    {
     "name": "stdout",
     "output_type": "stream",
     "text": [
      "              precision    recall  f1-score   support\n",
      "\n",
      "           0      0.992     0.701     0.821   3674405\n",
      "           1      0.027     0.604     0.051     50239\n",
      "\n",
      "    accuracy                          0.699   3724644\n",
      "   macro avg      0.510     0.652     0.436   3724644\n",
      "weighted avg      0.979     0.699     0.811   3724644\n",
      "\n"
     ]
    }
   ],
   "source": [
    "# 📊 Evaluate\n",
    "y_pred = model.predict(X_test)\n",
    "print(classification_report(y_test, y_pred, digits=3))"
   ]
  },
  {
   "cell_type": "markdown",
   "id": "6ee0c5c3",
   "metadata": {},
   "source": [
    "🔍 Interpretation of Metrics (Threshold = 0.2?)\n",
    "Metric\tClass 0 (No Fire)\tClass 1 (Fire)\n",
    "Precision\t0.992\t0.027\n",
    "Recall\t0.698\t0.603\n",
    "F1-score\t0.819\t0.051\n",
    "\n",
    "🔵 High recall for fire class (1): You're catching 60% of fires, which is good for early detection.\n",
    "\n",
    "🔴 Very low precision for fire class (1): Among the predicted fires, only 2.7% are actually fires.\n",
    "\n",
    "⚖️ Accuracy is misleading (69%) due to imbalance (only 1.3% fires in your data)."
   ]
  },
  {
   "cell_type": "markdown",
   "id": "f33b406f",
   "metadata": {},
   "source": [
    "🎯 Interpretation\n",
    "This is typical for imbalanced binary classification:\n",
    "\n",
    "Your model is tuned toward catching more fires (high recall).\n",
    "\n",
    "But it's imprecise: many \"fire\" predictions are wrong.\n",
    "\n"
   ]
  },
  {
   "cell_type": "markdown",
   "id": "5b54429c",
   "metadata": {},
   "source": [
    "✅ What You Did Well\n",
    "Feature engineering helped improve recall for rare event (fire).\n",
    "\n",
    "Model is no longer \"lazy\" and defaulting to class 0.\n",
    "\n",
    "Good step forward for early warning/risk flagging.\n",
    "\n"
   ]
  },
  {
   "cell_type": "code",
   "execution_count": null,
   "id": "6f599e8f",
   "metadata": {},
   "outputs": [],
   "source": []
  },
  {
   "cell_type": "code",
   "execution_count": null,
   "id": "0570545c",
   "metadata": {},
   "outputs": [],
   "source": []
  },
  {
   "cell_type": "code",
   "execution_count": null,
   "id": "a704bf14",
   "metadata": {},
   "outputs": [],
   "source": []
  },
  {
   "cell_type": "code",
   "execution_count": null,
   "id": "f9b4ac53",
   "metadata": {},
   "outputs": [],
   "source": []
  },
  {
   "cell_type": "code",
   "execution_count": null,
   "id": "babe0ce4",
   "metadata": {},
   "outputs": [],
   "source": []
  },
  {
   "cell_type": "markdown",
   "id": "fa849aef",
   "metadata": {},
   "source": [
    "tune the threshold and optimize the tradeoff between precision and recall using XGBoost and sklearn:"
   ]
  },
  {
   "cell_type": "code",
   "execution_count": 30,
   "id": "6e41a941",
   "metadata": {},
   "outputs": [],
   "source": [
    "#✅ 1. Predict Probabilities on Test Set\n",
    "# Predict probabilities (for class 1 = fire)\n",
    "y_probs = model.predict_proba(X_test)[:, 1]\n",
    "\n"
   ]
  },
  {
   "cell_type": "code",
   "execution_count": 31,
   "id": "c77c4acd",
   "metadata": {},
   "outputs": [
    {
     "data": {
      "image/png": "[encoded data removed]",
      "text/plain": [
       "<Figure size 800x500 with 1 Axes>"
      ]
     },
     "metadata": {},
     "output_type": "display_data"
    }
   ],
   "source": [
    "#📈 2. Plot Precision-Recall Curve\n",
    "from sklearn.metrics import precision_recall_curve\n",
    "import matplotlib.pyplot as plt\n",
    "\n",
    "precisions, recalls, thresholds = precision_recall_curve(y_test, y_probs)\n",
    "\n",
    "plt.figure(figsize=(8, 5))\n",
    "plt.plot(thresholds, precisions[:-1], label='Precision')\n",
    "plt.plot(thresholds, recalls[:-1], label='Recall')\n",
    "plt.xlabel('Threshold')\n",
    "plt.ylabel('Score')\n",
    "plt.title('Precision-Recall vs Threshold')\n",
    "plt.legend()\n",
    "plt.grid(True)\n",
    "plt.show()\n"
   ]
  },
  {
   "cell_type": "markdown",
   "id": "9bee339d",
   "metadata": {},
   "source": [
    "it clearly shows the typical inverse relationship between precision and recall:\n",
    "\n",
    "🔸 Recall is very high (>90%) when the threshold is low (e.g., <0.2), but precision is very low.\n",
    "\n",
    "🔸 Precision slightly improves as threshold increases, but only becomes meaningful after ~0.8 — at the cost of very low recall."
   ]
  },
  {
   "cell_type": "code",
   "execution_count": 32,
   "id": "b56443b4",
   "metadata": {},
   "outputs": [
    {
     "name": "stdout",
     "output_type": "stream",
     "text": [
      "🔍 Classification report at threshold = 0.2\n",
      "[[ 815346 2859059]\n",
      " [   2223   48016]]\n",
      "              precision    recall  f1-score   support\n",
      "\n",
      "           0      0.997     0.222     0.363   3674405\n",
      "           1      0.017     0.956     0.032     50239\n",
      "\n",
      "    accuracy                          0.232   3724644\n",
      "   macro avg      0.507     0.589     0.198   3724644\n",
      "weighted avg      0.984     0.232     0.359   3724644\n",
      "\n"
     ]
    }
   ],
   "source": [
    "from sklearn.metrics import classification_report, confusion_matrix\n",
    "\n",
    "# 🔧 Set threshold manually\n",
    "threshold = 0.2\n",
    "y_pred_custom = (y_probs >= threshold).astype(int)\n",
    "\n",
    "# 📊 Evaluate\n",
    "print(f\"🔍 Classification report at threshold = {threshold}\")\n",
    "print(confusion_matrix(y_test, y_pred_custom))\n",
    "print(classification_report(y_test, y_pred_custom, digits=3))\n",
    "\n"
   ]
  },
  {
   "cell_type": "markdown",
   "id": "2e4307fb",
   "metadata": {},
   "source": [
    "⚠️ What This Tells You\n",
    "✅ You're capturing 95.6% of actual fires (very high recall).\n",
    "\n",
    "❌ But 98.4% of the \"fire\" predictions are false alarms (precision = 1.6%).\n",
    "\n",
    "❌ Overall accuracy drops to 23% because you're labeling so many buildings as high risk.\n",
    "\n",
    "📈 What to Do Next (Recommended Steps)\n",
    "1. Raise the threshold to improve precision\n",
    "Right now, you're labeling nearly every building as fire-prone. A better threshold balances recall and precision. Try:\n",
    "\n",
    "\n",
    "**2. Use rebalanced training (under/oversampling) + time-aware features\n",
    "Your feature set is improving. Once you merge in more external data (e.g. weather, interventions), you'll get better precision without compromising recall.**"
   ]
  },
  {
   "cell_type": "markdown",
   "id": "44b24cac",
   "metadata": {},
   "source": [
    "✅ Recommendation\n",
    "You need a better balance between recall and precision, especially if you're building a resource-planning or early warning system. "
   ]
  },
  {
   "cell_type": "markdown",
   "id": "ce48cec1",
   "metadata": {},
   "source": [
    " 🧪 Test Thresholds in [0.3, 0.5] Range\n",
    "These thresholds usually yield better trade-offs in imbalanced cases."
   ]
  },
  {
   "cell_type": "code",
   "execution_count": 33,
   "id": "fab1cca1",
   "metadata": {},
   "outputs": [
    {
     "name": "stdout",
     "output_type": "stream",
     "text": [
      "Threshold: 0.3\n",
      "              precision    recall  f1-score   support\n",
      "\n",
      "           0      0.996     0.386     0.557   3674405\n",
      "           1      0.019     0.886     0.038     50239\n",
      "\n",
      "    accuracy                          0.393   3724644\n",
      "   macro avg      0.508     0.636     0.297   3724644\n",
      "weighted avg      0.983     0.393     0.550   3724644\n",
      "\n",
      "\n",
      "Threshold: 0.35\n",
      "              precision    recall  f1-score   support\n",
      "\n",
      "           0      0.995     0.462     0.631   3674405\n",
      "           1      0.021     0.840     0.041     50239\n",
      "\n",
      "    accuracy                          0.467   3724644\n",
      "   macro avg      0.508     0.651     0.336   3724644\n",
      "weighted avg      0.982     0.467     0.623   3724644\n",
      "\n",
      "\n",
      "Threshold: 0.4\n",
      "              precision    recall  f1-score   support\n",
      "\n",
      "           0      0.995     0.551     0.709   3674405\n",
      "           1      0.023     0.778     0.045     50239\n",
      "\n",
      "    accuracy                          0.554   3724644\n",
      "   macro avg      0.509     0.664     0.377   3724644\n",
      "weighted avg      0.981     0.554     0.700   3724644\n",
      "\n",
      "\n",
      "Threshold: 0.45\n",
      "              precision    recall  f1-score   support\n",
      "\n",
      "           0      0.993     0.624     0.766   3674405\n",
      "           1      0.025     0.698     0.048     50239\n",
      "\n",
      "    accuracy                          0.625   3724644\n",
      "   macro avg      0.509     0.661     0.407   3724644\n",
      "weighted avg      0.980     0.625     0.757   3724644\n",
      "\n",
      "\n",
      "Threshold: 0.5\n",
      "              precision    recall  f1-score   support\n",
      "\n",
      "           0      0.992     0.701     0.821   3674405\n",
      "           1      0.027     0.604     0.051     50239\n",
      "\n",
      "    accuracy                          0.699   3724644\n",
      "   macro avg      0.510     0.652     0.436   3724644\n",
      "weighted avg      0.979     0.699     0.811   3724644\n",
      "\n",
      "\n"
     ]
    }
   ],
   "source": [
    "for t in [0.3, 0.35, 0.4, 0.45, 0.5]:\n",
    "    y_pred = (y_probs >= t).astype(int)\n",
    "    print(f\"Threshold: {t}\")\n",
    "    print(classification_report(y_test, y_pred, digits=3))\n",
    "    print()\n"
   ]
  },
  {
   "cell_type": "markdown",
   "id": "92714f1b",
   "metadata": {},
   "source": [
    "✅ Recommended Threshold: 0.45 or 0.5\n",
    "🔹 Use 0.5 if:\n",
    "You're okay missing ~40% of fires (recall = 60%)\n",
    "\n",
    "But you want higher precision and better overall accuracy\n",
    "\n",
    "🔹 Use 0.45 if:\n",
    "You want more recall (70%) and still get better precision than 0.3–0.4\n",
    "\n",
    "You're still early in prototyping and prefer recall over precision"
   ]
  },
  {
   "cell_type": "markdown",
   "id": "e2664e0c",
   "metadata": {},
   "source": [
    "🔥 Fire Risk Modeling: Which Metric Matters Most?\n",
    "✅ Choose Recall (0.45 threshold) if:\n",
    "Goal: Identify as many high-risk buildings as possible.\n",
    "\n",
    "Why: You prefer to flag more potential risks (even with false alarms).\n",
    "\n",
    "Use Case: Fire department wants early alerts, prevention, or targeted inspections.\n",
    "\n",
    "Cost of Missing Fires (False Negatives) is high — it's worse to miss a fire than to overpredict.\n",
    "\n",
    "Recommended Metric:\n",
    "\n",
    "Recall (focus on sensitivity)\n",
    "\n",
    "Optionally: F2-score (which emphasizes recall more than precision)\n",
    "\n",
    "✅ Choose Precision/Accuracy (0.5 threshold) if:\n",
    "Goal: Only flag buildings where you are confident fire will occur.\n",
    "\n",
    "Why: You want to minimize false alarms — perhaps inspections are expensive.\n",
    "\n",
    "Use Case: You only act if the risk is very real (limited resources).\n",
    "\n",
    "Cost of False Positives is high (e.g., unnecessary inspections waste time/money).\n",
    "\n",
    "Recommended Metric:\n",
    "\n",
    "Precision\n",
    "\n",
    "Overall Accuracy\n",
    "\n",
    "💡 Best Practice in Risk Modeling:\n",
    "Since fire is rare and high-cost, it's usually better to favor recall, especially in early stages of modeling:\n",
    "\n",
    "⚠️ “It’s better to catch 70% of fire risks with a few false alarms than to miss half the actual fires.”\n",
    "\n",
    "✅ Conclusion for You:\n",
    "Use threshold = 0.45, prioritize recall, and track F2-score to guide further model improvements."
   ]
  },
  {
   "cell_type": "code",
   "execution_count": 34,
   "id": "97be566b",
   "metadata": {},
   "outputs": [
    {
     "data": {
      "text/html": [
       "<div>\n",
       "<style scoped>\n",
       "    .dataframe tbody tr th:only-of-type {\n",
       "        vertical-align: middle;\n",
       "    }\n",
       "\n",
       "    .dataframe tbody tr th {\n",
       "        vertical-align: top;\n",
       "    }\n",
       "\n",
       "    .dataframe thead th {\n",
       "        text-align: right;\n",
       "    }\n",
       "</style>\n",
       "<table border=\"1\" class=\"dataframe\">\n",
       "  <thead>\n",
       "    <tr style=\"text-align: right;\">\n",
       "      <th></th>\n",
       "      <th>Threshold</th>\n",
       "      <th>Precision</th>\n",
       "      <th>Recall</th>\n",
       "      <th>F2 Score</th>\n",
       "    </tr>\n",
       "  </thead>\n",
       "  <tbody>\n",
       "    <tr>\n",
       "      <th>0</th>\n",
       "      <td>0.50</td>\n",
       "      <td>0.026833</td>\n",
       "      <td>0.603893</td>\n",
       "      <td>0.113920</td>\n",
       "    </tr>\n",
       "    <tr>\n",
       "      <th>1</th>\n",
       "      <td>0.45</td>\n",
       "      <td>0.024759</td>\n",
       "      <td>0.698402</td>\n",
       "      <td>0.108422</td>\n",
       "    </tr>\n",
       "    <tr>\n",
       "      <th>2</th>\n",
       "      <td>0.40</td>\n",
       "      <td>0.023139</td>\n",
       "      <td>0.777802</td>\n",
       "      <td>0.103390</td>\n",
       "    </tr>\n",
       "    <tr>\n",
       "      <th>3</th>\n",
       "      <td>0.35</td>\n",
       "      <td>0.020900</td>\n",
       "      <td>0.840383</td>\n",
       "      <td>0.095045</td>\n",
       "    </tr>\n",
       "    <tr>\n",
       "      <th>4</th>\n",
       "      <td>0.30</td>\n",
       "      <td>0.019362</td>\n",
       "      <td>0.886483</td>\n",
       "      <td>0.089033</td>\n",
       "    </tr>\n",
       "    <tr>\n",
       "      <th>5</th>\n",
       "      <td>0.20</td>\n",
       "      <td>0.016517</td>\n",
       "      <td>0.955752</td>\n",
       "      <td>0.077245</td>\n",
       "    </tr>\n",
       "  </tbody>\n",
       "</table>\n",
       "</div>"
      ],
      "text/plain": [
       "   Threshold  Precision    Recall  F2 Score\n",
       "0       0.50   0.026833  0.603893  0.113920\n",
       "1       0.45   0.024759  0.698402  0.108422\n",
       "2       0.40   0.023139  0.777802  0.103390\n",
       "3       0.35   0.020900  0.840383  0.095045\n",
       "4       0.30   0.019362  0.886483  0.089033\n",
       "5       0.20   0.016517  0.955752  0.077245"
      ]
     },
     "execution_count": 34,
     "metadata": {},
     "output_type": "execute_result"
    }
   ],
   "source": [
    "import numpy as np\n",
    "import pandas as pd\n",
    "from sklearn.metrics import precision_score, recall_score, fbeta_score\n",
    "\n",
    "# 🔸 Assumes y_test (true labels) and y_probs (predicted probabilities) already exist\n",
    "\n",
    "# Define thresholds to evaluate\n",
    "thresholds = [0.2, 0.3, 0.35, 0.4, 0.45, 0.5]\n",
    "\n",
    "# Store results\n",
    "results = []\n",
    "\n",
    "for threshold in thresholds:\n",
    "    y_pred = (y_probs >= threshold).astype(int)\n",
    "    \n",
    "    precision = precision_score(y_test, y_pred)\n",
    "    recall = recall_score(y_test, y_pred)\n",
    "    f2 = fbeta_score(y_test, y_pred, beta=2)\n",
    "    \n",
    "    results.append({\n",
    "        \"Threshold\": threshold,\n",
    "        \"Precision\": precision,\n",
    "        \"Recall\": recall,\n",
    "        \"F2 Score\": f2\n",
    "    })\n",
    "\n",
    "# Create DataFrame to view results\n",
    "threshold_df = pd.DataFrame(results)\n",
    "threshold_df = threshold_df.sort_values(by=\"F2 Score\", ascending=False).reset_index(drop=True)\n",
    "\n",
    "# 🔍 Show table sorted by F2 Score\n",
    "threshold_df\n"
   ]
  },
  {
   "cell_type": "markdown",
   "id": "1b970ffe",
   "metadata": {},
   "source": [
    "Interpretation (Fire Risk Modeling by Location & Month):\n",
    "| Threshold | Precision | Recall | F2 Score  | Comment                                                     |\n",
    "| --------- | --------- | ------ | --------- | ----------------------------------------------------------- |\n",
    "| **0.50**  | 0.027     | 0.603  | **0.113** |  **Best F2 Score**: balances recall & tolerable precision |\n",
    "| 0.45      | 0.025     | 0.698  | 0.107     |  Higher recall but drops F2 slightly                      |\n",
    "| 0.40      | 0.023     | 0.774  | 0.102     |  More recall, still decent                                |\n",
    "| 0.35–0.20 | ↓         | ↑      | ↓         |  Recall increases but F2 & precision drop too much        |\n",
    "\n",
    "    "
   ]
  },
  {
   "cell_type": "markdown",
   "id": "c370bbb4",
   "metadata": {},
   "source": [
    "🔍 Recommendation for Monthly Fire Risk by Location:\n",
    "Use threshold = 0.50 as your current working value:\n",
    "\n",
    "It provides the highest F2 score, which prioritizes recall more than precision — ideal for risk modeling (catch more true fires).\n",
    "\n",
    "Keeps false positives relatively lower than aggressive recall thresholds (like 0.2–0.3).\n",
    "\n"
   ]
  },
  {
   "cell_type": "code",
   "execution_count": 35,
   "id": "55f61289",
   "metadata": {},
   "outputs": [
    {
     "data": {
      "image/png": "[encoded data removed]",
      "text/plain": [
       "<Figure size 1000x600 with 1 Axes>"
      ]
     },
     "metadata": {},
     "output_type": "display_data"
    }
   ],
   "source": [
    "import matplotlib.pyplot as plt\n",
    "\n",
    "plt.figure(figsize=(10, 6))\n",
    "plt.plot(threshold_df[\"Threshold\"], threshold_df[\"Precision\"], label=\"Precision\", marker='o')\n",
    "plt.plot(threshold_df[\"Threshold\"], threshold_df[\"Recall\"], label=\"Recall\", marker='o')\n",
    "plt.plot(threshold_df[\"Threshold\"], threshold_df[\"F2 Score\"], label=\"F2 Score\", marker='o')\n",
    "plt.xlabel(\"Threshold\")\n",
    "plt.ylabel(\"Score\")\n",
    "plt.title(\"Precision, Recall, and F2 Score vs Threshold\")\n",
    "plt.legend()\n",
    "plt.grid(True)\n",
    "plt.show()\n"
   ]
  },
  {
   "cell_type": "code",
   "execution_count": 36,
   "id": "856e5cf6",
   "metadata": {},
   "outputs": [
    {
     "data": {
      "image/png": "[encoded data removed]",
      "text/plain": [
       "<Figure size 600x400 with 2 Axes>"
      ]
     },
     "metadata": {},
     "output_type": "display_data"
    },
    {
     "name": "stdout",
     "output_type": "stream",
     "text": [
      "\n",
      "Classification Report at Threshold = 0.5:\n",
      "\n",
      "              precision    recall  f1-score   support\n",
      "\n",
      "           0      0.992     0.701     0.821   3674405\n",
      "           1      0.027     0.604     0.051     50239\n",
      "\n",
      "    accuracy                          0.699   3724644\n",
      "   macro avg      0.510     0.652     0.436   3724644\n",
      "weighted avg      0.979     0.699     0.811   3724644\n",
      "\n",
      "True Negatives:  2,574,102\n",
      "False Positives: 1,100,303\n",
      "False Negatives: 19,900\n",
      "True Positives:  30,339\n"
     ]
    }
   ],
   "source": [
    "from sklearn.metrics import confusion_matrix, classification_report\n",
    "import seaborn as sns\n",
    "import matplotlib.pyplot as plt\n",
    "\n",
    "# ⚙️ Apply threshold\n",
    "threshold = 0.50\n",
    "y_pred_50 = (y_probs >= threshold).astype(int)\n",
    "\n",
    "# 📊 Compute confusion matrix\n",
    "cm_50 = confusion_matrix(y_test, y_pred_50)\n",
    "tn, fp, fn, tp = cm_50.ravel()\n",
    "\n",
    "# 🖼️ Plot confusion matrix\n",
    "plt.figure(figsize=(6, 4))\n",
    "sns.heatmap(cm_50, annot=True, fmt='d', cmap='Blues', xticklabels=[\"No Fire\", \"Fire\"], yticklabels=[\"No Fire\", \"Fire\"])\n",
    "plt.title(f\"Confusion Matrix at Threshold = {threshold}\")\n",
    "plt.xlabel(\"Predicted\")\n",
    "plt.ylabel(\"Actual\")\n",
    "plt.show()\n",
    "\n",
    "# 📄 Classification report\n",
    "print(f\"\\nClassification Report at Threshold = {threshold}:\\n\")\n",
    "print(classification_report(y_test, y_pred_50, digits=3))\n",
    "\n",
    "# 📌 Optional: print raw values\n",
    "print(f\"True Negatives:  {tn:,}\")\n",
    "print(f\"False Positives: {fp:,}\")\n",
    "print(f\"False Negatives: {fn:,}\")\n",
    "print(f\"True Positives:  {tp:,}\")\n"
   ]
  },
  {
   "cell_type": "markdown",
   "id": "475705ef",
   "metadata": {},
   "source": [
    "📌 Suggested Next Steps:\n",
    "Try threshold = 0.45 for slightly higher recall (~70%) and more TP.\n",
    "\n",
    "Investigate false positives:\n",
    "\n",
    "Are they spatially or temporally concentrated?\n",
    "\n",
    "Are they near real fires? → might still be valuable.\n",
    "\n",
    "Try probabilistic risk scores instead of hard 0/1 labels for decision-making (e.g., ranking top 5% riskiest buildings each month).\n",
    "\n",
    "Add contextual features:\n",
    "\n",
    "Weather, previous nearby fires, building age, intervention history.\n",
    "\n",
    "Consider ensemble models to better separate classes."
   ]
  },
  {
   "cell_type": "markdown",
   "id": "ebdd1f02",
   "metadata": {},
   "source": [
    "Recommended Ensemble Approaches\n",
    "1. XGBoost (Gradient Boosted Trees)\n",
    "Handles imbalance well with scale_pos_weight\n",
    "\n",
    "Captures nonlinear relationships & feature interactions\n",
    "\n",
    "Already in your codebase? → Try tuning thresholds further.\n",
    "\n",
    "\n"
   ]
  },
  {
   "cell_type": "code",
   "execution_count": 37,
   "id": "f97d2056",
   "metadata": {},
   "outputs": [
    {
     "name": "stderr",
     "output_type": "stream",
     "text": [
      "C:\\Users\\mirei\\AppData\\Local\\Temp\\ipykernel_9380\\2389244370.py:6: SettingWithCopyWarning: \n",
      "A value is trying to be set on a copy of a slice from a DataFrame.\n",
      "Try using .loc[row_indexer,col_indexer] = value instead\n",
      "\n",
      "See the caveats in the documentation: https://pandas.pydata.org/pandas-docs/stable/user_guide/indexing.html#returning-a-view-versus-a-copy\n",
      "  X_train[col] = X_train[col].astype(\"category\")\n",
      "C:\\Users\\mirei\\AppData\\Local\\Temp\\ipykernel_9380\\2389244370.py:7: SettingWithCopyWarning: \n",
      "A value is trying to be set on a copy of a slice from a DataFrame.\n",
      "Try using .loc[row_indexer,col_indexer] = value instead\n",
      "\n",
      "See the caveats in the documentation: https://pandas.pydata.org/pandas-docs/stable/user_guide/indexing.html#returning-a-view-versus-a-copy\n",
      "  X_test[col] = X_test[col].astype(\"category\")\n",
      "C:\\Users\\mirei\\AppData\\Roaming\\Python\\Python311\\site-packages\\xgboost\\core.py:158: UserWarning: [19:14:56] WARNING: C:\\buildkite-agent\\builds\\buildkite-windows-cpu-autoscaling-group-i-06abd128ca6c1688d-1\\xgboost\\xgboost-ci-windows\\src\\learner.cc:740: \n",
      "Parameters: { \"use_label_encoder\" } are not used.\n",
      "\n",
      "  warnings.warn(smsg, UserWarning)\n"
     ]
    },
    {
     "data": {
      "text/html": [
       "<style>#sk-container-id-2 {color: black;background-color: white;}#sk-container-id-2 pre{padding: 0;}#sk-container-id-2 div.sk-toggleable {background-color: white;}#sk-container-id-2 label.sk-toggleable__label {cursor: pointer;display: block;width: 100%;margin-bottom: 0;padding: 0.3em;box-sizing: border-box;text-align: center;}#sk-container-id-2 label.sk-toggleable__label-arrow:before {content: \"▸\";float: left;margin-right: 0.25em;color: #696969;}#sk-container-id-2 label.sk-toggleable__label-arrow:hover:before {color: black;}#sk-container-id-2 div.sk-estimator:hover label.sk-toggleable__label-arrow:before {color: black;}#sk-container-id-2 div.sk-toggleable__content {max-height: 0;max-width: 0;overflow: hidden;text-align: left;background-color: #f0f8ff;}#sk-container-id-2 div.sk-toggleable__content pre {margin: 0.2em;color: black;border-radius: 0.25em;background-color: #f0f8ff;}#sk-container-id-2 input.sk-toggleable__control:checked~div.sk-toggleable__content {max-height: 200px;max-width: 100%;overflow: auto;}#sk-container-id-2 input.sk-toggleable__control:checked~label.sk-toggleable__label-arrow:before {content: \"▾\";}#sk-container-id-2 div.sk-estimator input.sk-toggleable__control:checked~label.sk-toggleable__label {background-color: #d4ebff;}#sk-container-id-2 div.sk-label input.sk-toggleable__control:checked~label.sk-toggleable__label {background-color: #d4ebff;}#sk-container-id-2 input.sk-hidden--visually {border: 0;clip: rect(1px 1px 1px 1px);clip: rect(1px, 1px, 1px, 1px);height: 1px;margin: -1px;overflow: hidden;padding: 0;position: absolute;width: 1px;}#sk-container-id-2 div.sk-estimator {font-family: monospace;background-color: #f0f8ff;border: 1px dotted black;border-radius: 0.25em;box-sizing: border-box;margin-bottom: 0.5em;}#sk-container-id-2 div.sk-estimator:hover {background-color: #d4ebff;}#sk-container-id-2 div.sk-parallel-item::after {content: \"\";width: 100%;border-bottom: 1px solid gray;flex-grow: 1;}#sk-container-id-2 div.sk-label:hover label.sk-toggleable__label {background-color: #d4ebff;}#sk-container-id-2 div.sk-serial::before {content: \"\";position: absolute;border-left: 1px solid gray;box-sizing: border-box;top: 0;bottom: 0;left: 50%;z-index: 0;}#sk-container-id-2 div.sk-serial {display: flex;flex-direction: column;align-items: center;background-color: white;padding-right: 0.2em;padding-left: 0.2em;position: relative;}#sk-container-id-2 div.sk-item {position: relative;z-index: 1;}#sk-container-id-2 div.sk-parallel {display: flex;align-items: stretch;justify-content: center;background-color: white;position: relative;}#sk-container-id-2 div.sk-item::before, #sk-container-id-2 div.sk-parallel-item::before {content: \"\";position: absolute;border-left: 1px solid gray;box-sizing: border-box;top: 0;bottom: 0;left: 50%;z-index: -1;}#sk-container-id-2 div.sk-parallel-item {display: flex;flex-direction: column;z-index: 1;position: relative;background-color: white;}#sk-container-id-2 div.sk-parallel-item:first-child::after {align-self: flex-end;width: 50%;}#sk-container-id-2 div.sk-parallel-item:last-child::after {align-self: flex-start;width: 50%;}#sk-container-id-2 div.sk-parallel-item:only-child::after {width: 0;}#sk-container-id-2 div.sk-dashed-wrapped {border: 1px dashed gray;margin: 0 0.4em 0.5em 0.4em;box-sizing: border-box;padding-bottom: 0.4em;background-color: white;}#sk-container-id-2 div.sk-label label {font-family: monospace;font-weight: bold;display: inline-block;line-height: 1.2em;}#sk-container-id-2 div.sk-label-container {text-align: center;}#sk-container-id-2 div.sk-container {/* jupyter's `normalize.less` sets `[hidden] { display: none; }` but bootstrap.min.css set `[hidden] { display: none !important; }` so we also need the `!important` here to be able to override the default hidden behavior on the sphinx rendered scikit-learn.org. See: https://github.com/scikit-learn/scikit-learn/issues/21755 */display: inline-block !important;position: relative;}#sk-container-id-2 div.sk-text-repr-fallback {display: none;}</style><div id=\"sk-container-id-2\" class=\"sk-top-container\"><div class=\"sk-text-repr-fallback\"><pre>XGBClassifier(base_score=None, booster=None, callbacks=None,\n",
       "              colsample_bylevel=None, colsample_bynode=None,\n",
       "              colsample_bytree=0.8, device=None, early_stopping_rounds=None,\n",
       "              enable_categorical=True, eval_metric=&#x27;logloss&#x27;,\n",
       "              feature_types=None, gamma=None, grow_policy=None,\n",
       "              importance_type=None, interaction_constraints=None,\n",
       "              learning_rate=0.1, max_bin=None, max_cat_threshold=None,\n",
       "              max_cat_to_onehot=None, max_delta_step=None, max_depth=6,\n",
       "              max_leaves=None, min_child_weight=None, missing=nan,\n",
       "              monotone_constraints=None, multi_strategy=None, n_estimators=200,\n",
       "              n_jobs=-1, num_parallel_tree=None, random_state=42, ...)</pre><b>In a Jupyter environment, please rerun this cell to show the HTML representation or trust the notebook. <br />On GitHub, the HTML representation is unable to render, please try loading this page with nbviewer.org.</b></div><div class=\"sk-container\" hidden><div class=\"sk-item\"><div class=\"sk-estimator sk-toggleable\"><input class=\"sk-toggleable__control sk-hidden--visually\" id=\"sk-estimator-id-2\" type=\"checkbox\" checked><label for=\"sk-estimator-id-2\" class=\"sk-toggleable__label sk-toggleable__label-arrow\">XGBClassifier</label><div class=\"sk-toggleable__content\"><pre>XGBClassifier(base_score=None, booster=None, callbacks=None,\n",
       "              colsample_bylevel=None, colsample_bynode=None,\n",
       "              colsample_bytree=0.8, device=None, early_stopping_rounds=None,\n",
       "              enable_categorical=True, eval_metric=&#x27;logloss&#x27;,\n",
       "              feature_types=None, gamma=None, grow_policy=None,\n",
       "              importance_type=None, interaction_constraints=None,\n",
       "              learning_rate=0.1, max_bin=None, max_cat_threshold=None,\n",
       "              max_cat_to_onehot=None, max_delta_step=None, max_depth=6,\n",
       "              max_leaves=None, min_child_weight=None, missing=nan,\n",
       "              monotone_constraints=None, multi_strategy=None, n_estimators=200,\n",
       "              n_jobs=-1, num_parallel_tree=None, random_state=42, ...)</pre></div></div></div></div></div>"
      ],
      "text/plain": [
       "XGBClassifier(base_score=None, booster=None, callbacks=None,\n",
       "              colsample_bylevel=None, colsample_bynode=None,\n",
       "              colsample_bytree=0.8, device=None, early_stopping_rounds=None,\n",
       "              enable_categorical=True, eval_metric='logloss',\n",
       "              feature_types=None, gamma=None, grow_policy=None,\n",
       "              importance_type=None, interaction_constraints=None,\n",
       "              learning_rate=0.1, max_bin=None, max_cat_threshold=None,\n",
       "              max_cat_to_onehot=None, max_delta_step=None, max_depth=6,\n",
       "              max_leaves=None, min_child_weight=None, missing=nan,\n",
       "              monotone_constraints=None, multi_strategy=None, n_estimators=200,\n",
       "              n_jobs=-1, num_parallel_tree=None, random_state=42, ...)"
      ]
     },
     "execution_count": 37,
     "metadata": {},
     "output_type": "execute_result"
    }
   ],
   "source": [
    "from xgboost import XGBClassifier\n",
    "\n",
    "# Make sure these are dtype 'category'\n",
    "categorical_cols = [\"CATEGORIE_UEF\", \"NO_ARROND_ILE_CUM\"]\n",
    "for col in categorical_cols:\n",
    "    X_train[col] = X_train[col].astype(\"category\")\n",
    "    X_test[col] = X_test[col].astype(\"category\")\n",
    "\n",
    "# Create model with categorical support\n",
    "model = XGBClassifier(\n",
    "    enable_categorical=True,  # ✅ Tell XGBoost to handle 'category' dtypes\n",
    "    n_estimators=200,\n",
    "    max_depth=6,\n",
    "    learning_rate=0.1,\n",
    "    subsample=0.8,\n",
    "    colsample_bytree=0.8,\n",
    "    scale_pos_weight=(len(y_train[y_train==0]) / len(y_train[y_train==1])),\n",
    "    random_state=42,\n",
    "    n_jobs=-1,\n",
    "    use_label_encoder=False,\n",
    "    eval_metric=\"logloss\"\n",
    ")\n",
    "\n",
    "# Train the model\n",
    "model.fit(X_train, y_train)\n"
   ]
  },
  {
   "cell_type": "code",
   "execution_count": 38,
   "id": "9a1e08bc",
   "metadata": {},
   "outputs": [],
   "source": [
    "# Predict class probabilities\n",
    "y_pred_proba = model.predict_proba(X_test)[:, 1]\n",
    "\n",
    "# Default threshold = 0.5\n",
    "y_pred = (y_pred_proba >= 0.5).astype(int)\n"
   ]
  },
  {
   "cell_type": "code",
   "execution_count": 39,
   "id": "fd733020",
   "metadata": {},
   "outputs": [
    {
     "name": "stdout",
     "output_type": "stream",
     "text": [
      "Confusion Matrix:\n",
      " [[2740367  934038]\n",
      " [  26522   23717]]\n",
      "\n",
      "Classification Report:\n",
      "              precision    recall  f1-score   support\n",
      "\n",
      "           0     0.9904    0.7458    0.8509   3674405\n",
      "           1     0.0248    0.4721    0.0471     50239\n",
      "\n",
      "    accuracy                         0.7421   3724644\n",
      "   macro avg     0.5076    0.6089    0.4490   3724644\n",
      "weighted avg     0.9774    0.7421    0.8400   3724644\n",
      "\n"
     ]
    }
   ],
   "source": [
    "#Evaluate the model:\n",
    "from sklearn.metrics import classification_report, confusion_matrix\n",
    "\n",
    "# Confusion matrix\n",
    "cm = confusion_matrix(y_test, y_pred)\n",
    "print(\"Confusion Matrix:\\n\", cm)\n",
    "\n",
    "# Classification report\n",
    "print(\"\\nClassification Report:\")\n",
    "print(classification_report(y_test, y_pred, digits=4))\n"
   ]
  },
  {
   "cell_type": "markdown",
   "id": "002a3658",
   "metadata": {},
   "source": [
    "🔍 Interpretation of Results\n",
    "Class\tPrecision\tRecall\tF1-score\tSupport\n",
    "No Fire\t0.9903\t0.7436\t0.8494\t3,674,405\n",
    "Fire\t0.0243\t0.4665\t0.0461\t50,239\n",
    "\n",
    "✅ High precision for \"No Fire\" class — the model is very confident when predicting a \"0\".\n",
    "\n",
    "⚠️ Very low precision for \"Fire\" class — many false positives.\n",
    "\n",
    "⚠️ Moderate recall for \"Fire\" class (~47%) — the model catches fewer than half of actual fire months.\n",
    "\n",
    "⚠️ Overall accuracy is misleading (73.99%) due to class imbalance.\n",
    "\n",
    "⚠️ F1-score for fires is very low (0.0461) — imbalance and prediction difficulty."
   ]
  },
  {
   "cell_type": "markdown",
   "id": "1323d0ff",
   "metadata": {},
   "source": [
    "✅ Recommendations\n",
    "1. Adjust the Threshold\n",
    "Your previous evaluations showed:\n",
    "\n",
    "At threshold = 0.45, recall can go above 69% with slightly lower precision.\n",
    "\n",
    "Use this if recall is more important than precision (which is likely for fire risk modeling).\n",
    "\n",
    "2. Try F2 Score Optimization\n",
    "Use F2 to focus more on recall than precision:"
   ]
  },
  {
   "cell_type": "code",
   "execution_count": 40,
   "id": "e0e35531",
   "metadata": {},
   "outputs": [
    {
     "name": "stdout",
     "output_type": "stream",
     "text": [
      "✅ Best Threshold by F2: 0.5499999999999999 with F2 Score = 0.1030\n"
     ]
    }
   ],
   "source": [
    "from sklearn.metrics import fbeta_score\n",
    "\n",
    "best_f2 = 0\n",
    "best_t = 0.5\n",
    "for t in np.arange(0.2, 0.6, 0.05):\n",
    "    preds = (y_pred_proba >= t).astype(int)\n",
    "    f2 = fbeta_score(y_test, preds, beta=2)\n",
    "    if f2 > best_f2:\n",
    "        best_f2 = f2\n",
    "        best_t = t\n",
    "print(f\"✅ Best Threshold by F2: {best_t} with F2 Score = {best_f2:.4f}\")\n"
   ]
  },
  {
   "cell_type": "markdown",
   "id": "7fccd0b7",
   "metadata": {},
   "source": [
    "✅ Summary\n",
    "Best Threshold (by F2): 0.55\n",
    "\n",
    "F2 Score: 0.1026\n",
    "\n",
    "This means that at a threshold of 0.55:\n",
    "\n",
    "You're catching more true fire cases (higher recall).\n",
    "\n",
    "While precision remains low, this is acceptable in early warning systems.\n",
    "\n",
    "📌 What You Should Do Next\n",
    "🔹 1. Recalculate Metrics at 0.55"
   ]
  },
  {
   "cell_type": "code",
   "execution_count": 41,
   "id": "13649244",
   "metadata": {},
   "outputs": [
    {
     "name": "stdout",
     "output_type": "stream",
     "text": [
      "[[2969254  705151]\n",
      " [  31180   19059]]\n",
      "              precision    recall  f1-score   support\n",
      "\n",
      "           0     0.9896    0.8081    0.8897   3674405\n",
      "           1     0.0263    0.3794    0.0492     50239\n",
      "\n",
      "    accuracy                         0.8023   3724644\n",
      "   macro avg     0.5080    0.5937    0.4695   3724644\n",
      "weighted avg     0.9766    0.8023    0.8783   3724644\n",
      "\n"
     ]
    }
   ],
   "source": [
    "from sklearn.metrics import classification_report, confusion_matrix\n",
    "\n",
    "y_pred_055 = (y_pred_proba >= 0.55).astype(int)\n",
    "\n",
    "print(confusion_matrix(y_test, y_pred_055))\n",
    "print(classification_report(y_test, y_pred_055, digits=4))\n"
   ]
  },
  {
   "cell_type": "markdown",
   "id": "18e6ac11",
   "metadata": {},
   "source": [
    "🔹 Metrics\n",
    "Metric\tClass 0 (No Fire)\tClass 1 (Fire)\n",
    "Precision\t0.9896\t0.0262\n",
    "Recall\t0.8081\t0.3780\n",
    "F1-score\t0.8897\t0.0490\n",
    "\n",
    "Accuracy: 80.2%\n",
    "\n",
    "Macro Avg F1: 0.469\n",
    "\n",
    "Weighted Avg F1: 0.878\n",
    "\n",
    "F2 Score (used for tuning): ≈ 0.103\n",
    "\n",
    "🔍 Interpretation for Fire Risk Modeling\n",
    "Goal\tThreshold = 0.55 Outcome\n",
    "Recall (catching fires)\t✅ Improved: 37.8% fires detected\n",
    "False positives tolerated\t⚠️ Over 700k buildings misclassified as fire\n",
    "Tradeoff\tBetter recall for fire cases at cost of precision and FP load\n",
    "\n",
    "This threshold is reasonable if you're building a risk prioritization tool, not a strict classifier. You can use it to flag locations for inspection or prevention, not for punitive action."
   ]
  },
  {
   "cell_type": "code",
   "execution_count": null,
   "id": "965d94b3",
   "metadata": {},
   "outputs": [],
   "source": []
  },
  {
   "cell_type": "code",
   "execution_count": null,
   "id": "2da0392f",
   "metadata": {},
   "outputs": [],
   "source": []
  },
  {
   "cell_type": "code",
   "execution_count": null,
   "id": "82e199ff",
   "metadata": {},
   "outputs": [],
   "source": []
  },
  {
   "cell_type": "code",
   "execution_count": null,
   "id": "0c30cbc4",
   "metadata": {},
   "outputs": [],
   "source": []
  }
 ],
 "metadata": {
  "kernelspec": {
   "display_name": "Python 3 (ipykernel)",
   "language": "python",
   "name": "python3"
  },
  "language_info": {
   "codemirror_mode": {
    "name": "ipython",
    "version": 3
   },
   "file_extension": ".py",
   "mimetype": "text/x-python",
   "name": "python",
   "nbconvert_exporter": "python",
   "pygments_lexer": "ipython3",
   "version": "3.11.7"
  }
 },
 "nbformat": 4,
 "nbformat_minor": 5
}
