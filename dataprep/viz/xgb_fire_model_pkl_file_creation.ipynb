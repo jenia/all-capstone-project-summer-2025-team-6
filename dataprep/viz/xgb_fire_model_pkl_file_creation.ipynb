{
 "cells": [
  {
   "cell_type": "code",
   "execution_count": 3,
   "id": "a7ac4647",
   "metadata": {},
   "outputs": [
    {
     "name": "stderr",
     "output_type": "stream",
     "text": [
      "C:\\Users\\marka\\anaconda3\\lib\\site-packages\\xgboost\\core.py:158: UserWarning: [08:00:27] WARNING: C:\\buildkite-agent\\builds\\buildkite-windows-cpu-autoscaling-group-i-08cbc0333d8d4aae1-1\\xgboost\\xgboost-ci-windows\\src\\learner.cc:740: \n",
      "Parameters: { \"use_label_encoder\" } are not used.\n",
      "\n",
      "  warnings.warn(smsg, UserWarning)\n"
     ]
    },
    {
     "name": "stdout",
     "output_type": "stream",
     "text": [
      "✅ Model saved successfully at:\n",
      "D:\\McGill\\Final Course Images\\FINAL COURSE STUFF\\xgb_fire_model.pkl\n"
     ]
    }
   ],
   "source": [
    "import pandas as pd\n",
    "import numpy as np\n",
    "from xgboost import XGBClassifier\n",
    "from sklearn.preprocessing import LabelEncoder\n",
    "from sklearn.metrics import classification_report\n",
    "import joblib\n",
    "\n",
    "# ✅ Load your panel dataset\n",
    "panel_path = r\"D:\\McGill\\Final Course Images\\FINAL COURSE STUFF\\building_month_fire_panel_feat_eng.csv\"\n",
    "df = pd.read_csv(panel_path, parse_dates=[\"month\"])\n",
    "\n",
    "# ✅ Sort by building & time\n",
    "df = df.sort_values([\"ID_UEV\", \"month\"]).reset_index(drop=True)\n",
    "df[\"year\"] = df[\"month\"].dt.year\n",
    "\n",
    "# ✅ Recreate lag features if needed\n",
    "for lag in range(1, 4):\n",
    "    df[f\"fire_last_{lag}m\"] = (\n",
    "        df.groupby(\"ID_UEV\")[\"HAS_FIRE_THIS_MONTH\"]\n",
    "        .shift(lag)\n",
    "        .fillna(0)\n",
    "        .astype(int)\n",
    "    )\n",
    "\n",
    "# ✅ Encode categorical columns\n",
    "for col in [\"CATEGORIE_UEF\", \"NO_ARROND_ILE_CUM\"]:\n",
    "    le = LabelEncoder()\n",
    "    df[col] = le.fit_transform(df[col].astype(str))\n",
    "\n",
    "# ✅ Define features\n",
    "features = [\n",
    "    \"MUNICIPALITE\", \"ETAGE_HORS_SOL\", \"NOMBRE_LOGEMENT\", \"AGE_BATIMENT\",\n",
    "    \"CODE_UTILISATION\", \"CATEGORIE_UEF\", \"SUPERFICIE_TERRAIN\", \"SUPERFICIE_BATIMENT\",\n",
    "    \"NO_ARROND_ILE_CUM\", \"RATIO_SURFACE\", \"DENSITE_LOGEMENT\", \"HAS_MULTIPLE_LOGEMENTS\",\n",
    "    \"FIRE_FREQUENCY_ZONE\", \"FIRE_RATE_ZONE\", \"FIRE_COUNT_LAST_YEAR_ZONE\",\n",
    "    \"BUILDING_COUNT\", \"FIRE_RATE_ZONE_NORM\", \"FIRE_COUNT_LAST_YEAR_ZONE_NORM\",\n",
    "    \"fire_last_1m\", \"fire_last_2m\", \"fire_last_3m\",\n",
    "    \"fire_cumcount\", \"fire_rolling_3m\", \"fire_rolling_6m\", \"fire_rolling_12m\",\n",
    "    \"month_num\", \"year\"\n",
    "]\n",
    "target = \"HAS_FIRE_THIS_MONTH\"\n",
    "\n",
    "# ✅ Split train/test\n",
    "train_df = df[df[\"year\"] <= 2023]\n",
    "test_df = df[df[\"year\"] == 2024]\n",
    "\n",
    "X_train = train_df[features].copy()\n",
    "y_train = train_df[target]\n",
    "\n",
    "# ✅ Convert categorical columns\n",
    "categorical_cols = [\"CATEGORIE_UEF\", \"NO_ARROND_ILE_CUM\"]\n",
    "for col in categorical_cols:\n",
    "    X_train[col] = X_train[col].astype(\"category\")\n",
    "\n",
    "# ✅ Compute scale_pos_weight for imbalance\n",
    "scale_pos_weight = (len(y_train) - y_train.sum()) / y_train.sum()\n",
    "\n",
    "# ✅ Train the model\n",
    "model = XGBClassifier(\n",
    "    enable_categorical=True,\n",
    "    n_estimators=200,\n",
    "    max_depth=6,\n",
    "    learning_rate=0.1,\n",
    "    subsample=0.8,\n",
    "    colsample_bytree=0.8,\n",
    "    scale_pos_weight=scale_pos_weight,\n",
    "    random_state=42,\n",
    "    n_jobs=-1,\n",
    "    use_label_encoder=False,\n",
    "    eval_metric=\"logloss\"\n",
    ")\n",
    "\n",
    "model.fit(X_train, y_train)\n",
    "\n",
    "# ✅ Save the model\n",
    "model_path = r\"D:\\McGill\\Final Course Images\\FINAL COURSE STUFF\\xgb_fire_model.pkl\"\n",
    "joblib.dump(model, model_path)\n",
    "print(f\"✅ Model saved successfully at:\\n{model_path}\")"
   ]
  },
  {
   "cell_type": "code",
   "execution_count": null,
   "id": "14b52674",
   "metadata": {},
   "outputs": [],
   "source": []
  }
 ],
 "metadata": {
  "kernelspec": {
   "display_name": "Python 3 (ipykernel)",
   "language": "python",
   "name": "python3"
  },
  "language_info": {
   "codemirror_mode": {
    "name": "ipython",
    "version": 3
   },
   "file_extension": ".py",
   "mimetype": "text/x-python",
   "name": "python",
   "nbconvert_exporter": "python",
   "pygments_lexer": "ipython3",
   "version": "3.9.13"
  }
 },
 "nbformat": 4,
 "nbformat_minor": 5
}
