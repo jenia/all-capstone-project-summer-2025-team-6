{
 "cells": [
  {
   "cell_type": "code",
   "execution_count": 1,
   "id": "7e68dbfe",
   "metadata": {},
   "outputs": [
    {
     "name": "stdout",
     "output_type": "stream",
     "text": [
      "Last month in dataset: 2025-05-01\n",
      "✅ Future 6-month panel saved to:\n",
      "D:\\McGill\\Final Course Images\\FINAL COURSE STUFF\\future_fire_risk_panel_6m.csv\n"
     ]
    }
   ],
   "source": [
    "import pandas as pd\n",
    "from pathlib import Path\n",
    "\n",
    "# 📂 Path to your panel dataset\n",
    "INPUT_PANEL = Path(r\"D:\\McGill\\Final Course Images\\FINAL COURSE STUFF\\building_month_fire_panel_feat_eng.csv\")\n",
    "OUTPUT_PANEL = Path(r\"D:\\McGill\\Final Course Images\\FINAL COURSE STUFF\\future_fire_risk_panel_6m.csv\")\n",
    "\n",
    "# 🧮 Load the panel\n",
    "panel_df = pd.read_csv(INPUT_PANEL, parse_dates=[\"month\"])\n",
    "\n",
    "# ✅ Get the latest month in your data\n",
    "last_month = panel_df[\"month\"].max()\n",
    "print(f\"Last month in dataset: {last_month.date()}\")\n",
    "\n",
    "# 🏢 Unique buildings\n",
    "building_ids = panel_df[\"ID_UEV\"].unique()\n",
    "\n",
    "# 📆 Create future months (6 months after last month)\n",
    "future_months = pd.date_range(start=last_month + pd.offsets.MonthBegin(), periods=6, freq=\"MS\")\n",
    "\n",
    "# 📋 Cartesian product of buildings × months\n",
    "future_panel = pd.MultiIndex.from_product(\n",
    "    [building_ids, future_months],\n",
    "    names=[\"ID_UEV\", \"month\"]\n",
    ").to_frame(index=False)\n",
    "\n",
    "# 🔁 Merge static features (last known for each building)\n",
    "static_columns = [\n",
    "    \"MUNICIPALITE\", \"ETAGE_HORS_SOL\", \"NOMBRE_LOGEMENT\", \"AGE_BATIMENT\",\n",
    "    \"CODE_UTILISATION\", \"CATEGORIE_UEF\", \"SUPERFICIE_TERRAIN\", \"SUPERFICIE_BATIMENT\",\n",
    "    \"NO_ARROND_ILE_CUM\", \"RATIO_SURFACE\", \"DENSITE_LOGEMENT\", \"HAS_MULTIPLE_LOGEMENTS\",\n",
    "    \"FIRE_FREQUENCY_ZONE\", \"FIRE_RATE_ZONE\", \"FIRE_COUNT_LAST_YEAR_ZONE\",\n",
    "    \"BUILDING_COUNT\", \"FIRE_RATE_ZONE_NORM\", \"FIRE_COUNT_LAST_YEAR_ZONE_NORM\"\n",
    "]\n",
    "\n",
    "# Get last values per building\n",
    "latest_static = (\n",
    "    panel_df.sort_values(\"month\")\n",
    "    .groupby(\"ID_UEV\")[static_columns]\n",
    "    .last()\n",
    "    .reset_index()\n",
    ")\n",
    "\n",
    "# ➕ Merge into future panel\n",
    "future_panel = future_panel.merge(latest_static, on=\"ID_UEV\", how=\"left\")\n",
    "\n",
    "# 🕓 Add time features\n",
    "future_panel[\"month_num\"] = future_panel[\"month\"].dt.month\n",
    "future_panel[\"year\"] = future_panel[\"month\"].dt.year\n",
    "\n",
    "# 🔧 Add zero placeholders for rolling features\n",
    "rolling_cols = [\n",
    "    \"fire_last_1m\", \"fire_last_2m\", \"fire_last_3m\",\n",
    "    \"fire_cumcount\", \"fire_rolling_3m\", \"fire_rolling_6m\", \"fire_rolling_12m\"\n",
    "]\n",
    "for col in rolling_cols:\n",
    "    future_panel[col] = 0\n",
    "\n",
    "# 💾 Save\n",
    "future_panel.to_csv(OUTPUT_PANEL, index=False)\n",
    "print(f\"✅ Future 6-month panel saved to:\\n{OUTPUT_PANEL}\")"
   ]
  },
  {
   "cell_type": "code",
   "execution_count": null,
   "id": "fe449a81",
   "metadata": {},
   "outputs": [],
   "source": []
  }
 ],
 "metadata": {
  "kernelspec": {
   "display_name": "Python 3 (ipykernel)",
   "language": "python",
   "name": "python3"
  },
  "language_info": {
   "codemirror_mode": {
    "name": "ipython",
    "version": 3
   },
   "file_extension": ".py",
   "mimetype": "text/x-python",
   "name": "python",
   "nbconvert_exporter": "python",
   "pygments_lexer": "ipython3",
   "version": "3.9.13"
  }
 },
 "nbformat": 4,
 "nbformat_minor": 5
}
