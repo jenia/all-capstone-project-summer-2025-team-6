{
 "cells": [
  {
   "cell_type": "code",
   "execution_count": 1,
   "id": "55fb4fef",
   "metadata": {},
   "outputs": [
    {
     "name": "stdout",
     "output_type": "stream",
     "text": [
      "✅ Model loaded successfully!\n"
     ]
    }
   ],
   "source": [
    "import joblib\n",
    "\n",
    "MODEL_PATH = r\"D:\\McGill\\Final Course Images\\FINAL COURSE STUFF\\xgb_fire_model.pkl\"\n",
    "\n",
    "# Load the trained XGBoost model\n",
    "model = joblib.load(MODEL_PATH)\n",
    "\n",
    "print(\"✅ Model loaded successfully!\")"
   ]
  },
  {
   "cell_type": "code",
   "execution_count": 2,
   "id": "c028436e",
   "metadata": {},
   "outputs": [
    {
     "name": "stdout",
     "output_type": "stream",
     "text": [
      "✅ Future panel loaded:\n",
      "    ID_UEV      month  MUNICIPALITE  ETAGE_HORS_SOL  NOMBRE_LOGEMENT  \\\n",
      "0  1000011 2025-06-01            50             5.0              8.0   \n",
      "1  1000011 2025-07-01            50             5.0              8.0   \n",
      "2  1000011 2025-08-01            50             5.0              8.0   \n",
      "3  1000011 2025-09-01            50             5.0              8.0   \n",
      "4  1000011 2025-10-01            50             5.0              8.0   \n",
      "\n",
      "   AGE_BATIMENT  CODE_UTILISATION CATEGORIE_UEF  SUPERFICIE_TERRAIN  \\\n",
      "0      0.048913              1000      Régulier                 344   \n",
      "1      0.048913              1000      Régulier                 344   \n",
      "2      0.048913              1000      Régulier                 344   \n",
      "3      0.048913              1000      Régulier                 344   \n",
      "4      0.048913              1000      Régulier                 344   \n",
      "\n",
      "   SUPERFICIE_BATIMENT  ... FIRE_COUNT_LAST_YEAR_ZONE_NORM  month_num  year  \\\n",
      "0               1212.0  ...                            1.0          6  2025   \n",
      "1               1212.0  ...                            1.0          7  2025   \n",
      "2               1212.0  ...                            1.0          8  2025   \n",
      "3               1212.0  ...                            1.0          9  2025   \n",
      "4               1212.0  ...                            1.0         10  2025   \n",
      "\n",
      "   fire_last_1m  fire_last_2m  fire_last_3m  fire_cumcount  fire_rolling_3m  \\\n",
      "0             0             0             0              0                0   \n",
      "1             0             0             0              0                0   \n",
      "2             0             0             0              0                0   \n",
      "3             0             0             0              0                0   \n",
      "4             0             0             0              0                0   \n",
      "\n",
      "   fire_rolling_6m  fire_rolling_12m  \n",
      "0                0                 0  \n",
      "1                0                 0  \n",
      "2                0                 0  \n",
      "3                0                 0  \n",
      "4                0                 0  \n",
      "\n",
      "[5 rows x 29 columns]\n"
     ]
    }
   ],
   "source": [
    "import pandas as pd\n",
    "\n",
    "FUTURE_PANEL_PATH = r\"D:\\McGill\\Final Course Images\\FINAL COURSE STUFF\\future_fire_risk_panel_6m.csv\"\n",
    "\n",
    "future_df = pd.read_csv(FUTURE_PANEL_PATH, parse_dates=[\"month\"])\n",
    "\n",
    "print(\"✅ Future panel loaded:\")\n",
    "print(future_df.head())"
   ]
  },
  {
   "cell_type": "code",
   "execution_count": 3,
   "id": "7190dd4d",
   "metadata": {},
   "outputs": [],
   "source": [
    "features = [\n",
    "    'MUNICIPALITE', 'ETAGE_HORS_SOL', 'NOMBRE_LOGEMENT', 'AGE_BATIMENT',\n",
    "    'CODE_UTILISATION', 'CATEGORIE_UEF', 'SUPERFICIE_TERRAIN', 'SUPERFICIE_BATIMENT',\n",
    "    'NO_ARROND_ILE_CUM', 'RATIO_SURFACE', 'DENSITE_LOGEMENT', 'HAS_MULTIPLE_LOGEMENTS',\n",
    "    'FIRE_FREQUENCY_ZONE', 'FIRE_RATE_ZONE', 'FIRE_COUNT_LAST_YEAR_ZONE',\n",
    "    'BUILDING_COUNT', 'FIRE_RATE_ZONE_NORM', 'FIRE_COUNT_LAST_YEAR_ZONE_NORM',\n",
    "    'fire_last_1m', 'fire_last_2m', 'fire_last_3m',\n",
    "    'fire_cumcount', 'fire_rolling_3m', 'fire_rolling_6m', 'fire_rolling_12m',\n",
    "    'month_num', 'year'\n",
    "]\n",
    "\n",
    "# Ensure categoricals are correctly typed\n",
    "categorical_cols = [\"CATEGORIE_UEF\", \"NO_ARROND_ILE_CUM\"]\n",
    "for col in categorical_cols:\n",
    "    future_df[col] = future_df[col].astype(\"category\")\n",
    "\n",
    "X_future = future_df[features]"
   ]
  },
  {
   "cell_type": "code",
   "execution_count": 4,
   "id": "325269f2",
   "metadata": {},
   "outputs": [
    {
     "name": "stdout",
     "output_type": "stream",
     "text": [
      "✅ Predictions added.\n",
      "    ID_UEV      month  fire_risk_prob\n",
      "0  1000011 2025-06-01        0.747115\n",
      "1  1000011 2025-07-01        0.692536\n",
      "2  1000011 2025-08-01        0.677548\n",
      "3  1000011 2025-09-01        0.600031\n",
      "4  1000011 2025-10-01        0.717728\n"
     ]
    }
   ],
   "source": [
    "future_df[\"fire_risk_prob\"] = model.predict_proba(X_future)[:, 1]\n",
    "\n",
    "print(\"✅ Predictions added.\")\n",
    "print(future_df[[\"ID_UEV\", \"month\", \"fire_risk_prob\"]].head())"
   ]
  },
  {
   "cell_type": "code",
   "execution_count": 5,
   "id": "29922cd5",
   "metadata": {},
   "outputs": [
    {
     "name": "stdout",
     "output_type": "stream",
     "text": [
      "✅ Predictions saved to:\n",
      "D:\\McGill\\Final Course Images\\FINAL COURSE STUFF\\future_panel_predictions.csv\n"
     ]
    }
   ],
   "source": [
    "OUTPUT_PREDICTIONS = r\"D:\\McGill\\Final Course Images\\FINAL COURSE STUFF\\future_panel_predictions.csv\"\n",
    "future_df.to_csv(OUTPUT_PREDICTIONS, index=False)\n",
    "\n",
    "print(f\"✅ Predictions saved to:\\n{OUTPUT_PREDICTIONS}\")"
   ]
  },
  {
   "cell_type": "code",
   "execution_count": null,
   "id": "69640fb8",
   "metadata": {},
   "outputs": [],
   "source": []
  }
 ],
 "metadata": {
  "kernelspec": {
   "display_name": "Python 3 (ipykernel)",
   "language": "python",
   "name": "python3"
  },
  "language_info": {
   "codemirror_mode": {
    "name": "ipython",
    "version": 3
   },
   "file_extension": ".py",
   "mimetype": "text/x-python",
   "name": "python",
   "nbconvert_exporter": "python",
   "pygments_lexer": "ipython3",
   "version": "3.9.13"
  }
 },
 "nbformat": 4,
 "nbformat_minor": 5
}
