{
  "nbformat": 4,
  "nbformat_minor": 0,
  "metadata": {
    "colab": {
      "provenance": []
    },
    "kernelspec": {
      "name": "python3",
      "display_name": "Python 3"
    },
    "language_info": {
      "name": "python"
    }
  },
  "cells": [
    {
      "cell_type": "code",
      "source": [
        "# =====================================================\n",
        "# 📂 Upload your dataset\n",
        "# =====================================================\n",
        "from google.colab import files\n",
        "uploaded = files.upload()"
      ],
      "metadata": {
        "colab": {
          "base_uri": "https://localhost:8080/",
          "height": 73
        },
        "id": "R6Gi1NXKBHU4",
        "outputId": "5e6a6740-2f2a-4e62-c7cc-cf44b2eb93f2"
      },
      "execution_count": 1,
      "outputs": [
        {
          "output_type": "display_data",
          "data": {
            "text/plain": [
              "<IPython.core.display.HTML object>"
            ],
            "text/html": [
              "\n",
              "     <input type=\"file\" id=\"files-61ed2998-3709-44ec-827d-829a2904e2dd\" name=\"files[]\" multiple disabled\n",
              "        style=\"border:none\" />\n",
              "     <output id=\"result-61ed2998-3709-44ec-827d-829a2904e2dd\">\n",
              "      Upload widget is only available when the cell has been executed in the\n",
              "      current browser session. Please rerun this cell to enable.\n",
              "      </output>\n",
              "      <script>// Copyright 2017 Google LLC\n",
              "//\n",
              "// Licensed under the Apache License, Version 2.0 (the \"License\");\n",
              "// you may not use this file except in compliance with the License.\n",
              "// You may obtain a copy of the License at\n",
              "//\n",
              "//      http://www.apache.org/licenses/LICENSE-2.0\n",
              "//\n",
              "// Unless required by applicable law or agreed to in writing, software\n",
              "// distributed under the License is distributed on an \"AS IS\" BASIS,\n",
              "// WITHOUT WARRANTIES OR CONDITIONS OF ANY KIND, either express or implied.\n",
              "// See the License for the specific language governing permissions and\n",
              "// limitations under the License.\n",
              "\n",
              "/**\n",
              " * @fileoverview Helpers for google.colab Python module.\n",
              " */\n",
              "(function(scope) {\n",
              "function span(text, styleAttributes = {}) {\n",
              "  const element = document.createElement('span');\n",
              "  element.textContent = text;\n",
              "  for (const key of Object.keys(styleAttributes)) {\n",
              "    element.style[key] = styleAttributes[key];\n",
              "  }\n",
              "  return element;\n",
              "}\n",
              "\n",
              "// Max number of bytes which will be uploaded at a time.\n",
              "const MAX_PAYLOAD_SIZE = 100 * 1024;\n",
              "\n",
              "function _uploadFiles(inputId, outputId) {\n",
              "  const steps = uploadFilesStep(inputId, outputId);\n",
              "  const outputElement = document.getElementById(outputId);\n",
              "  // Cache steps on the outputElement to make it available for the next call\n",
              "  // to uploadFilesContinue from Python.\n",
              "  outputElement.steps = steps;\n",
              "\n",
              "  return _uploadFilesContinue(outputId);\n",
              "}\n",
              "\n",
              "// This is roughly an async generator (not supported in the browser yet),\n",
              "// where there are multiple asynchronous steps and the Python side is going\n",
              "// to poll for completion of each step.\n",
              "// This uses a Promise to block the python side on completion of each step,\n",
              "// then passes the result of the previous step as the input to the next step.\n",
              "function _uploadFilesContinue(outputId) {\n",
              "  const outputElement = document.getElementById(outputId);\n",
              "  const steps = outputElement.steps;\n",
              "\n",
              "  const next = steps.next(outputElement.lastPromiseValue);\n",
              "  return Promise.resolve(next.value.promise).then((value) => {\n",
              "    // Cache the last promise value to make it available to the next\n",
              "    // step of the generator.\n",
              "    outputElement.lastPromiseValue = value;\n",
              "    return next.value.response;\n",
              "  });\n",
              "}\n",
              "\n",
              "/**\n",
              " * Generator function which is called between each async step of the upload\n",
              " * process.\n",
              " * @param {string} inputId Element ID of the input file picker element.\n",
              " * @param {string} outputId Element ID of the output display.\n",
              " * @return {!Iterable<!Object>} Iterable of next steps.\n",
              " */\n",
              "function* uploadFilesStep(inputId, outputId) {\n",
              "  const inputElement = document.getElementById(inputId);\n",
              "  inputElement.disabled = false;\n",
              "\n",
              "  const outputElement = document.getElementById(outputId);\n",
              "  outputElement.innerHTML = '';\n",
              "\n",
              "  const pickedPromise = new Promise((resolve) => {\n",
              "    inputElement.addEventListener('change', (e) => {\n",
              "      resolve(e.target.files);\n",
              "    });\n",
              "  });\n",
              "\n",
              "  const cancel = document.createElement('button');\n",
              "  inputElement.parentElement.appendChild(cancel);\n",
              "  cancel.textContent = 'Cancel upload';\n",
              "  const cancelPromise = new Promise((resolve) => {\n",
              "    cancel.onclick = () => {\n",
              "      resolve(null);\n",
              "    };\n",
              "  });\n",
              "\n",
              "  // Wait for the user to pick the files.\n",
              "  const files = yield {\n",
              "    promise: Promise.race([pickedPromise, cancelPromise]),\n",
              "    response: {\n",
              "      action: 'starting',\n",
              "    }\n",
              "  };\n",
              "\n",
              "  cancel.remove();\n",
              "\n",
              "  // Disable the input element since further picks are not allowed.\n",
              "  inputElement.disabled = true;\n",
              "\n",
              "  if (!files) {\n",
              "    return {\n",
              "      response: {\n",
              "        action: 'complete',\n",
              "      }\n",
              "    };\n",
              "  }\n",
              "\n",
              "  for (const file of files) {\n",
              "    const li = document.createElement('li');\n",
              "    li.append(span(file.name, {fontWeight: 'bold'}));\n",
              "    li.append(span(\n",
              "        `(${file.type || 'n/a'}) - ${file.size} bytes, ` +\n",
              "        `last modified: ${\n",
              "            file.lastModifiedDate ? file.lastModifiedDate.toLocaleDateString() :\n",
              "                                    'n/a'} - `));\n",
              "    const percent = span('0% done');\n",
              "    li.appendChild(percent);\n",
              "\n",
              "    outputElement.appendChild(li);\n",
              "\n",
              "    const fileDataPromise = new Promise((resolve) => {\n",
              "      const reader = new FileReader();\n",
              "      reader.onload = (e) => {\n",
              "        resolve(e.target.result);\n",
              "      };\n",
              "      reader.readAsArrayBuffer(file);\n",
              "    });\n",
              "    // Wait for the data to be ready.\n",
              "    let fileData = yield {\n",
              "      promise: fileDataPromise,\n",
              "      response: {\n",
              "        action: 'continue',\n",
              "      }\n",
              "    };\n",
              "\n",
              "    // Use a chunked sending to avoid message size limits. See b/62115660.\n",
              "    let position = 0;\n",
              "    do {\n",
              "      const length = Math.min(fileData.byteLength - position, MAX_PAYLOAD_SIZE);\n",
              "      const chunk = new Uint8Array(fileData, position, length);\n",
              "      position += length;\n",
              "\n",
              "      const base64 = btoa(String.fromCharCode.apply(null, chunk));\n",
              "      yield {\n",
              "        response: {\n",
              "          action: 'append',\n",
              "          file: file.name,\n",
              "          data: base64,\n",
              "        },\n",
              "      };\n",
              "\n",
              "      let percentDone = fileData.byteLength === 0 ?\n",
              "          100 :\n",
              "          Math.round((position / fileData.byteLength) * 100);\n",
              "      percent.textContent = `${percentDone}% done`;\n",
              "\n",
              "    } while (position < fileData.byteLength);\n",
              "  }\n",
              "\n",
              "  // All done.\n",
              "  yield {\n",
              "    response: {\n",
              "      action: 'complete',\n",
              "    }\n",
              "  };\n",
              "}\n",
              "\n",
              "scope.google = scope.google || {};\n",
              "scope.google.colab = scope.google.colab || {};\n",
              "scope.google.colab._files = {\n",
              "  _uploadFiles,\n",
              "  _uploadFilesContinue,\n",
              "};\n",
              "})(self);\n",
              "</script> "
            ]
          },
          "metadata": {}
        },
        {
          "output_type": "stream",
          "name": "stdout",
          "text": [
            "Saving evaluation_fire_coordinates_date_feat_eng_2.csv to evaluation_fire_coordinates_date_feat_eng_2 (1).csv\n"
          ]
        }
      ]
    },
    {
      "cell_type": "code",
      "execution_count": 1,
      "metadata": {
        "colab": {
          "base_uri": "https://localhost:8080/"
        },
        "id": "Amc96aARtS27",
        "outputId": "21ba8d24-651c-43de-80d3-c931274c07fd"
      },
      "outputs": [
        {
          "output_type": "stream",
          "name": "stdout",
          "text": [
            "Files in /content: ['.config', 'evaluation_fire_coordinates_date_feat_eng_2.csv', 'evaluation_fire_coordinates_date_feat_eng_2 (1).csv', 'sample_data']\n"
          ]
        }
      ],
      "source": [
        "import os\n",
        "print(\"Files in /content:\", os.listdir(\"/content\"))"
      ]
    },
    {
      "cell_type": "code",
      "source": [
        "# =====================================================\n",
        "# 🧹 Dense Panel Building Month Creation\n",
        "# =====================================================\n",
        "import pandas as pd\n",
        "import geopandas as gpd\n",
        "from shapely.geometry import Point\n",
        "\n",
        "INPUT_CSV = \"/content/evaluation_fire_coordinates_date_feat_eng_2.csv\"\n",
        "OUTPUT_PANEL = \"/content/building_month_fire_panel_feat_eng.csv\"\n",
        "\n",
        "# Load fire dataset\n",
        "df = pd.read_csv(INPUT_CSV)\n",
        "print(f\"✅ Loaded CSV: {df.shape[0]:,} rows × {df.shape[1]} columns\")"
      ],
      "metadata": {
        "colab": {
          "base_uri": "https://localhost:8080/"
        },
        "id": "UvdZbfPDBPnD",
        "outputId": "fc0947d0-09c5-4dff-bc1d-175544537b1f"
      },
      "execution_count": 2,
      "outputs": [
        {
          "output_type": "stream",
          "name": "stdout",
          "text": [
            "✅ Loaded CSV: 663,783 rows × 31 columns\n"
          ]
        }
      ]
    },
    {
      "cell_type": "code",
      "source": [
        "import pandas as pd\n",
        "import geopandas as gpd\n",
        "from shapely.geometry import Point\n",
        "\n",
        "# 🟡 Load your big dataset again if needed (assuming df is already loaded and cleaned)\n",
        "\n",
        "# ✅ Convert fire_date to period\n",
        "df[\"fire_date\"] = pd.to_datetime(df[\"fire_date\"], errors=\"coerce\")\n",
        "df[\"month\"] = df[\"fire_date\"].dt.to_period(\"M\")\n",
        "df = df.dropna(subset=[\"LONGITUDE\", \"LATITUDE\", \"ID_UEV\"])\n",
        "\n",
        "# ✅ Create GeoDataFrame\n",
        "df[\"geometry\"] = df.apply(lambda row: Point(row[\"LONGITUDE\"], row[\"LATITUDE\"]), axis=1)\n",
        "gdf = gpd.GeoDataFrame(df, geometry=\"geometry\", crs=\"EPSG:4326\").to_crs(\"EPSG:32188\")\n",
        "\n",
        "# ✅ Get unique buildings\n",
        "unique_buildings = gdf[[\"ID_UEV\", \"LATITUDE\", \"LONGITUDE\"]].drop_duplicates()\n",
        "\n",
        "# ✅ Subsample: take 40,000 random buildings\n",
        "sample_size = 40000\n",
        "unique_buildings_sample = unique_buildings.sample(n=sample_size, random_state=42).reset_index(drop=True)\n",
        "\n",
        "# ✅ Limit time range if you want (or comment this out to keep full range)\n",
        "# all_months = pd.period_range(start=\"2019-01\", end=gdf[\"month\"].max(), freq=\"M\")\n",
        "all_months = pd.period_range(start=gdf[\"month\"].min(), end=gdf[\"month\"].max(), freq=\"M\")\n",
        "\n",
        "print(f\"Building sample size: {len(unique_buildings_sample)}\")\n",
        "print(f\"Total months: {len(all_months)}\")\n",
        "\n",
        "# ✅ Create the panel\n",
        "print(\"Creating building x month panel...\")\n",
        "panel = pd.MultiIndex.from_product(\n",
        "    [unique_buildings_sample[\"ID_UEV\"].unique(), all_months],\n",
        "    names=[\"ID_UEV\", \"month\"]\n",
        ").to_frame(index=False)\n",
        "\n",
        "panel = panel.merge(unique_buildings_sample, on=\"ID_UEV\", how=\"left\")\n",
        "print(f\"Panel shape after merge: {panel.shape}\")\n",
        "\n",
        "# ✅ Label fire presence (more memory efficient)\n",
        "fires = gdf[gdf[\"fire\"] == True][[\"ID_UEV\", \"month\"]].drop_duplicates()\n",
        "fires[\"HAS_FIRE_THIS_MONTH\"] = 1\n",
        "\n",
        "panel = panel.merge(fires, on=[\"ID_UEV\", \"month\"], how=\"left\")\n",
        "panel[\"HAS_FIRE_THIS_MONTH\"] = panel[\"HAS_FIRE_THIS_MONTH\"].fillna(0).astype(int)\n",
        "\n",
        "print(\"✅ Fire presence labeled!\")\n",
        "\n",
        "# ✅ You can now continue with lag/cumulative features"
      ],
      "metadata": {
        "colab": {
          "base_uri": "https://localhost:8080/"
        },
        "id": "PKuFJQt6JAJE",
        "outputId": "1bf8a89f-37ca-4880-f0af-17e6f01f0a7d"
      },
      "execution_count": 3,
      "outputs": [
        {
          "output_type": "stream",
          "name": "stdout",
          "text": [
            "Building sample size: 40000\n",
            "Total months: 65\n",
            "Creating building x month panel...\n",
            "Panel shape after merge: (2600000, 4)\n",
            "✅ Fire presence labeled!\n"
          ]
        }
      ]
    },
    {
      "cell_type": "code",
      "source": [
        "# Clean data\n",
        "df[\"fire_date\"] = pd.to_datetime(df[\"fire_date\"], errors=\"coerce\")\n",
        "df[\"month\"] = df[\"fire_date\"].dt.to_period(\"M\")\n",
        "df = df.dropna(subset=[\"LONGITUDE\", \"LATITUDE\", \"ID_UEV\"])\n",
        "df[\"geometry\"] = df.apply(lambda row: Point(row[\"LONGITUDE\"], row[\"LATITUDE\"]), axis=1)\n",
        "gdf = gpd.GeoDataFrame(df, geometry=\"geometry\", crs=\"EPSG:4326\").to_crs(\"EPSG:32188\")"
      ],
      "metadata": {
        "id": "eiTacWfGBaQ6"
      },
      "execution_count": 4,
      "outputs": []
    },
    {
      "cell_type": "code",
      "source": [
        "# Create unique buildings and months\n",
        "unique_buildings = gdf[[\"ID_UEV\", \"LATITUDE\", \"LONGITUDE\"]].drop_duplicates()\n",
        "all_months = pd.period_range(start=gdf[\"month\"].min(), end=gdf[\"month\"].max(), freq=\"M\")\n",
        "print(f\"Expanding dataset into building × month panel...\")\n",
        "panel = pd.MultiIndex.from_product(\n",
        "    [unique_buildings[\"ID_UEV\"].unique(), all_months],\n",
        "    names=[\"ID_UEV\", \"month\"]\n",
        ").to_frame(index=False)\n",
        "panel = panel.merge(unique_buildings, on=\"ID_UEV\", how=\"left\")\n",
        "print(f\"Base panel shape: {panel.shape}\")"
      ],
      "metadata": {
        "colab": {
          "base_uri": "https://localhost:8080/"
        },
        "id": "6QNL5txFCJFD",
        "outputId": "b2db3a61-9114-4ad9-ec93-e7efe0d505b5"
      },
      "execution_count": 5,
      "outputs": [
        {
          "output_type": "stream",
          "name": "stdout",
          "text": [
            "Expanding dataset into building × month panel...\n",
            "Base panel shape: (20300865, 4)\n"
          ]
        }
      ]
    },
    {
      "cell_type": "code",
      "source": [
        "# Define static features (optional: adjust if any are missing)\n",
        "static_cols = [\n",
        "    \"ID_UEV\", \"LATITUDE\", \"LONGITUDE\", \"MUNICIPALITE\", \"ETAGE_HORS_SOL\",\n",
        "    \"NOMBRE_LOGEMENT\", \"AGE_BATIMENT\", \"CODE_UTILISATION\", \"CATEGORIE_UEF\",\n",
        "    \"SUPERFICIE_TERRAIN\", \"SUPERFICIE_BATIMENT\", \"NO_ARROND_ILE_CUM\",\n",
        "    \"RATIO_SURFACE\", \"DENSITE_LOGEMENT\", \"HAS_MULTIPLE_LOGEMENTS\",\n",
        "    \"FIRE_FREQUENCY_ZONE\", \"FIRE_RATE_ZONE\", \"FIRE_COUNT_LAST_YEAR_ZONE\",\n",
        "    \"BUILDING_COUNT\", \"FIRE_RATE_ZONE_NORM\", \"FIRE_COUNT_LAST_YEAR_ZONE_NORM\"\n",
        "]\n",
        "existing_cols = [col for col in static_cols if col in gdf.columns]\n",
        "print(\"Using static columns:\", existing_cols)"
      ],
      "metadata": {
        "colab": {
          "base_uri": "https://localhost:8080/"
        },
        "id": "wLmq6rtsBfPq",
        "outputId": "788e2dfe-7060-4ade-80f5-d10e1dd267c1"
      },
      "execution_count": 6,
      "outputs": [
        {
          "output_type": "stream",
          "name": "stdout",
          "text": [
            "Using static columns: ['ID_UEV', 'LATITUDE', 'LONGITUDE', 'MUNICIPALITE', 'ETAGE_HORS_SOL', 'NOMBRE_LOGEMENT', 'AGE_BATIMENT', 'CODE_UTILISATION', 'CATEGORIE_UEF', 'SUPERFICIE_TERRAIN', 'SUPERFICIE_BATIMENT', 'NO_ARROND_ILE_CUM', 'RATIO_SURFACE', 'DENSITE_LOGEMENT', 'HAS_MULTIPLE_LOGEMENTS', 'FIRE_FREQUENCY_ZONE', 'FIRE_RATE_ZONE', 'FIRE_COUNT_LAST_YEAR_ZONE', 'BUILDING_COUNT', 'FIRE_RATE_ZONE_NORM', 'FIRE_COUNT_LAST_YEAR_ZONE_NORM']\n"
          ]
        }
      ]
    },
    {
      "cell_type": "code",
      "source": [
        "# Filter static features\n",
        "static_features = gdf[existing_cols].drop_duplicates(subset=[\"ID_UEV\"])\n",
        "\n",
        "# Filter to valid IDs\n",
        "valid_ids = gdf[\"ID_UEV\"].unique()\n",
        "static_features = static_features[static_features[\"ID_UEV\"].isin(valid_ids)]"
      ],
      "metadata": {
        "id": "rW0gY1C-BjmO"
      },
      "execution_count": 7,
      "outputs": []
    },
    {
      "cell_type": "code",
      "source": [
        "# Rebuild panel\n",
        "panel = pd.MultiIndex.from_product(\n",
        "    [static_features[\"ID_UEV\"].unique(), all_months],\n",
        "    names=[\"ID_UEV\", \"month\"]\n",
        ").to_frame(index=False)\n",
        "panel = panel.merge(static_features, on=\"ID_UEV\", how=\"left\")\n",
        "print(f\"Static features merged: {panel.shape}\")"
      ],
      "metadata": {
        "colab": {
          "base_uri": "https://localhost:8080/"
        },
        "id": "JDeBJw1DBqZC",
        "outputId": "a6163caf-e6b4-4f7e-ad91-63391f601f16"
      },
      "execution_count": 8,
      "outputs": [
        {
          "output_type": "stream",
          "name": "stdout",
          "text": [
            "Static features merged: (20175155, 22)\n"
          ]
        }
      ]
    },
    {
      "cell_type": "code",
      "source": [
        "# Label fire presence (memory-efficient version)\n",
        "print(\"Labelling HAS_FIRE_THIS_MONTH efficiently...\")\n",
        "fires = gdf[gdf[\"fire\"] == True][[\"ID_UEV\", \"month\"]].drop_duplicates()\n",
        "fires_index = pd.MultiIndex.from_frame(fires)\n",
        "\n",
        "# Create a boolean mask indicating presence of fire\n",
        "panel[\"HAS_FIRE_THIS_MONTH\"] = (\n",
        "    panel.set_index([\"ID_UEV\", \"month\"]).index.isin(fires_index)\n",
        ").astype(int)"
      ],
      "metadata": {
        "colab": {
          "base_uri": "https://localhost:8080/"
        },
        "id": "6jsGS6aNBuq9",
        "outputId": "4bf96dec-2e91-43e0-a95b-ac4dcda8015f"
      },
      "execution_count": null,
      "outputs": [
        {
          "output_type": "stream",
          "name": "stdout",
          "text": [
            "Labelling HAS_FIRE_THIS_MONTH efficiently...\n"
          ]
        }
      ]
    },
    {
      "cell_type": "code",
      "source": [
        "# Lag features\n",
        "panel = panel.sort_values(by=[\"ID_UEV\", \"month\"])\n",
        "panel[\"fire_last_1m\"] = panel.groupby(\"ID_UEV\")[\"HAS_FIRE_THIS_MONTH\"].shift(1).fillna(0)\n",
        "panel[\"fire_last_2m\"] = panel.groupby(\"ID_UEV\")[\"HAS_FIRE_THIS_MONTH\"].shift(2).fillna(0)\n",
        "panel[\"fire_last_3m\"] = panel.groupby(\"ID_UEV\")[\"HAS_FIRE_THIS_MONTH\"].shift(3).fillna(0)"
      ],
      "metadata": {
        "colab": {
          "base_uri": "https://localhost:8080/",
          "height": 211
        },
        "id": "BRtRpdhYB3HD",
        "outputId": "54b1f7fa-cd24-42ea-96b8-d643720a2f85"
      },
      "execution_count": 1,
      "outputs": [
        {
          "output_type": "error",
          "ename": "NameError",
          "evalue": "name 'panel' is not defined",
          "traceback": [
            "\u001b[0;31m---------------------------------------------------------------------------\u001b[0m",
            "\u001b[0;31mNameError\u001b[0m                                 Traceback (most recent call last)",
            "\u001b[0;32m/tmp/ipython-input-1-1895308916.py\u001b[0m in \u001b[0;36m<cell line: 0>\u001b[0;34m()\u001b[0m\n\u001b[1;32m      1\u001b[0m \u001b[0;31m# Lag features\u001b[0m\u001b[0;34m\u001b[0m\u001b[0;34m\u001b[0m\u001b[0m\n\u001b[0;32m----> 2\u001b[0;31m \u001b[0mpanel\u001b[0m \u001b[0;34m=\u001b[0m \u001b[0mpanel\u001b[0m\u001b[0;34m.\u001b[0m\u001b[0msort_values\u001b[0m\u001b[0;34m(\u001b[0m\u001b[0mby\u001b[0m\u001b[0;34m=\u001b[0m\u001b[0;34m[\u001b[0m\u001b[0;34m\"ID_UEV\"\u001b[0m\u001b[0;34m,\u001b[0m \u001b[0;34m\"month\"\u001b[0m\u001b[0;34m]\u001b[0m\u001b[0;34m)\u001b[0m\u001b[0;34m\u001b[0m\u001b[0;34m\u001b[0m\u001b[0m\n\u001b[0m\u001b[1;32m      3\u001b[0m \u001b[0mpanel\u001b[0m\u001b[0;34m[\u001b[0m\u001b[0;34m\"fire_last_1m\"\u001b[0m\u001b[0;34m]\u001b[0m \u001b[0;34m=\u001b[0m \u001b[0mpanel\u001b[0m\u001b[0;34m.\u001b[0m\u001b[0mgroupby\u001b[0m\u001b[0;34m(\u001b[0m\u001b[0;34m\"ID_UEV\"\u001b[0m\u001b[0;34m)\u001b[0m\u001b[0;34m[\u001b[0m\u001b[0;34m\"HAS_FIRE_THIS_MONTH\"\u001b[0m\u001b[0;34m]\u001b[0m\u001b[0;34m.\u001b[0m\u001b[0mshift\u001b[0m\u001b[0;34m(\u001b[0m\u001b[0;36m1\u001b[0m\u001b[0;34m)\u001b[0m\u001b[0;34m.\u001b[0m\u001b[0mfillna\u001b[0m\u001b[0;34m(\u001b[0m\u001b[0;36m0\u001b[0m\u001b[0;34m)\u001b[0m\u001b[0;34m\u001b[0m\u001b[0;34m\u001b[0m\u001b[0m\n\u001b[1;32m      4\u001b[0m \u001b[0mpanel\u001b[0m\u001b[0;34m[\u001b[0m\u001b[0;34m\"fire_last_2m\"\u001b[0m\u001b[0;34m]\u001b[0m \u001b[0;34m=\u001b[0m \u001b[0mpanel\u001b[0m\u001b[0;34m.\u001b[0m\u001b[0mgroupby\u001b[0m\u001b[0;34m(\u001b[0m\u001b[0;34m\"ID_UEV\"\u001b[0m\u001b[0;34m)\u001b[0m\u001b[0;34m[\u001b[0m\u001b[0;34m\"HAS_FIRE_THIS_MONTH\"\u001b[0m\u001b[0;34m]\u001b[0m\u001b[0;34m.\u001b[0m\u001b[0mshift\u001b[0m\u001b[0;34m(\u001b[0m\u001b[0;36m2\u001b[0m\u001b[0;34m)\u001b[0m\u001b[0;34m.\u001b[0m\u001b[0mfillna\u001b[0m\u001b[0;34m(\u001b[0m\u001b[0;36m0\u001b[0m\u001b[0;34m)\u001b[0m\u001b[0;34m\u001b[0m\u001b[0;34m\u001b[0m\u001b[0m\n\u001b[1;32m      5\u001b[0m \u001b[0mpanel\u001b[0m\u001b[0;34m[\u001b[0m\u001b[0;34m\"fire_last_3m\"\u001b[0m\u001b[0;34m]\u001b[0m \u001b[0;34m=\u001b[0m \u001b[0mpanel\u001b[0m\u001b[0;34m.\u001b[0m\u001b[0mgroupby\u001b[0m\u001b[0;34m(\u001b[0m\u001b[0;34m\"ID_UEV\"\u001b[0m\u001b[0;34m)\u001b[0m\u001b[0;34m[\u001b[0m\u001b[0;34m\"HAS_FIRE_THIS_MONTH\"\u001b[0m\u001b[0;34m]\u001b[0m\u001b[0;34m.\u001b[0m\u001b[0mshift\u001b[0m\u001b[0;34m(\u001b[0m\u001b[0;36m3\u001b[0m\u001b[0;34m)\u001b[0m\u001b[0;34m.\u001b[0m\u001b[0mfillna\u001b[0m\u001b[0;34m(\u001b[0m\u001b[0;36m0\u001b[0m\u001b[0;34m)\u001b[0m\u001b[0;34m\u001b[0m\u001b[0;34m\u001b[0m\u001b[0m\n",
            "\u001b[0;31mNameError\u001b[0m: name 'panel' is not defined"
          ]
        }
      ]
    },
    {
      "cell_type": "code",
      "source": [
        "# Cumulative fire count\n",
        "panel[\"fire_cumcount\"] = (\n",
        "    panel.groupby(\"ID_UEV\")[\"HAS_FIRE_THIS_MONTH\"]\n",
        "    .transform(lambda x: x.shift().cumsum())\n",
        "    .fillna(0)\n",
        ")"
      ],
      "metadata": {
        "id": "CVyHNssKB5lx"
      },
      "execution_count": null,
      "outputs": []
    },
    {
      "cell_type": "code",
      "source": [
        "# Rolling counts\n",
        "panel[\"fire_rolling_3m\"] = (\n",
        "    panel.groupby(\"ID_UEV\")[\"HAS_FIRE_THIS_MONTH\"]\n",
        "    .transform(lambda x: x.shift().rolling(window=3, min_periods=1).sum())\n",
        "    .fillna(0)\n",
        ")\n",
        "panel[\"fire_rolling_6m\"] = (\n",
        "    panel.groupby(\"ID_UEV\")[\"HAS_FIRE_THIS_MONTH\"]\n",
        "    .transform(lambda x: x.shift().rolling(window=6, min_periods=1).sum())\n",
        "    .fillna(0)\n",
        ")\n",
        "panel[\"fire_rolling_12m\"] = (\n",
        "    panel.groupby(\"ID_UEV\")[\"HAS_FIRE_THIS_MONTH\"]\n",
        "    .transform(lambda x: x.shift().rolling(window=12, min_periods=1).sum())\n",
        "    .fillna(0)\n",
        ")"
      ],
      "metadata": {
        "id": "QsJmDw00B9HJ"
      },
      "execution_count": null,
      "outputs": []
    },
    {
      "cell_type": "code",
      "source": [
        "# Months since last fire\n",
        "panel[\"has_fire_last_month\"] = panel.groupby(\"ID_UEV\")[\"HAS_FIRE_THIS_MONTH\"].shift(1).fillna(0)\n",
        "panel[\"months_since_last_fire\"] = (\n",
        "    panel.groupby(\"ID_UEV\")[\"HAS_FIRE_THIS_MONTH\"]\n",
        "    .transform(lambda x: x.shift().apply(lambda val: 0 if val == 1 else None).ffill(limit=None).cumsum())\n",
        "    .fillna(999)\n",
        ")"
      ],
      "metadata": {
        "id": "CSHYz0DjB_57"
      },
      "execution_count": null,
      "outputs": []
    },
    {
      "cell_type": "code",
      "source": [
        "# Add month/year columns\n",
        "panel[\"month_num\"] = panel[\"month\"].dt.month\n",
        "panel[\"year\"] = panel[\"month\"].dt.year\n",
        "\n",
        "print(f\"✅ Final panel shape: {panel.shape}\")"
      ],
      "metadata": {
        "id": "vI9EKhIeCCei"
      },
      "execution_count": null,
      "outputs": []
    },
    {
      "cell_type": "code",
      "source": [
        "# Save output\n",
        "panel.to_csv(OUTPUT_PANEL, index=False)\n",
        "print(f\"✅ Panel saved to: {OUTPUT_PANEL}\")"
      ],
      "metadata": {
        "id": "UFAMGMITCEd4"
      },
      "execution_count": null,
      "outputs": []
    },
    {
      "cell_type": "code",
      "source": [
        "# 🚀 Import libraries\n",
        "import pandas as pd\n",
        "import geopandas as gpd\n",
        "from shapely.geometry import Point\n",
        "\n",
        "# ✅ Load the CSV\n",
        "df = pd.read_csv(\"evaluation_fire_coordinates_date_feat_eng_2.csv\")\n",
        "print(f\"✅ Loaded data: {df.shape}\")\n",
        "\n",
        "# ✅ Clean / Parse dates\n",
        "df[\"fire_date\"] = pd.to_datetime(df[\"fire_date\"], errors=\"coerce\")\n",
        "\n",
        "# ✅ Drop rows with missing essential data\n",
        "df = df.dropna(subset=[\"LONGITUDE\", \"LATITUDE\", \"ID_UEV\"])\n",
        "\n",
        "# ✅ Create geometry\n",
        "df[\"geometry\"] = df.apply(lambda row: Point(row[\"LONGITUDE\"], row[\"LATITUDE\"]), axis=1)\n",
        "\n",
        "# ✅ Convert to GeoDataFrame\n",
        "gdf = gpd.GeoDataFrame(df, geometry=\"geometry\", crs=\"EPSG:4326\").to_crs(\"EPSG:32188\")\n",
        "\n",
        "# ✅ OPTIONAL: Subset to avoid memory errors (take 40,000 buildings)\n",
        "unique_building_ids = gdf[\"ID_UEV\"].drop_duplicates().sample(n=40000, random_state=42)\n",
        "gdf_subset = gdf[gdf[\"ID_UEV\"].isin(unique_building_ids)]\n",
        "print(f\"✅ Subset size: {gdf_subset.shape}\")\n",
        "\n",
        "# ✅ Build all months range\n",
        "all_months = pd.period_range(start=gdf_subset[\"fire_date\"].dt.to_period(\"M\").min(),\n",
        "                             end=gdf_subset[\"fire_date\"].dt.to_period(\"M\").max(),\n",
        "                             freq=\"M\")\n",
        "\n",
        "# ✅ Create the base panel\n",
        "panel = pd.MultiIndex.from_product(\n",
        "    [gdf_subset[\"ID_UEV\"].unique(), all_months],\n",
        "    names=[\"ID_UEV\", \"month\"]\n",
        ").to_frame(index=False)\n",
        "\n",
        "# ✅ Merge static building info\n",
        "static_cols = [\n",
        "    \"ID_UEV\", \"LATITUDE\", \"LONGITUDE\", \"MUNICIPALITE\", \"ETAGE_HORS_SOL\",\n",
        "    \"NOMBRE_LOGEMENT\", \"AGE_BATIMENT\", \"CODE_UTILISATION\", \"CATEGORIE_UEF\",\n",
        "    \"SUPERFICIE_TERRAIN\", \"SUPERFICIE_BATIMENT\", \"NO_ARROND_ILE_CUM\",\n",
        "    \"RATIO_SURFACE\", \"DENSITE_LOGEMENT\", \"HAS_MULTIPLE_LOGEMENTS\",\n",
        "    \"FIRE_FREQUENCY_ZONE\", \"FIRE_RATE_ZONE\", \"FIRE_COUNT_LAST_YEAR_ZONE\",\n",
        "    \"BUILDING_COUNT\", \"FIRE_RATE_ZONE_NORM\", \"FIRE_COUNT_LAST_YEAR_ZONE_NORM\"\n",
        "]\n",
        "static_features = (\n",
        "    gdf_subset[static_cols]\n",
        "    .drop_duplicates(subset=[\"ID_UEV\"])\n",
        ")\n",
        "\n",
        "panel = panel.merge(static_features, on=\"ID_UEV\", how=\"left\")\n",
        "print(f\"✅ Panel after merging static features: {panel.shape}\")\n",
        "\n",
        "# ✅ Label fire presence\n",
        "fires = (\n",
        "    gdf_subset[gdf_subset[\"fire\"] == True][[\"ID_UEV\", \"fire_date\"]]\n",
        "    .drop_duplicates()\n",
        "    .assign(month=lambda d: d[\"fire_date\"].dt.to_period(\"M\"))\n",
        "    [[\"ID_UEV\", \"month\"]]\n",
        ")\n",
        "fires[\"HAS_FIRE_THIS_MONTH\"] = 1\n",
        "\n",
        "panel = panel.merge(fires, on=[\"ID_UEV\", \"month\"], how=\"left\")\n",
        "panel[\"HAS_FIRE_THIS_MONTH\"] = panel[\"HAS_FIRE_THIS_MONTH\"].fillna(0).astype(int)\n",
        "print(\"✅ Fire presence labeled\")\n",
        "\n",
        "# ✅ Lag features\n",
        "panel = panel.sort_values([\"ID_UEV\", \"month\"]).reset_index(drop=True)\n",
        "panel[\"fire_last_1m\"] = panel.groupby(\"ID_UEV\")[\"HAS_FIRE_THIS_MONTH\"].shift(1).fillna(0)\n",
        "panel[\"fire_last_2m\"] = panel.groupby(\"ID_UEV\")[\"HAS_FIRE_THIS_MONTH\"].shift(2).fillna(0)\n",
        "panel[\"fire_last_3m\"] = panel.groupby(\"ID_UEV\")[\"HAS_FIRE_THIS_MONTH\"].shift(3).fillna(0)\n",
        "\n",
        "# ✅ Cumulative and rolling fire counts\n",
        "panel[\"fire_cumcount\"] = (\n",
        "    panel.groupby(\"ID_UEV\")[\"HAS_FIRE_THIS_MONTH\"]\n",
        "    .transform(lambda x: x.shift().cumsum())\n",
        "    .fillna(0)\n",
        ")\n",
        "panel[\"fire_rolling_3m\"] = (\n",
        "    panel.groupby(\"ID_UEV\")[\"HAS_FIRE_THIS_MONTH\"]\n",
        "    .transform(lambda x: x.shift().rolling(3, min_periods=1).sum())\n",
        "    .fillna(0)\n",
        ")\n",
        "panel[\"fire_rolling_6m\"] = (\n",
        "    panel.groupby(\"ID_UEV\")[\"HAS_FIRE_THIS_MONTH\"]\n",
        "    .transform(lambda x: x.shift().rolling(6, min_periods=1).sum())\n",
        "    .fillna(0)\n",
        ")\n",
        "panel[\"fire_rolling_12m\"] = (\n",
        "    panel.groupby(\"ID_UEV\")[\"HAS_FIRE_THIS_MONTH\"]\n",
        "    .transform(lambda x: x.shift().rolling(12, min_periods=1).sum())\n",
        "    .fillna(0)\n",
        ")\n",
        "\n",
        "# ✅ Months since last fire\n",
        "panel[\"has_fire_last_month\"] = (\n",
        "    panel.groupby(\"ID_UEV\")[\"HAS_FIRE_THIS_MONTH\"].transform(lambda x: x.shift(1).fillna(0))\n",
        ")\n",
        "panel[\"months_since_last_fire\"] = (\n",
        "    panel.groupby(\"ID_UEV\")[\"HAS_FIRE_THIS_MONTH\"]\n",
        "    .transform(lambda x: x.shift().apply(lambda v: 0 if v == 1 else None).ffill(limit=None).cumsum())\n",
        "    .fillna(999)\n",
        ")\n",
        "\n",
        "# ✅ Add month and year numeric\n",
        "panel[\"month_num\"] = panel[\"month\"].dt.month\n",
        "panel[\"year\"] = panel[\"month\"].dt.year\n",
        "\n",
        "# ✅ Show info\n",
        "print(f\"✅ Final panel shape: {panel.shape}\")\n",
        "print(\"✅ Columns:\", list(panel.columns))\n",
        "\n",
        "# ✅ Download without saving to Colab directory\n",
        "from google.colab import files\n",
        "\n",
        "# Save to a temporary CSV\n",
        "panel.to_csv(\"building_month_fire_panel_feat_eng_SUBSET.csv\", index=False)\n",
        "files.download(\"building_month_fire_panel_feat_eng_SUBSET.csv\")"
      ],
      "metadata": {
        "colab": {
          "base_uri": "https://localhost:8080/",
          "height": 176
        },
        "id": "WnZ2sgg7Kckm",
        "outputId": "0f91193a-b14e-4462-d19f-ce3ed8a870e5"
      },
      "execution_count": 1,
      "outputs": [
        {
          "output_type": "stream",
          "name": "stdout",
          "text": [
            "✅ Loaded data: (663783, 31)\n",
            "✅ Subset size: (59341, 32)\n",
            "✅ Panel after merging static features: (2600000, 22)\n",
            "✅ Fire presence labeled\n"
          ]
        },
        {
          "output_type": "stream",
          "name": "stderr",
          "text": [
            "/tmp/ipython-input-1-2435902055.py:103: FutureWarning: Downcasting object dtype arrays on .fillna, .ffill, .bfill is deprecated and will change in a future version. Call result.infer_objects(copy=False) instead. To opt-in to the future behavior, set `pd.set_option('future.no_silent_downcasting', True)`\n",
            "  .fillna(999)\n"
          ]
        },
        {
          "output_type": "stream",
          "name": "stdout",
          "text": [
            "✅ Final panel shape: (2600618, 34)\n",
            "✅ Columns: ['ID_UEV', 'month', 'LATITUDE', 'LONGITUDE', 'MUNICIPALITE', 'ETAGE_HORS_SOL', 'NOMBRE_LOGEMENT', 'AGE_BATIMENT', 'CODE_UTILISATION', 'CATEGORIE_UEF', 'SUPERFICIE_TERRAIN', 'SUPERFICIE_BATIMENT', 'NO_ARROND_ILE_CUM', 'RATIO_SURFACE', 'DENSITE_LOGEMENT', 'HAS_MULTIPLE_LOGEMENTS', 'FIRE_FREQUENCY_ZONE', 'FIRE_RATE_ZONE', 'FIRE_COUNT_LAST_YEAR_ZONE', 'BUILDING_COUNT', 'FIRE_RATE_ZONE_NORM', 'FIRE_COUNT_LAST_YEAR_ZONE_NORM', 'HAS_FIRE_THIS_MONTH', 'fire_last_1m', 'fire_last_2m', 'fire_last_3m', 'fire_cumcount', 'fire_rolling_3m', 'fire_rolling_6m', 'fire_rolling_12m', 'has_fire_last_month', 'months_since_last_fire', 'month_num', 'year']\n"
          ]
        },
        {
          "output_type": "display_data",
          "data": {
            "text/plain": [
              "<IPython.core.display.Javascript object>"
            ],
            "application/javascript": [
              "\n",
              "    async function download(id, filename, size) {\n",
              "      if (!google.colab.kernel.accessAllowed) {\n",
              "        return;\n",
              "      }\n",
              "      const div = document.createElement('div');\n",
              "      const label = document.createElement('label');\n",
              "      label.textContent = `Downloading \"${filename}\": `;\n",
              "      div.appendChild(label);\n",
              "      const progress = document.createElement('progress');\n",
              "      progress.max = size;\n",
              "      div.appendChild(progress);\n",
              "      document.body.appendChild(div);\n",
              "\n",
              "      const buffers = [];\n",
              "      let downloaded = 0;\n",
              "\n",
              "      const channel = await google.colab.kernel.comms.open(id);\n",
              "      // Send a message to notify the kernel that we're ready.\n",
              "      channel.send({})\n",
              "\n",
              "      for await (const message of channel.messages) {\n",
              "        // Send a message to notify the kernel that we're ready.\n",
              "        channel.send({})\n",
              "        if (message.buffers) {\n",
              "          for (const buffer of message.buffers) {\n",
              "            buffers.push(buffer);\n",
              "            downloaded += buffer.byteLength;\n",
              "            progress.value = downloaded;\n",
              "          }\n",
              "        }\n",
              "      }\n",
              "      const blob = new Blob(buffers, {type: 'application/binary'});\n",
              "      const a = document.createElement('a');\n",
              "      a.href = window.URL.createObjectURL(blob);\n",
              "      a.download = filename;\n",
              "      div.appendChild(a);\n",
              "      a.click();\n",
              "      div.remove();\n",
              "    }\n",
              "  "
            ]
          },
          "metadata": {}
        },
        {
          "output_type": "display_data",
          "data": {
            "text/plain": [
              "<IPython.core.display.Javascript object>"
            ],
            "application/javascript": [
              "download(\"download_25cc570c-b2f8-4a43-a187-a848b20480ef\", \"building_month_fire_panel_feat_eng_SUBSET.csv\", 690112409)"
            ]
          },
          "metadata": {}
        }
      ]
    }
  ]
}