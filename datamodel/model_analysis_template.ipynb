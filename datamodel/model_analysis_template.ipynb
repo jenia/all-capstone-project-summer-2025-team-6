{
 "cells": [
  {
   "cell_type": "code",
   "execution_count": 2,
   "id": "5af7bab0",
   "metadata": {},
   "outputs": [],
   "source": [
    "import sys, os\n",
    "import pandas as pd\n",
    "import geopandas as gpd\n",
    "from shapely.geometry import Point\n",
    "from xgboost import XGBClassifier\n",
    "from sklearn.metrics import classification_report\n",
    "from sklearn.preprocessing import LabelEncoder\n",
    "from xgboost import XGBClassifier\n",
    "import pickle\n",
    "from pathlib import Path\n",
    "\n"
   ]
  },
  {
   "cell_type": "code",
   "execution_count": 6,
   "id": "9f4cbbdd",
   "metadata": {},
   "outputs": [],
   "source": [
    "ROOT = Path.cwd().parents[0]\n",
    "RESULT_FILE = ROOT / 'datamodel' / 'xgboost_panel_with_feat_label_enc_pred.csv'\n",
    "ENCODER_FILE  = ROOT / 'datamodel' / 'xgboost_panel_with_feat_label_enc.pkl'\n",
    "MODEL_FILE  = ROOT / 'datamodel' / 'xgboost_panel_with_feat.pkl'\n",
    "\n",
    "\n",
    "\n",
    "\n"
   ]
  },
  {
   "cell_type": "code",
   "execution_count": null,
   "id": "8a49d201",
   "metadata": {},
   "outputs": [],
   "source": [
    "# Reload categorical encoders from file\n",
    "with open(ENCODER_FILE, 'rb') as f:\n",
    "    categorical_encoders = pickle.load(f)\n",
    "\n",
    "# Reload model from file\n",
    "with open(MODEL_FILE, 'rb') as f:\n",
    "    categorical_encoders = pickle.load(f)\n",
    "\n"
   ]
  },
  {
   "cell_type": "code",
   "execution_count": 9,
   "id": "3d40a6dc",
   "metadata": {},
   "outputs": [],
   "source": [
    "df=pd.read_csv(RESULT_FILE)"
   ]
  }
 ],
 "metadata": {
  "kernelspec": {
   "display_name": "Python 3",
   "language": "python",
   "name": "python3"
  },
  "language_info": {
   "codemirror_mode": {
    "name": "ipython",
    "version": 3
   },
   "file_extension": ".py",
   "mimetype": "text/x-python",
   "name": "python",
   "nbconvert_exporter": "python",
   "pygments_lexer": "ipython3",
   "version": "3.11.9"
  }
 },
 "nbformat": 4,
 "nbformat_minor": 5
}
