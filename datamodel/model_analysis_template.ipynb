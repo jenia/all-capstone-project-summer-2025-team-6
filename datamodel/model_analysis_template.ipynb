{
 "cells": [
  {
   "cell_type": "code",
   "execution_count": 77,
   "id": "5af7bab0",
   "metadata": {},
   "outputs": [],
   "source": [
    "import sys, os\n",
    "import pandas as pd\n",
    "import numpy as np\n",
    "import geopandas as gpd\n",
    "from shapely.geometry import Point\n",
    "from xgboost import XGBClassifier\n",
    "from sklearn.metrics import classification_report\n",
    "from sklearn.preprocessing import LabelEncoder\n",
    "from xgboost import XGBClassifier\n",
    "import pickle\n",
    "from pathlib import Path\n",
    "\n"
   ]
  },
  {
   "cell_type": "code",
   "execution_count": 78,
   "id": "9f4cbbdd",
   "metadata": {},
   "outputs": [],
   "source": [
    "ROOT = Path.cwd().parents[0]\n",
    "model_name=\"xgboost_panel_with_feat\"\n",
    "FEATURE_LIST_FILE = ROOT / \"datamodel\" / f\"{model_name}_features.pkl\"\n",
    "MODEL_FILE = ROOT / \"datamodel\" / f\"{model_name}.pkl\"\n",
    "RESULT_FILE = ROOT / 'datamodel' / f\"{model_name}_pred.csv\"\n",
    "ENCODER_FILE  = ROOT / \"datamodel\" / f\"{model_name}_label_enc.pkl\"\n",
    "\n",
    "\n",
    "\n",
    "\n",
    "\n"
   ]
  },
  {
   "cell_type": "code",
   "execution_count": 79,
   "id": "8a49d201",
   "metadata": {},
   "outputs": [],
   "source": [
    "# Reload categorical encoders from file\n",
    "with open(ENCODER_FILE, 'rb') as f:\n",
    "    categorical_encoders = pickle.load(f)\n",
    "\n",
    "# Reload model from file\n",
    "with open(MODEL_FILE, 'rb') as f:\n",
    "    model = pickle.load(f)\n",
    "\n",
    "# Reload features from file\n",
    "with open(FEATURE_LIST_FILE, 'rb') as f:\n",
    "    features = pickle.load(f)\n"
   ]
  },
  {
   "cell_type": "code",
   "execution_count": 80,
   "id": "3d40a6dc",
   "metadata": {},
   "outputs": [],
   "source": [
    "df=pd.read_csv(RESULT_FILE)"
   ]
  },
  {
   "cell_type": "code",
   "execution_count": 95,
   "id": "38a42626",
   "metadata": {},
   "outputs": [
    {
     "data": {
      "text/plain": [
       "Index(['ID_UEV', 'month', 'LATITUDE', 'LONGITUDE', 'MUNICIPALITE',\n",
       "       'ETAGE_HORS_SOL', 'NOMBRE_LOGEMENT', 'AGE_BATIMENT', 'CODE_UTILISATION',\n",
       "       'CATEGORIE_UEF', 'SUPERFICIE_TERRAIN', 'SUPERFICIE_BATIMENT',\n",
       "       'NO_ARROND_ILE_CUM', 'RATIO_SURFACE', 'DENSITE_LOGEMENT',\n",
       "       'HAS_MULTIPLE_LOGEMENTS', 'FIRE_FREQUENCY_ZONE', 'FIRE_RATE_ZONE',\n",
       "       'FIRE_COUNT_LAST_YEAR_ZONE', 'BUILDING_COUNT', 'FIRE_RATE_ZONE_NORM',\n",
       "       'FIRE_COUNT_LAST_YEAR_ZONE_NORM', 'HAS_FIRE_THIS_MONTH', 'fire_last_1m',\n",
       "       'fire_last_2m', 'fire_last_3m', 'fire_cumcount', 'fire_rolling_3m',\n",
       "       'fire_rolling_6m', 'fire_rolling_12m', 'has_fire_last_month',\n",
       "       'months_since_last_fire', 'month_num', 'year', 'predicted_result',\n",
       "       'predicted_proba', 'target'],\n",
       "      dtype='object')"
      ]
     },
     "execution_count": 95,
     "metadata": {},
     "output_type": "execute_result"
    }
   ],
   "source": [
    "df.columns"
   ]
  },
  {
   "cell_type": "code",
   "execution_count": null,
   "id": "d2f513d8",
   "metadata": {},
   "outputs": [
    {
     "name": "stdout",
     "output_type": "stream",
     "text": [
      "          ID_UEV  actual_fire\n",
      "73       1000038            1\n",
      "85       1000039            1\n",
      "109      1000041            1\n",
      "133      1000043            1\n",
      "157      1000045            1\n",
      "...          ...          ...\n",
      "3724275  5307816            1\n",
      "3724287  5307817            1\n",
      "3724299  5307818            1\n",
      "3724311  5307819            1\n",
      "3724637  5308940            1\n",
      "\n",
      "[42788 rows x 2 columns]\n"
     ]
    },
    {
     "name": "stderr",
     "output_type": "stream",
     "text": [
      "C:\\Users\\thoma\\AppData\\Local\\Temp\\ipykernel_20460\\81974331.py:17: FutureWarning: A value is trying to be set on a copy of a DataFrame or Series through chained assignment using an inplace method.\n",
      "The behavior will change in pandas 3.0. This inplace method will never work because the intermediate object on which we are setting values always behaves as a copy.\n",
      "\n",
      "For example, when doing 'df[col].method(value, inplace=True)', try using 'df.method({col: value}, inplace=True)' or df[col] = df[col].method(value) instead, to perform the operation inplace on the original object.\n",
      "\n",
      "\n",
      "  result['actual_fire'].fillna(0,inplace=True)\n"
     ]
    },
    {
     "data": {
      "text/plain": [
       "actual_fire\n",
       "0.0    3912\n",
       "1.0    3588\n",
       "Name: count, dtype: int64"
      ]
     },
     "execution_count": 92,
     "metadata": {},
     "output_type": "execute_result"
    }
   ],
   "source": [
    "pred_year=2024\n",
    "top_predictions = df[df['year']==pred_year].sort_values(['predicted_proba', 'month_num'], \n",
    "                                        ascending=[False, False]) \\\n",
    "                             .groupby('ID_UEV') \\\n",
    "                             .first() \\\n",
    "                             .reset_index()\n",
    "    \n",
    "# Sort by probability and select top 7500\n",
    "result = top_predictions.sort_values('predicted_proba', \n",
    "                                       ascending=False) \\\n",
    "                           .head(7500)\n",
    "\n",
    "prioritization_list = result.merge(top_predictions)\n",
    "actual_fires=df[(df['year']==pred_year) & (df['target']==1)][['ID_UEV']].drop_duplicates().copy(deep=True)\n",
    "actual_fires['actual_fire']=1\n",
    "print(actual_fires)\n",
    "\n",
    "result=result.merge(actual_fires,how='left')\n",
    "result['actual_fire'].fillna(0,inplace=True)\n",
    "result['actual_fire'].value_counts()\n"
   ]
  },
  {
   "cell_type": "code",
   "execution_count": 93,
   "id": "98f5348b",
   "metadata": {},
   "outputs": [
    {
     "data": {
      "text/plain": [
       "1058"
      ]
     },
     "execution_count": 93,
     "metadata": {},
     "output_type": "execute_result"
    }
   ],
   "source": [
    "np.random.seed(42) #(for repeatability)\n",
    "\n",
    "random_pick=pd.DataFrame()\n",
    "#randomly pick 7500 buildings\n",
    "random_pick['ID_UEV']=np.random.choice(df['ID_UEV'].unique(),size=7500)\n",
    "random_pick.head()\n",
    "#merge with actual fires\n",
    "random_pick=random_pick.merge(actual_fires,how='left')\n",
    "random_pick['actual_fire']=random_pick['actual_fire'].fillna(0)\n",
    "random_pick['actual_fire'].value_counts()\n",
    "int(random_pick['actual_fire'].value_counts()[1])\n",
    "\n"
   ]
  },
  {
   "cell_type": "code",
   "execution_count": 94,
   "id": "a4e12f46",
   "metadata": {},
   "outputs": [
    {
     "name": "stdout",
     "output_type": "stream",
     "text": [
      "predicted high probability value with actual fires\n"
     ]
    },
    {
     "data": {
      "text/html": [
       "<div>\n",
       "<style scoped>\n",
       "    .dataframe tbody tr th:only-of-type {\n",
       "        vertical-align: middle;\n",
       "    }\n",
       "\n",
       "    .dataframe tbody tr th {\n",
       "        vertical-align: top;\n",
       "    }\n",
       "\n",
       "    .dataframe thead th {\n",
       "        text-align: right;\n",
       "    }\n",
       "</style>\n",
       "<table border=\"1\" class=\"dataframe\">\n",
       "  <thead>\n",
       "    <tr style=\"text-align: right;\">\n",
       "      <th></th>\n",
       "      <th>Method</th>\n",
       "      <th>Actual fire*</th>\n",
       "      <th>Precision@K</th>\n",
       "    </tr>\n",
       "  </thead>\n",
       "  <tbody>\n",
       "    <tr>\n",
       "      <th>0</th>\n",
       "      <td>Random pick</td>\n",
       "      <td>1058</td>\n",
       "      <td>14.11%</td>\n",
       "    </tr>\n",
       "    <tr>\n",
       "      <th>1</th>\n",
       "      <td>Highest predicted risk</td>\n",
       "      <td>3588</td>\n",
       "      <td>47.84%</td>\n",
       "    </tr>\n",
       "  </tbody>\n",
       "</table>\n",
       "</div>"
      ],
      "text/plain": [
       "                   Method  Actual fire* Precision@K\n",
       "0             Random pick          1058      14.11%\n",
       "1  Highest predicted risk          3588      47.84%"
      ]
     },
     "execution_count": 94,
     "metadata": {},
     "output_type": "execute_result"
    }
   ],
   "source": [
    "print(\"predicted high probability value with actual fires\")\n",
    "result_df=pd.DataFrame()\n",
    "result_df['Method']=['Random pick','Highest predicted risk']\n",
    "result_df['Actual fire*']=[int(random_pick['actual_fire'].value_counts()[1]),int(result['actual_fire'].value_counts()[1])]\n",
    "result_df['Precision@K']=result_df['Actual fire*'].apply(lambda x:f\"{x/7500:.2%}\")\n",
    "result_df"
   ]
  },
  {
   "cell_type": "code",
   "execution_count": 96,
   "id": "8d10c5c2",
   "metadata": {},
   "outputs": [
    {
     "data": {
      "text/plain": [
       "42788"
      ]
     },
     "execution_count": 96,
     "metadata": {},
     "output_type": "execute_result"
    }
   ],
   "source": [
    "len(actual_fires['ID_UEV'])"
   ]
  },
  {
   "cell_type": "code",
   "execution_count": 88,
   "id": "bcf6cfde",
   "metadata": {},
   "outputs": [
    {
     "data": {
      "text/plain": [
       "310387"
      ]
     },
     "execution_count": 88,
     "metadata": {},
     "output_type": "execute_result"
    }
   ],
   "source": [
    "len(df['ID_UEV'].unique())"
   ]
  },
  {
   "cell_type": "code",
   "execution_count": null,
   "id": "e61ca3f4",
   "metadata": {},
   "outputs": [],
   "source": [
    "len(df[(df['year']==pred_year) & (df['target']==1)][['ID_UEV']])"
   ]
  },
  {
   "cell_type": "code",
   "execution_count": 91,
   "id": "076a7b34",
   "metadata": {},
   "outputs": [
    {
     "data": {
      "text/plain": [
       "42788"
      ]
     },
     "execution_count": 91,
     "metadata": {},
     "output_type": "execute_result"
    }
   ],
   "source": [
    "len(df[(df['year']==2024) & (df['target'])]['ID_UEV'].unique())"
   ]
  },
  {
   "cell_type": "code",
   "execution_count": null,
   "id": "12723a9a",
   "metadata": {},
   "outputs": [
    {
     "name": "stdout",
     "output_type": "stream",
     "text": [
      "Random pick: \n",
      "target\n",
      "0    7406\n",
      "1      94\n",
      "Name: count, dtype: int64\n",
      "Predicted :\n",
      "target\n",
      "0    6881\n",
      "1     619\n",
      "Name: count, dtype: int64\n"
     ]
    }
   ],
   "source": [
    "#this method is extracting highest risks in predicted set vs random but may return multiple times the same building\n",
    "# so it's probably best not to use it\n",
    "\n",
    "print(\"Random pick: \")\n",
    "print(df.iloc[np.random.choice(df.index.to_list(),size=7500)]['target'].value_counts())\n",
    "print(\"Predicted :\")\n",
    "print(df.nlargest(7500,columns='predicted_proba')['target'].value_counts())"
   ]
  },
  {
   "cell_type": "code",
   "execution_count": 45,
   "id": "a32b0a04",
   "metadata": {},
   "outputs": [
    {
     "name": "stdout",
     "output_type": "stream",
     "text": [
      "[0.02402052 0.02489714 0.13272934 0.04110989 0.01749733 0.03444773\n",
      " 0.02249078 0.01440536 0.09380012 0.3459575  0.0495928  0.\n",
      " 0.         0.         0.         0.         0.05008211 0.03246946\n",
      " 0.02193386 0.03720846 0.02561954 0.03173818]\n",
      "22 22\n",
      "['MUNICIPALITE', 'ETAGE_HORS_SOL', 'NOMBRE_LOGEMENT', 'AGE_BATIMENT', 'CODE_UTILISATION', 'CATEGORIE_UEF', 'SUPERFICIE_TERRAIN', 'SUPERFICIE_BATIMENT', 'NO_ARROND_ILE_CUM', 'RATIO_SURFACE', 'DENSITE_LOGEMENT', 'HAS_MULTIPLE_LOGEMENTS', 'FIRE_FREQUENCY_ZONE', 'BUILDING_COUNT', 'FIRE_RATE_ZONE_NORM', 'FIRE_COUNT_LAST_YEAR_ZONE_NORM', 'fire_cumcount', 'fire_rolling_3m', 'fire_rolling_6m', 'fire_rolling_12m', 'month_num', 'year']\n",
      "                           Feature  Gini Importance\n",
      "9                    RATIO_SURFACE         0.345957\n",
      "2                  NOMBRE_LOGEMENT         0.132729\n",
      "8                NO_ARROND_ILE_CUM         0.093800\n",
      "16                   fire_cumcount         0.050082\n",
      "10                DENSITE_LOGEMENT         0.049593\n",
      "3                     AGE_BATIMENT         0.041110\n",
      "19                fire_rolling_12m         0.037208\n",
      "5                    CATEGORIE_UEF         0.034448\n",
      "17                 fire_rolling_3m         0.032469\n",
      "21                            year         0.031738\n",
      "20                       month_num         0.025620\n",
      "1                   ETAGE_HORS_SOL         0.024897\n",
      "0                     MUNICIPALITE         0.024021\n",
      "6               SUPERFICIE_TERRAIN         0.022491\n",
      "18                 fire_rolling_6m         0.021934\n",
      "4                 CODE_UTILISATION         0.017497\n",
      "7              SUPERFICIE_BATIMENT         0.014405\n",
      "11          HAS_MULTIPLE_LOGEMENTS         0.000000\n",
      "13                  BUILDING_COUNT         0.000000\n",
      "12             FIRE_FREQUENCY_ZONE         0.000000\n",
      "14             FIRE_RATE_ZONE_NORM         0.000000\n",
      "15  FIRE_COUNT_LAST_YEAR_ZONE_NORM         0.000000\n"
     ]
    }
   ],
   "source": [
    "#feature_names=list(set(list(df.columns)) -set(['target,predicted_result','predicted_proba']))\n",
    "importances = model.feature_importances_\n",
    "print(importances) \n",
    "print(len(importances),len(features))\n",
    "print(features)\n",
    "feature_imp_df = pd.DataFrame({'Feature': features, 'Gini Importance': importances}).sort_values('Gini Importance', ascending=False) \n",
    "print(feature_imp_df)\n"
   ]
  }
 ],
 "metadata": {
  "kernelspec": {
   "display_name": "Python 3",
   "language": "python",
   "name": "python3"
  },
  "language_info": {
   "codemirror_mode": {
    "name": "ipython",
    "version": 3
   },
   "file_extension": ".py",
   "mimetype": "text/x-python",
   "name": "python",
   "nbconvert_exporter": "python",
   "pygments_lexer": "ipython3",
   "version": "3.11.9"
  }
 },
 "nbformat": 4,
 "nbformat_minor": 5
}
