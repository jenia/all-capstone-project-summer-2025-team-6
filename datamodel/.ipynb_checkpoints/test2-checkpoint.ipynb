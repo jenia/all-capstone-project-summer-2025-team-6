{
 "cells": [
  {
   "cell_type": "code",
   "execution_count": 3,
   "id": "1365fd4a",
   "metadata": {},
   "outputs": [],
   "source": [
    "import os\n",
    "import pandas as pd\n",
    "import geopandas as gpd\n",
    "from shapely.geometry import Point\n",
    "from xgboost import XGBClassifier\n",
    "from sklearn.metrics import classification_report"
   ]
  },
  {
   "cell_type": "code",
   "execution_count": 6,
   "id": "e2b9e05f",
   "metadata": {},
   "outputs": [
    {
     "name": "stdout",
     "output_type": "stream",
     "text": [
      "Working directory: C:\\Users\\mirei\\OneDrive\\Desktop\\all-capstone-project-summer-2025-team-6-main\\datamodel\n",
      "File exists: False\n"
     ]
    }
   ],
   "source": [
    "\n",
    "import os\n",
    "print(\"Working directory:\", os.getcwd())\n",
    "print(\"File exists:\", os.path.exists(INPUT_CSV))\n"
   ]
  },
  {
   "cell_type": "code",
   "execution_count": 7,
   "id": "ee301496",
   "metadata": {},
   "outputs": [],
   "source": [
    "import os\n",
    "\n",
    "# Adjusted path for use in notebook\n",
    "INPUT_CSV = os.path.join(\"..\", \"datasets\", \"cleaned\", \"evaluation_with_fire_and_coordinates_and_date.csv\")\n",
    "OUTPUT_PANEL = os.path.join(\"building_month_fire_panel.csv\")  # Output is okay to save in datamodel\n",
    "\n",
    "# Load the dataset\n",
    "import pandas as pd\n",
    "df = pd.read_csv(INPUT_CSV)\n"
   ]
  },
  {
   "cell_type": "code",
   "execution_count": 8,
   "id": "e28fce1f",
   "metadata": {},
   "outputs": [
    {
     "data": {
      "text/html": [
       "<div>\n",
       "<style scoped>\n",
       "    .dataframe tbody tr th:only-of-type {\n",
       "        vertical-align: middle;\n",
       "    }\n",
       "\n",
       "    .dataframe tbody tr th {\n",
       "        vertical-align: top;\n",
       "    }\n",
       "\n",
       "    .dataframe thead th {\n",
       "        text-align: right;\n",
       "    }\n",
       "</style>\n",
       "<table border=\"1\" class=\"dataframe\">\n",
       "  <thead>\n",
       "    <tr style=\"text-align: right;\">\n",
       "      <th></th>\n",
       "      <th>ID_UEV</th>\n",
       "      <th>CIVIQUE_DEBUT</th>\n",
       "      <th>CIVIQUE_FIN</th>\n",
       "      <th>NOM_RUE</th>\n",
       "      <th>SUITE_DEBUT</th>\n",
       "      <th>MUNICIPALITE</th>\n",
       "      <th>ETAGE_HORS_SOL</th>\n",
       "      <th>NOMBRE_LOGEMENT</th>\n",
       "      <th>ANNEE_CONSTRUCTION</th>\n",
       "      <th>CODE_UTILISATION</th>\n",
       "      <th>...</th>\n",
       "      <th>MATRICULE83</th>\n",
       "      <th>SUPERFICIE_TERRAIN</th>\n",
       "      <th>SUPERFICIE_BATIMENT</th>\n",
       "      <th>NO_ARROND_ILE_CUM</th>\n",
       "      <th>NOM_RUE_CLEAN</th>\n",
       "      <th>fire_date</th>\n",
       "      <th>fire</th>\n",
       "      <th>ADDR_DE</th>\n",
       "      <th>LONGITUDE</th>\n",
       "      <th>LATITUDE</th>\n",
       "    </tr>\n",
       "  </thead>\n",
       "  <tbody>\n",
       "    <tr>\n",
       "      <th>0</th>\n",
       "      <td>1038405</td>\n",
       "      <td>3577</td>\n",
       "      <td>3577</td>\n",
       "      <td>avenue Atwater  (MTL+WMT)</td>\n",
       "      <td>NaN</td>\n",
       "      <td>50</td>\n",
       "      <td>1.0</td>\n",
       "      <td>1.0</td>\n",
       "      <td>1983.0</td>\n",
       "      <td>1921</td>\n",
       "      <td>...</td>\n",
       "      <td>9739-83-9737-8-001-0431</td>\n",
       "      <td>2</td>\n",
       "      <td>16.0</td>\n",
       "      <td>REM19</td>\n",
       "      <td>avenue atwater</td>\n",
       "      <td>NaN</td>\n",
       "      <td>False</td>\n",
       "      <td>3577.0</td>\n",
       "      <td>-73.588602</td>\n",
       "      <td>45.493711</td>\n",
       "    </tr>\n",
       "    <tr>\n",
       "      <th>1</th>\n",
       "      <td>5213144</td>\n",
       "      <td>5211</td>\n",
       "      <td>5211</td>\n",
       "      <td>rue du Sureau  (PFD)</td>\n",
       "      <td>105</td>\n",
       "      <td>50</td>\n",
       "      <td>1.0</td>\n",
       "      <td>1.0</td>\n",
       "      <td>2012.0</td>\n",
       "      <td>1000</td>\n",
       "      <td>...</td>\n",
       "      <td>7941-06-3037-4-001-0004</td>\n",
       "      <td>69</td>\n",
       "      <td>68.0</td>\n",
       "      <td>REM31</td>\n",
       "      <td>rue du sureau</td>\n",
       "      <td>NaN</td>\n",
       "      <td>False</td>\n",
       "      <td>NaN</td>\n",
       "      <td>NaN</td>\n",
       "      <td>NaN</td>\n",
       "    </tr>\n",
       "    <tr>\n",
       "      <th>2</th>\n",
       "      <td>1036349</td>\n",
       "      <td>3550</td>\n",
       "      <td>3550</td>\n",
       "      <td>rue de la Montagne  (MTL)</td>\n",
       "      <td>109</td>\n",
       "      <td>50</td>\n",
       "      <td>3.0</td>\n",
       "      <td>1.0</td>\n",
       "      <td>1983.0</td>\n",
       "      <td>1000</td>\n",
       "      <td>...</td>\n",
       "      <td>9840-31-8010-6-001-0005</td>\n",
       "      <td>133</td>\n",
       "      <td>127.0</td>\n",
       "      <td>REM19</td>\n",
       "      <td>rue de la montagne</td>\n",
       "      <td>NaN</td>\n",
       "      <td>False</td>\n",
       "      <td>NaN</td>\n",
       "      <td>NaN</td>\n",
       "      <td>NaN</td>\n",
       "    </tr>\n",
       "    <tr>\n",
       "      <th>3</th>\n",
       "      <td>5189527</td>\n",
       "      <td>1200</td>\n",
       "      <td>1200</td>\n",
       "      <td>rue Saint-Alexandre  (MTL)</td>\n",
       "      <td>511</td>\n",
       "      <td>50</td>\n",
       "      <td>1.0</td>\n",
       "      <td>1.0</td>\n",
       "      <td>1963.0</td>\n",
       "      <td>1000</td>\n",
       "      <td>...</td>\n",
       "      <td>9940-55-8522-7-001-0257</td>\n",
       "      <td>16</td>\n",
       "      <td>62.0</td>\n",
       "      <td>REM19</td>\n",
       "      <td>rue saint-alexandre</td>\n",
       "      <td>NaN</td>\n",
       "      <td>False</td>\n",
       "      <td>NaN</td>\n",
       "      <td>NaN</td>\n",
       "      <td>NaN</td>\n",
       "    </tr>\n",
       "    <tr>\n",
       "      <th>4</th>\n",
       "      <td>1037334</td>\n",
       "      <td>1254</td>\n",
       "      <td>1254</td>\n",
       "      <td>rue Saint-Marc  (MTL)</td>\n",
       "      <td>61</td>\n",
       "      <td>50</td>\n",
       "      <td>1.0</td>\n",
       "      <td>1.0</td>\n",
       "      <td>1914.0</td>\n",
       "      <td>1000</td>\n",
       "      <td>...</td>\n",
       "      <td>9839-51-6255-9-001-0013</td>\n",
       "      <td>16</td>\n",
       "      <td>82.0</td>\n",
       "      <td>REM19</td>\n",
       "      <td>rue saint-marc</td>\n",
       "      <td>2023-01-07 01:45:48</td>\n",
       "      <td>True</td>\n",
       "      <td>1254.0</td>\n",
       "      <td>-73.579815</td>\n",
       "      <td>45.492286</td>\n",
       "    </tr>\n",
       "  </tbody>\n",
       "</table>\n",
       "<p>5 rows × 24 columns</p>\n",
       "</div>"
      ],
      "text/plain": [
       "    ID_UEV  CIVIQUE_DEBUT  CIVIQUE_FIN                     NOM_RUE  \\\n",
       "0  1038405           3577         3577   avenue Atwater  (MTL+WMT)   \n",
       "1  5213144           5211         5211        rue du Sureau  (PFD)   \n",
       "2  1036349           3550         3550   rue de la Montagne  (MTL)   \n",
       "3  5189527           1200         1200  rue Saint-Alexandre  (MTL)   \n",
       "4  1037334           1254         1254       rue Saint-Marc  (MTL)   \n",
       "\n",
       "  SUITE_DEBUT  MUNICIPALITE  ETAGE_HORS_SOL  NOMBRE_LOGEMENT  \\\n",
       "0         NaN            50             1.0              1.0   \n",
       "1         105            50             1.0              1.0   \n",
       "2         109            50             3.0              1.0   \n",
       "3         511            50             1.0              1.0   \n",
       "4          61            50             1.0              1.0   \n",
       "\n",
       "  ANNEE_CONSTRUCTION  CODE_UTILISATION  ...              MATRICULE83  \\\n",
       "0             1983.0              1921  ...  9739-83-9737-8-001-0431   \n",
       "1             2012.0              1000  ...  7941-06-3037-4-001-0004   \n",
       "2             1983.0              1000  ...  9840-31-8010-6-001-0005   \n",
       "3             1963.0              1000  ...  9940-55-8522-7-001-0257   \n",
       "4             1914.0              1000  ...  9839-51-6255-9-001-0013   \n",
       "\n",
       "  SUPERFICIE_TERRAIN SUPERFICIE_BATIMENT NO_ARROND_ILE_CUM  \\\n",
       "0                  2                16.0             REM19   \n",
       "1                 69                68.0             REM31   \n",
       "2                133               127.0             REM19   \n",
       "3                 16                62.0             REM19   \n",
       "4                 16                82.0             REM19   \n",
       "\n",
       "         NOM_RUE_CLEAN            fire_date   fire ADDR_DE  LONGITUDE  \\\n",
       "0       avenue atwater                  NaN  False  3577.0 -73.588602   \n",
       "1        rue du sureau                  NaN  False     NaN        NaN   \n",
       "2   rue de la montagne                  NaN  False     NaN        NaN   \n",
       "3  rue saint-alexandre                  NaN  False     NaN        NaN   \n",
       "4       rue saint-marc  2023-01-07 01:45:48   True  1254.0 -73.579815   \n",
       "\n",
       "    LATITUDE  \n",
       "0  45.493711  \n",
       "1        NaN  \n",
       "2        NaN  \n",
       "3        NaN  \n",
       "4  45.492286  \n",
       "\n",
       "[5 rows x 24 columns]"
      ]
     },
     "execution_count": 8,
     "metadata": {},
     "output_type": "execute_result"
    }
   ],
   "source": [
    "df.head()"
   ]
  },
  {
   "cell_type": "code",
   "execution_count": 9,
   "id": "2541e406",
   "metadata": {},
   "outputs": [
    {
     "data": {
      "text/plain": [
       "(663783, 24)"
      ]
     },
     "execution_count": 9,
     "metadata": {},
     "output_type": "execute_result"
    }
   ],
   "source": [
    "df.shape\n"
   ]
  },
  {
   "cell_type": "code",
   "execution_count": 10,
   "id": "f1629657",
   "metadata": {},
   "outputs": [],
   "source": [
    "df[\"fire_date\"] = pd.to_datetime(df[\"fire_date\"], errors=\"coerce\")\n",
    "df[\"month\"] = df[\"fire_date\"].dt.to_period(\"M\")\n",
    "df = df.dropna(subset=[\"LONGITUDE\", \"LATITUDE\", \"ID_UEV\"])\n",
    "df[\"geometry\"] = df.apply(lambda row: Point(row[\"LONGITUDE\"], row[\"LATITUDE\"]), axis=1)\n",
    "gdf = gpd.GeoDataFrame(df, geometry=\"geometry\", crs=\"EPSG:4326\").to_crs(\"EPSG:32188\")\n"
   ]
  },
  {
   "cell_type": "code",
   "execution_count": 12,
   "id": "1757e2ad",
   "metadata": {},
   "outputs": [],
   "source": [
    "\n",
    "# 🔸 Construct panel: building × month\n",
    "unique_buildings = gdf[[\"ID_UEV\", \"LATITUDE\", \"LONGITUDE\"]].drop_duplicates()\n",
    "all_months = pd.period_range(start=gdf[\"month\"].min(), end=gdf[\"month\"].max(), freq=\"M\")\n",
    "panel = pd.MultiIndex.from_product([unique_buildings[\"ID_UEV\"], all_months],\n",
    "                                   names=[\"ID_UEV\", \"month\"]).to_frame(index=False)\n",
    "panel = panel.merge(unique_buildings, on=\"ID_UEV\", how=\"left\")"
   ]
  },
  {
   "cell_type": "code",
   "execution_count": 13,
   "id": "878aceda",
   "metadata": {},
   "outputs": [],
   "source": [
    "# 🔸 Label fire presence\n",
    "fires = gdf[gdf[\"fire\"] == True][[\"ID_UEV\", \"month\"]].drop_duplicates()\n",
    "fires[\"HAS_FIRE_THIS_MONTH\"] = 1\n",
    "panel = panel.merge(fires, on=[\"ID_UEV\", \"month\"], how=\"left\")\n",
    "panel[\"HAS_FIRE_THIS_MONTH\"] = panel[\"HAS_FIRE_THIS_MONTH\"].fillna(0).astype(int)"
   ]
  },
  {
   "cell_type": "code",
   "execution_count": 14,
   "id": "07113065",
   "metadata": {},
   "outputs": [],
   "source": [
    "\n",
    "# 🔸 Add time-based features\n",
    "panel[\"month_num\"] = panel[\"month\"].dt.month\n",
    "panel[\"year\"] = panel[\"month\"].dt.year\n"
   ]
  },
  {
   "cell_type": "code",
   "execution_count": 15,
   "id": "5fd9c897",
   "metadata": {},
   "outputs": [
    {
     "data": {
      "text/plain": [
       "(20582705, 7)"
      ]
     },
     "execution_count": 15,
     "metadata": {},
     "output_type": "execute_result"
    }
   ],
   "source": [
    "panel.shape"
   ]
  },
  {
   "cell_type": "code",
   "execution_count": 16,
   "id": "b6fced07",
   "metadata": {},
   "outputs": [
    {
     "name": "stdout",
     "output_type": "stream",
     "text": [
      "310387\n"
     ]
    }
   ],
   "source": [
    "print(unique_buildings[\"ID_UEV\"].nunique())  # Is it really 663,783?\n"
   ]
  },
  {
   "cell_type": "code",
   "execution_count": 17,
   "id": "6b2ee622",
   "metadata": {},
   "outputs": [
    {
     "name": "stdout",
     "output_type": "stream",
     "text": [
      "2020-01 2025-05\n",
      "65\n"
     ]
    }
   ],
   "source": [
    "print(gdf[\"month\"].min(), gdf[\"month\"].max())\n",
    "print(len(all_months))  # How many months?\n"
   ]
  },
  {
   "cell_type": "markdown",
   "id": "70125b1b",
   "metadata": {},
   "source": [
    " So what's wrong?\n",
    "This panel assumes every building existed or was active during all 65 months, which is likely unrealistic.\n",
    "\n",
    "In reality:\n",
    "\n",
    "Some buildings might have fire incidents only in a few months.\n",
    "\n",
    "Some buildings may not appear at all during some years.\n",
    "\n",
    "✅ Recommendation: Build a sparse panel (only active building-month pairs)\n",
    "Instead of using from_product, use real building × month pairs from the dataset:\n",
    "\n",
    "✅ Efficient replacement for dense panel"
   ]
  },
  {
   "cell_type": "code",
   "execution_count": 19,
   "id": "716a1ec6",
   "metadata": {},
   "outputs": [],
   "source": [
    "# 🔹 Use only real building-months\n",
    "panel = gdf[[\"ID_UEV\", \"month\"]].drop_duplicates()\n",
    "\n",
    "# 🔹 Add back LAT/LON for geolocation\n",
    "panel = panel.merge(unique_buildings, on=\"ID_UEV\", how=\"left\")\n",
    "\n",
    "# 🔹 Label fire presence\n",
    "fires = gdf[gdf[\"fire\"] == True][[\"ID_UEV\", \"month\"]].drop_duplicates()\n",
    "fires[\"HAS_FIRE_THIS_MONTH\"] = 1\n",
    "\n",
    "panel = panel.merge(fires, on=[\"ID_UEV\", \"month\"], how=\"left\")\n",
    "panel[\"HAS_FIRE_THIS_MONTH\"] = panel[\"HAS_FIRE_THIS_MONTH\"].fillna(0).astype(int)\n",
    "\n",
    "# 🔹 Add time features\n",
    "panel[\"month_num\"] = panel[\"month\"].dt.month\n",
    "panel[\"year\"] = panel[\"month\"].dt.year\n"
   ]
  },
  {
   "cell_type": "code",
   "execution_count": 21,
   "id": "1f368318",
   "metadata": {},
   "outputs": [
    {
     "data": {
      "text/plain": [
       "(456761, 7)"
      ]
     },
     "execution_count": 21,
     "metadata": {},
     "output_type": "execute_result"
    }
   ],
   "source": [
    "panel.shape"
   ]
  },
  {
   "cell_type": "markdown",
   "id": "c0361c9b",
   "metadata": {},
   "source": [
    "✅ Next Suggested Steps\n",
    "Now that your panel looks good:\n",
    "\n",
    "1. Join Feature Engineering Columns\n",
    "You likely had engineered features (e.g., RATIO_SURFACE, AGE_BATIMENT, FIRE_RATE_ZONE, etc.) in your original evaluation dataset.\n",
    "\n",
    "To bring them in:\n",
    "\n",
    "python\n",
    "Copy\n",
    "Edit\n"
   ]
  },
  {
   "cell_type": "code",
   "execution_count": null,
   "id": "40572461",
   "metadata": {},
   "outputs": [],
   "source": [
    "# Keep only static + spatial features per building\n",
    "features_static = gdf.drop_duplicates(\"ID_UEV\")[[\n",
    "    \"ID_UEV\", \"MUNICIPALITE\", \"ETAGE_HORS_SOL\", \"NOMBRE_LOGEMENT\", \"AGE_BATIMENT\",\n",
    "    \"CODE_UTILISATION\", \"CATEGORIE_UEF\", \"SUPERFICIE_TERRAIN\", \"SUPERFICIE_BATIMENT\",\n",
    "    \"NO_ARROND_ILE_CUM\", \"RATIO_SURFACE\", \"DENSITE_LOGEMENT\", \"HAS_MULTIPLE_LOGEMENTS\",\n",
    "    \"FIRE_FREQUENCY_ZONE\", \"FIRE_RATE_ZONE\", \"FIRE_COUNT_LAST_YEAR_ZONE\", \"BUILDING_COUNT\",\n",
    "    \"FIRE_RATE_ZONE_NORM\", \"FIRE_COUNT_LAST_YEAR_ZONE_NORM\"\n",
    "]]\n",
    "\n",
    "# Merge with panel\n",
    "panel = panel.merge(features_static, on=\"ID_UEV\", how=\"left\")\n"
   ]
  }
 ],
 "metadata": {
  "kernelspec": {
   "display_name": "Python 3 (ipykernel)",
   "language": "python",
   "name": "python3"
  },
  "language_info": {
   "codemirror_mode": {
    "name": "ipython",
    "version": 3
   },
   "file_extension": ".py",
   "mimetype": "text/x-python",
   "name": "python",
   "nbconvert_exporter": "python",
   "pygments_lexer": "ipython3",
   "version": "3.11.7"
  }
 },
 "nbformat": 4,
 "nbformat_minor": 5
}
