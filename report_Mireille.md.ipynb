{
 "cells": [
  {
   "cell_type": "markdown",
   "id": "c358601f",
   "metadata": {},
   "source": [

    "```commandline python ./dataprep/evaluation_fonciere.py ===> eval_cleaned.csv\n",
    "\n",
    "(to drop later if it doesn't crash the code of others)+ for feature engineering use eval_cleaned_feat_eng.csv\n",
    "\n",
    "🔍 Summary of Code Workflow\n",
    "This script performs data cleaning and feature engineering on the Montréal property evaluation dataset (uniteevaluationfonciere.csv). The goal is to prepare a high-quality dataset for fire risk modeling by cleaning critical variables, imputing missing values intelligently, and generating informative derived features.\n",
    "\n",
    "✅ Main Steps:\n",
    "Read raw data from CSV.\n",
    "Clean key columns: ANNEE_CONSTRUCTION, NOMBRE_LOGEMENT, ETAGE_HORS_SOL, and SUPERFICIE_BATIMENT.\n",
    "Impute missing values using borough-level and building-type-level medians.\n",
    "Engineer new features:\n",
    "AGE_BATIMENT\n",
    "RATIO_SURFACE\n",
    "DENSITE_LOGEMENT\n",
    "HAS_MULTIPLE_LOGEMENTS\n",
    "FIRE_FREQUENCY_ZONE\n",
    "Normalize numeric features using MinMaxScaler.\n",
    "Export the cleaned and enriched dataset to eval_cleaned_feat_eng.csv.\n",
    "🧹 Data Cleaning & Feature Engineering Summary\n",
    "📌 Data Cleaning Summary\n",
    "Column\tCleaning Strategy\n",
    "ANNEE_CONSTRUCTION\t- Removed unrealistic values (<1800 or >2025)\n",
    "                       - Imputed by borough median for \"Logement/Immeuble\"  \n",
    "                       - Fallback: `\"unknown\"` |\n",
    "| NOMBRE_LOGEMENT | - Imputed using median by (borough, building type)\n",
    "- Fallback: borough-level median | | ETAGE_HORS_SOL | - Imputed using median by (borough, building type)\n",
    "- Fallback: borough-level median | | SUPERFICIE_BATIMENT | - Imputed using median by (borough, building type)\n",
    "- Fallback: borough-level median |\n",
    "\n",
    "🏗️ Feature Engineering Summary\n",
    "Feature Name\tDescription\n",
    "AGE_BATIMENT\tBuilding age = 2025 - construction year\n",
    "RATIO_SURFACE\tSUPERFICIE_BATIMENT / SUPERFICIE_TERRAIN\n",
    "DENSITE_LOGEMENT\tNOMBRE_LOGEMENT / SUPERFICIE_BATIMENT\n",
    "HAS_MULTIPLE_LOGEMENTS\tBinary flag: 1 if more than one housing unit, 0 otherwise\n",
    "FIRE_FREQUENCY_ZONE\tProxy for fire risk: number of buildings in the same NO_ARROND_ILE_CUM\n",
    "All continuous features were normalized using MinMaxScaler.\n",
    "\n",
    "🗃️ Dropped or Excluded Columns\n",
    "Temporary or unused columns were dropped before final export:\n",
    "\n",
    "_ANNEE_CONSTRUCTION_NUM (intermediate)\n",
    "Future features like IS_UNKNOWN_YEAR, IS_MIXED_USE, etc.\n",
    "Any columns used only during cleaning/imputation logic\n",
    "📦 Final Output Columns\n",
    "The following columns are present in the output file eval_cleaned_feat_eng.csv:\n",
    "\n",
    "```text [ 'ID_UEV', 'CIVIQUE_DEBUT', 'CIVIQUE_FIN', 'NOM_RUE', 'SUITE_DEBUT', 'MUNICIPALITE', 'ETAGE_HORS_SOL', 'NOMBRE_LOGEMENT', 'ANNEE_CONSTRUCTION', 'CODE_UTILISATION', 'LETTRE_DEBUT', 'LETTRE_FIN', 'LIBELLE_UTILISATION', 'CATEGORIE_UEF', 'MATRICULE83', 'SUPERFICIE_TERRAIN', 'SUPERFICIE_BATIMENT', 'NO_ARROND_ILE_CUM', 'AGE_BATIMENT', 'RATIO_SURFACE', 'DENSITE_LOGEMENT', 'HAS_MULTIPLE_LOGEMENTS', 'FIRE_FREQUENCY_ZONE' ]\n",
    "\n",
    "​"
   ]
  },
  {
   "cell_type": "markdown",
   "id": "27b98f12",
   "metadata": {},
   "source": []
  },
  {
   "cell_type": "code",
   "execution_count": null,
   "id": "49762d2e",
   "metadata": {},
   "outputs": [],
   "source": []
  }
 ],
 "metadata": {
  "kernelspec": {
   "display_name": "Python 3 (ipykernel)",
   "language": "python",
   "name": "python3"
  },
  "language_info": {
   "codemirror_mode": {
    "name": "ipython",
    "version": 3
   },
   "file_extension": ".py",
   "mimetype": "text/x-python",
   "name": "python",
   "nbconvert_exporter": "python",
   "pygments_lexer": "ipython3",
   "version": "3.11.7"
  }
 },
 "nbformat": 4,
 "nbformat_minor": 5
}
